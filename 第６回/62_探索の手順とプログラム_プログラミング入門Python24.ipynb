{
  "nbformat": 4,
  "nbformat_minor": 0,
  "metadata": {
    "colab": {
      "provenance": [],
      "collapsed_sections": [
        "WX4sRVO63me5",
        "FnSBdgK-Bwtz"
      ]
    },
    "kernelspec": {
      "name": "python3",
      "display_name": "Python 3"
    }
  },
  "cells": [
    {
      "cell_type": "markdown",
      "source": [
        "# 第6章 整列、探索、計算量、再帰"
      ],
      "metadata": {
        "id": "H2ggOoUOBT6p"
      }
    },
    {
      "cell_type": "markdown",
      "source": [
        " * 左上の「ファイル」を開いて、「ドライブにコピーを保存」をしてください。\n",
        " * 自分のGoogleドライブに、そのファイルが保存されます。ファイル名は「のコピー」が、最後（右端）についています。それを利用して学習・演習を進めて下さい。"
      ],
      "metadata": {
        "id": "lm7oxHNx4rIf"
      }
    },
    {
      "cell_type": "markdown",
      "source": [
        "# 6.2 探索の手順とプログラム"
      ],
      "metadata": {
        "id": "VgOeAlL91loU"
      }
    },
    {
      "cell_type": "markdown",
      "source": [
        "いま、$C_0, C_1, \\cdots, C_{n-1}$の、$n$枚のカードがあり、手順が始まるまえに、すでに、その値は設定されているとする。探したい値を、$q$とする。すなわち、$C_k=q$となる$k$の値を求めることが必要となる。\n",
        "\n",
        "さて、コンピュータはどのようにして情報を探しているのだろうか。ある特定の条件を満たすものがあるかどうかを調べる作業のことを、「探索」（サーチ）という。このとき、探索したいデータのことをクエリという。データを探索するアルゴリズムは何通りもあり、それぞれに長所・短所がある。ここでは、探索アルゴリズムを2つ説明する。\n",
        "\n",
        "以下のアルゴリズムでは、リスト b の中に、クエリと一致する要素を探すという状況で考える。"
      ],
      "metadata": {
        "id": "1bQFHTR8z_bn"
      }
    },
    {
      "cell_type": "markdown",
      "source": [
        "## 全探索と線形探索"
      ],
      "metadata": {
        "id": "IjdZs6Wt1d8f"
      }
    },
    {
      "cell_type": "markdown",
      "source": [
        "コンピュータの内部では情報はすべてメモリに記憶されていて、メモリは一列に並べられている。クエリがデータベースの中にあるのかを、メモリの端から端まで調べる方法を全探索という。小説の中にある単語が含まれているか調べるなどの場合は、この方法を利用する。\n",
        "\n",
        "表示だけでなく、見つかったか見つからなかったかに応じて、ある変数の値を設定して、他で利用することも考えるためには、例えば、変数 flag の値を、つぎのように計算する手順を作ることにする。\n",
        "\n",
        "* flag が 0 → 見つからなかった\n",
        "* flag が 1 → 見つかった"
      ],
      "metadata": {
        "id": "pI3bkFem1rhl"
      }
    },
    {
      "cell_type": "markdown",
      "source": [
        "### 全探索のプログラム"
      ],
      "metadata": {
        "id": "nRcy3Med4jY_"
      }
    },
    {
      "cell_type": "markdown",
      "source": [
        "全探索では、データをすべて探す。見つかっても途中で中止しない。"
      ],
      "metadata": {
        "id": "bMMCMe4a46Yh"
      }
    },
    {
      "cell_type": "markdown",
      "source": [
        "【プログラム6201】"
      ],
      "metadata": {
        "id": "-Wyfg3FJYlbn"
      }
    },
    {
      "cell_type": "code",
      "source": [
        "# 全探索の関数 あったら 1 、なかったら 0 を返す\n",
        "def zentansaku(target, query):\n",
        "    flag = 0\n",
        "    for item in target:\n",
        "        print(item, \"is\", query, \"?\")\n",
        "        if item == query:\n",
        "            flag = 1\n",
        "    return flag\n",
        "\n",
        "b = (85, 96, 6, 22, 10, 94, 71, 38, 43, 63)\n",
        "# 判定結果のメッセージ\n",
        "kekka = (\"nakatta\", \"atta\")\n",
        "\n",
        "# 入力させる\n",
        "x = int(input('x?'))\n",
        "\n",
        "# 出力\n",
        "print(kekka[zentansaku(b, x)])"
      ],
      "metadata": {
        "id": "OPeE6m9VqT89"
      },
      "execution_count": null,
      "outputs": []
    },
    {
      "cell_type": "markdown",
      "source": [
        "### 線形探索"
      ],
      "metadata": {
        "id": "4I95KC-J4yjW"
      }
    },
    {
      "cell_type": "markdown",
      "source": [
        "線形探索の場合、探したいカードが見つかったら、return を行うと、for は、この時点で終了する。\n"
      ],
      "metadata": {
        "id": "671IbAAv14ME"
      }
    },
    {
      "cell_type": "markdown",
      "source": [
        "【プログラム6202】"
      ],
      "metadata": {
        "id": "zbniQqeeYopn"
      }
    },
    {
      "cell_type": "code",
      "source": [
        "# 線形探索の関数 あったら 1 、なかったら 0 を返す\n",
        "def senkeitansaku(target, query):\n",
        "    for item in target:\n",
        "        print(item, \"is\", query, \"?\")\n",
        "        if item == query:\n",
        "            flag = 1\n",
        "            return flag\n",
        "    return 0\n",
        "\n",
        "b = (85, 96, 6, 22, 10, 94, 71, 38, 43, 63)\n",
        "# 判定結果のメッセージ\n",
        "kekka = (\"nakatta\", \"atta\")\n",
        "\n",
        "# 入力させる\n",
        "x = int(input('x?'))\n",
        "\n",
        "# 出力\n",
        "print(kekka[senkeitansaku(b, x)])"
      ],
      "metadata": {
        "id": "ZDWPhnOErDpk"
      },
      "execution_count": null,
      "outputs": []
    },
    {
      "cell_type": "markdown",
      "source": [
        "関数の中ではない場合は、for のループを止めるために、break という命令を利用する。\n"
      ],
      "metadata": {
        "id": "KYFPU3b8rTg0"
      }
    },
    {
      "cell_type": "markdown",
      "source": [
        "【プログラム6203】"
      ],
      "metadata": {
        "id": "1C6zas1tYpx1"
      }
    },
    {
      "cell_type": "code",
      "source": [
        "b = (85, 96, 6, 22, 10, 94, 71, 38, 43, 63)\n",
        "flag = 0\n",
        "\n",
        "# 判定結果のメッセージ\n",
        "kekka = (\"nakatta\", \"atta\")\n",
        "\n",
        "# 入力させる\n",
        "query = int(input('query?'))\n",
        "\n",
        "for i in b:\n",
        "    print(query, \"is\", i, \"?\")\n",
        "    if ( query == i ):\n",
        "        flag = 1\n",
        "        break\n",
        "\n",
        "# 出力\n",
        "print(kekka[flag])"
      ],
      "metadata": {
        "id": "1c7zQYrf1-3A"
      },
      "execution_count": null,
      "outputs": []
    },
    {
      "cell_type": "markdown",
      "source": [
        "## 二分探索"
      ],
      "metadata": {
        "id": "CtZRvsa70ngm"
      }
    },
    {
      "cell_type": "markdown",
      "source": [
        "$C_0, C_1, \\cdots, C_{n-1}$の、$n$枚のカードがあり、すべて左から右に整列済みであると仮定する。\n",
        "\n",
        "このとき、値$q$が、このカードの中にあるかどうかを調べるために、まず、カードをちょうどまんなかで半分に分け、左側の右端（小さい値を持つ側のもっとも大きい値）と$q$を比較する。\n",
        "\n",
        "* そこに探している値があれば、そこで終了する。\n",
        "* もし、$q$の方が大きいなら、この右側をさらに半分にする。\n",
        "* もし、$q$の方が小さいなら、この左側をさらに半分にする。\n",
        "\n",
        "これを何度も、最後の1枚になるまで続ける。このようにして探索範囲を半分ずつにしていく方法を二分探索という。"
      ],
      "metadata": {
        "id": "twq1_84e2-C1"
      }
    },
    {
      "cell_type": "markdown",
      "source": [
        "### 二分探索のプログラム"
      ],
      "metadata": {
        "id": "hwuj7-tF3_YV"
      }
    },
    {
      "cell_type": "markdown",
      "source": [
        "もし、リスト b[0]$\\sim$b[1022] が整列されているならば、リストの前半の最大値b[511]とqueryの大小関係を比較することで、次のことがわかる。\n",
        "\n",
        "* query $=$ b[511] ならば、見つかった。\n",
        "* query $<$ b[511] ならば b[0]$\\sim$b[510]を調べればよい\n",
        "* query $>$ b[511] ならば b[512]$\\sim$b[1022]を調べればよい\n",
        "\n",
        "見つからなかった場合、511個のどこにあるかを探すことになる。\n",
        "\n",
        "例えば、ここで b[0]$\\sim$b[510]側を調べることになったら、今度は query と b[255] を比較することで、\n",
        "\n",
        "* query $=$ b[255] ならば、見つかった。\n",
        "* query $<$ b[255] ならば b[0]$\\sim$b[254]を調べればよい\n",
        "* query $>$ b[255] ならば b[256]$\\sim$b[510]を調べればよい\n",
        "\n",
        "見つからなかった場合、255個のどこにあるかを探すことになる。"
      ],
      "metadata": {
        "id": "SRHtTOr_3pjl"
      }
    },
    {
      "cell_type": "markdown",
      "source": [
        "【プログラム6204】"
      ],
      "metadata": {
        "id": "QO-5p3slYq9k"
      }
    },
    {
      "cell_type": "code",
      "source": [
        "# 二分探索の関数 あったら 1 、なかったら 0 を返す\n",
        "def nibuntansaku(target, query):\n",
        "    nagasa = len(target)\n",
        "    start = 0\n",
        "    end = nagasa - 1\n",
        "\n",
        "    while start <= end:\n",
        "        center = int((start + end) / 2)\n",
        "        if query == b[center]:\n",
        "            return 1\n",
        "        elif query < b[center]:\n",
        "            end = center - 1\n",
        "        else:\n",
        "            start = center + 1\n",
        "    return 0\n",
        "\n",
        "b = (1, 6, 10, 12, 21, 22, 25, 29, 38, 43, 44, 63, 71, 85, 94, 96)\n",
        "# 判定結果のメッセージ\n",
        "kekka = (\"nakatta\", \"atta\")\n",
        "\n",
        "# 入力させる\n",
        "x = int(input('x?'))\n",
        "\n",
        "# 出力\n",
        "print(kekka[nibuntansaku(b, x)])"
      ],
      "metadata": {
        "id": "4ZDUXlyksACq"
      },
      "execution_count": null,
      "outputs": []
    },
    {
      "cell_type": "markdown",
      "source": [
        "## 【注意】Pythonの内部機能を利用した探索"
      ],
      "metadata": {
        "id": "CbYH3rZQ85EZ"
      }
    },
    {
      "cell_type": "markdown",
      "source": [
        "Pythonには、リストの中身から要素を探索する in という方法がある。\n",
        "\n",
        "この授業では、「探索の手順を知ることによって、アルゴリズムによる計算技法を身に付ける」ことを目的とするため、in を利用せず、自前で探索プログラムを作成している。\n",
        "\n",
        "実用プログラミングでは、 in を利用するほうがよい。"
      ],
      "metadata": {
        "id": "N0k9_oQL82GV"
      }
    },
    {
      "cell_type": "markdown",
      "source": [
        "【プログラム6205】"
      ],
      "metadata": {
        "id": "4HFLSn_eYsYK"
      }
    },
    {
      "cell_type": "code",
      "source": [
        "b = (1, 6, 10, 12, 21, 22, 25, 29, 38, 43, 44, 63, 71, 85, 94, 96)\n",
        "# 判定結果のメッセージ\n",
        "kekka = (\"nakatta\", \"atta\")\n",
        "\n",
        "# 入力させる\n",
        "x = int(input('x?'))\n",
        "\n",
        "# in を利用した探索\n",
        "if x in b:\n",
        "    mitsukatta = 1\n",
        "else:\n",
        "    mitsukatta = 0\n",
        "\n",
        "# 出力\n",
        "print(kekka[mitsukatta])"
      ],
      "metadata": {
        "id": "BKnH934r9Gj7"
      },
      "execution_count": null,
      "outputs": []
    },
    {
      "cell_type": "markdown",
      "source": [
        "# 次の教材\n",
        "\n",
        "6.3 計算量\n",
        "* https://colab.research.google.com/drive/1SYJ5ohMy4Unw1JY5HV1QXKUuxfO3Ksyd"
      ],
      "metadata": {
        "id": "-o3ginKuPfTG"
      }
    }
  ]
}