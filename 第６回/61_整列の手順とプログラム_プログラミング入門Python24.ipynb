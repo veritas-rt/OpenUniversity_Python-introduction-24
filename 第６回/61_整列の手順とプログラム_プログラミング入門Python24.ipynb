{
  "nbformat": 4,
  "nbformat_minor": 0,
  "metadata": {
    "colab": {
      "provenance": [],
      "collapsed_sections": [
        "WX4sRVO63me5",
        "FnSBdgK-Bwtz"
      ]
    },
    "kernelspec": {
      "name": "python3",
      "display_name": "Python 3"
    }
  },
  "cells": [
    {
      "cell_type": "markdown",
      "source": [
        "# 第6章 整列、探索、計算量、再帰"
      ],
      "metadata": {
        "id": "mHON3KhHJDNm"
      }
    },
    {
      "cell_type": "markdown",
      "source": [
        " * 左上の「ファイル」を開いて、「ドライブにコピーを保存」をしてください。\n",
        " * 自分のGoogleドライブに、そのファイルが保存されます。ファイル名は「のコピー」が、最後（右端）についています。それを利用して学習・演習を進めて下さい。"
      ],
      "metadata": {
        "id": "lm7oxHNx4rIf"
      }
    },
    {
      "cell_type": "markdown",
      "source": [
        "* データを、大きい順や小さい順に並べ替える整列\n",
        "* 大量のデータから、目的データがあるかどうかを調べる探索の方法（全探索、線形探索、二分探索）\n",
        "* 計算量の考え方、計算量の具体例\n",
        "* 再帰的定義を利用した計算\n",
        "* 再帰的定義による整列\n",
        "\n"
      ],
      "metadata": {
        "id": "b4zrntW4qWC_"
      }
    },
    {
      "cell_type": "markdown",
      "metadata": {
        "id": "E48_NUmmTyg6"
      },
      "source": [
        "# 6.1 整列の手順とプログラム"
      ]
    },
    {
      "cell_type": "markdown",
      "metadata": {
        "id": "OQnH2OteTzMk"
      },
      "source": [
        "データを取り扱うときに、そのデータを小さい順や大きい順などに並べておくことがおおい。例えば、二分探索を行うには、要素がすべて整列されていることが必要となる。\n",
        "\n",
        "このような並べ替えのことを整列（sort）と言う。データを整列するアルゴリズムは何通りもあり、それぞれに長所・短所がある。ここでは、対象を、以下の数が書かれたカードであるとする。\n",
        "\n",
        " \\begin{array}{|c|c|c|c|c|c|c|}\n",
        " \\hline\n",
        " 6 & 4 & 3 & 7 & 1 & 2 & 5\\\\\n",
        " \\hline\n",
        " \\end{array}"
      ]
    },
    {
      "cell_type": "markdown",
      "metadata": {
        "id": "4DU2mT8ET7eG"
      },
      "source": [
        "### 値を交換する手順"
      ]
    },
    {
      "cell_type": "markdown",
      "metadata": {
        "id": "jqxaBgfiT9Wf"
      },
      "source": [
        "これから述べるアルゴリズムは、一列に並べられた10枚のカードのなかから、2枚のカードの置き場所を交換するように、リスト b の2つの要素の値を交換して処理を進める。\n",
        "\n",
        "これには、片方のリスト要素の値を一時的に覚えておく専用の変数(例では tmp)を用意しておくという工夫が必要となる。\n",
        "\n",
        "+ b[2] が531\n",
        "+ b[5] が163\n",
        "\n",
        "↓\n",
        "\n",
        "+ tmp = b[2]\n",
        "+ b[2] = b[5]\n",
        "+ b[5] = tmp\n",
        "\n",
        "↓\n",
        "\n",
        "+ b[2] が163\n",
        "+ b[5] が531\n",
        "\n",
        "多くのプログラミング言語では、このようにして、一時的な変数を用意しておく必要があるが、Pythonは、ここを、\n",
        "\n",
        "+ b[2], b[5] = b[5], b[2]\n",
        "\n",
        "のように簡単に書くことができる。"
      ]
    },
    {
      "cell_type": "markdown",
      "metadata": {
        "id": "NaBKzYtZUSJM"
      },
      "source": [
        "##選択ソート"
      ]
    },
    {
      "cell_type": "markdown",
      "metadata": {
        "id": "dpCTKUJ1Uci5"
      },
      "source": [
        "まず、選択ソートという方法について述べる。\n",
        "\n",
        "+ 第1段階: まず、一番左端に、このなかで最小の数が来るように、カード（数値）の交換をする。\n",
        "+ 第2段階: 残りの数の中で最小の数を左から2番目になるようにする。\n",
        "+ 第3段階: 残りの数の中で最小の数を左から3番目になるようにする。\n",
        "+ 第4段階: 残りの数の中で最小の数を左から4番目になるようにする。\n"
      ]
    },
    {
      "cell_type": "markdown",
      "metadata": {
        "id": "eBOid2D1UfV9"
      },
      "source": [
        "### 選択ソート法のアルゴリズムの記述"
      ]
    },
    {
      "cell_type": "markdown",
      "metadata": {
        "id": "9ARLt4V_UiBp"
      },
      "source": [
        "いま、$C_0, C_1, \\cdots, C_{n-1}$ の、 $n$ 枚のカードがあり、この手順が始まるまえに、すでに、その値は設定されているとする。そのとき、選択ソートをPythonで記述すると、次のプログラムとなる。"
      ]
    },
    {
      "cell_type": "markdown",
      "source": [
        "#### 選択ソートのプログラム（その1）\n",
        "\n",
        "* 第1段階: まず、一番左端に、このなかで最小の数が来るように、カード（数値）の交換をする。\n",
        "\n",
        "を詳しく書くと、次のとおりになる。\n",
        "\n",
        "* 最小値を探すときに、\n",
        "* 左（最初）端のカードから、ずーっと右に見ていって、\n",
        "* 最小値の場所（何番目か？） min_pos を覚えて\n",
        "* 右端まで見終わったら、最も左と交換する"
      ],
      "metadata": {
        "id": "Fkbbk3TWGUIZ"
      }
    },
    {
      "cell_type": "markdown",
      "source": [
        "【プログラム6101】"
      ],
      "metadata": {
        "id": "xrRAVnWmYdn-"
      }
    },
    {
      "cell_type": "code",
      "source": [
        "# 選択ソート1\n",
        "# 最小値となる位置を覚えながら実行する\n",
        "import random as rd #動作テスト用に乱数ライブラリを使うので、先に宣言しておく\n",
        "\n",
        "def selectionsort(card):\n",
        "    nagasa=len(card)\n",
        "    for s in range(nagasa - 1):\n",
        "        min_pos=s\n",
        "        for x in range(s + 1, nagasa):\n",
        "            if card[min_pos] > card[x]:\n",
        "                min_pos = x\n",
        "        if card[s] > card[min_pos]:\n",
        "            card[s], card[min_pos] = card[min_pos], card[s]\n",
        "        print(card)\n",
        "    return card\n",
        "\n",
        "# 0以上999以下の乱数を kosu 個生成してリストにする\n",
        "kosu = 10\n",
        "min_r, max_r = 0, 999\n",
        "\n",
        "# min_r 以上 max_r以下の乱数を kosu個 生成する\n",
        "narabi = [rd.randint(min_r, max_r) for _ in range(kosu)]\n",
        "\n",
        "print(\"Before: \"+ str(narabi)) # 整列前を表示\n",
        "narabi = selectionsort(narabi)\n",
        "print(\"After_: \"+ str(narabi)) # 整列後を表示"
      ],
      "metadata": {
        "id": "YsTGjYZX-pel"
      },
      "execution_count": null,
      "outputs": []
    },
    {
      "cell_type": "markdown",
      "source": [
        "#### 選択ソートのプログラム（その2）\n",
        "\n",
        "* 第1段階: まず、一番左端に、このなかで最小の数が来るように、カード（数値）の交換をする。\n",
        "\n",
        "を詳しく書くと、次のとおりになる。\n",
        "\n",
        " * 最も左のカードを左手に持ち上げる。\n",
        " * 右手には、その右のカードを持ち上げる。\n",
        "   * もし、右手のカードのほうが小さな値が書かれていれば、両手の2枚を交換する。\n",
        " * これを、右手のカードを、順に右に進めながら取り換えながら行っていくと、最終的に、左手に、最も小さな値が書かれたカードを持つことになる。そのカードを最も左に置く。"
      ],
      "metadata": {
        "id": "m81CJcjn6tGP"
      }
    },
    {
      "cell_type": "markdown",
      "source": [
        "【プログラム6102】"
      ],
      "metadata": {
        "id": "fD-bGqiVYfi0"
      }
    },
    {
      "cell_type": "code",
      "metadata": {
        "id": "o8HhkqY0Uk0S"
      },
      "source": [
        "# 選択ソート2\n",
        "import random as rd #動作テスト用に乱数ライブラリを使うので、先に宣言しておく\n",
        "\n",
        "def selectionsort(card):\n",
        "    nagasa = len(card)\n",
        "    # 左手に持つカードは、card[h]\n",
        "    for h in range(nagasa - 1):\n",
        "    # 右手に持つカードは、 card[m]\n",
        "        for m in range(h + 1, nagasa):\n",
        "            if card[h] > card[m]:\n",
        "                card[h], card[m] = card[m], card[h]\n",
        "        print(card)\n",
        "    return card\n",
        "\n",
        "# 0以上999以下の乱数を kosu 個生成してリストにする\n",
        "kosu = 10\n",
        "min_r, max_r = 0, 999\n",
        "\n",
        "# min_r 以上 max_r以下の乱数を kosu個 生成する\n",
        "narabi = [rd.randint(min_r, max_r) for _ in range(kosu)]\n",
        "\n",
        "print(\"Before: \"+ str(narabi)) # 整列前を表示\n",
        "narabi = selectionsort(narabi)\n",
        "print(\"After_: \"+ str(narabi)) # 整列後を表示"
      ],
      "execution_count": null,
      "outputs": []
    },
    {
      "cell_type": "markdown",
      "metadata": {
        "id": "IOl5tsouV8Tu"
      },
      "source": [
        "### 選択ソートの計算の手間"
      ]
    },
    {
      "cell_type": "markdown",
      "metadata": {
        "id": "IdFbJ8p1V_Jp"
      },
      "source": [
        "ここでは、上記のアルゴリズムにある、$C_s$ と $C_e$ を比較する回数を考える。以下では、$ n $ をリストの長さとする。\n",
        "\n",
        "* まず、s in range(n-1) で、 $ n-1 $ 回の作業を行う。\n",
        "  * $ s = 0, 1, 2, .... n-2 $ と変化する。\n",
        "  * 各作業は、$ n - 1 - s $ 回の比較である。\n",
        "\n",
        "したがって、\n",
        "$$ (n-1) + (n-2) + \\cdots + 2 + 1 = \\frac{n(n-1)}{2} $$ 回の比較が行われる。"
      ]
    },
    {
      "cell_type": "markdown",
      "metadata": {
        "id": "0-Jbxb0aWJKt"
      },
      "source": [
        "## 【注意】Pythonの内部関数を利用した整列"
      ]
    },
    {
      "cell_type": "markdown",
      "metadata": {
        "id": "7EszNyYTWLGR"
      },
      "source": [
        "Pythonには、リストの中身を整列する sorted という関数がある。\n",
        "\n",
        "この授業では、「整列の手順を知ることによって、アルゴリズムによる計算技法を身に付ける」ことを目的とするため、sorted を利用せず、自前で整列プログラムを作成している。\n",
        "\n",
        "実用プログラミングでは、 sorted を利用するほうがよい。"
      ]
    },
    {
      "cell_type": "markdown",
      "source": [
        "【プログラム6103】"
      ],
      "metadata": {
        "id": "NuRtQQaYYha5"
      }
    },
    {
      "cell_type": "code",
      "source": [
        "import random as rd #動作テスト用に乱数ライブラリを使うので、先に宣言しておく\n",
        "\n",
        "# 0以上999以下の乱数を kosu 個生成してリストにする\n",
        "kosu = 12\n",
        "min_r, max_r = 0, 999\n",
        "\n",
        "# min_r 以上 max_r以下の乱数を kosu個 生成する\n",
        "narabi = [rd.randint(min_r, max_r) for _ in range(kosu)]\n",
        "\n",
        "print(\"Before: \"+ str(narabi)) # 整列前を表示\n",
        "narabi = sorted(narabi) # sorted は、タプルやリストを整列する組み込み関数\n",
        "print(\"After_: \"+ str(narabi)) # 整列後を表示"
      ],
      "metadata": {
        "id": "6K0tCpW8lb9I"
      },
      "execution_count": null,
      "outputs": []
    },
    {
      "cell_type": "markdown",
      "source": [
        "# 次の教材\n",
        "\n",
        "6.2 探索の手順とプログラム\n",
        "* https://colab.research.google.com/drive/1LAr7L69a8BLl1NJsNtf2u_YLLZEv0M3Q"
      ],
      "metadata": {
        "id": "-o3ginKuPfTG"
      }
    }
  ]
}