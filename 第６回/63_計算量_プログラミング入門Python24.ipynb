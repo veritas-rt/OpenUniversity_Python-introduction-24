{
  "nbformat": 4,
  "nbformat_minor": 0,
  "metadata": {
    "colab": {
      "provenance": [],
      "collapsed_sections": [
        "WX4sRVO63me5",
        "FnSBdgK-Bwtz"
      ]
    },
    "kernelspec": {
      "name": "python3",
      "display_name": "Python 3"
    }
  },
  "cells": [
    {
      "cell_type": "markdown",
      "source": [
        "# 第6章 整列、探索、計算量、再帰"
      ],
      "metadata": {
        "id": "vVsBcM2mBUVp"
      }
    },
    {
      "cell_type": "markdown",
      "source": [
        " * 左上の「ファイル」を開いて、「ドライブにコピーを保存」をしてください。\n",
        " * 自分のGoogleドライブに、そのファイルが保存されます。ファイル名は「のコピー」が、最後（右端）についています。それを利用して学習・演習を進めて下さい。"
      ],
      "metadata": {
        "id": "lm7oxHNx4rIf"
      }
    },
    {
      "cell_type": "markdown",
      "source": [
        "# 6.3 計算量"
      ],
      "metadata": {
        "id": "VZbkPBu38tU_"
      }
    },
    {
      "cell_type": "markdown",
      "source": [
        "## 計算量を考える"
      ],
      "metadata": {
        "id": "dP8hTBbd_bgZ"
      }
    },
    {
      "cell_type": "markdown",
      "source": [
        "* 入力を伴い、あるアルゴリズムにしたがって計算を行うとき、特定の動作の回数の（入力を動かしたときの）最大値を（最大）時間計算量（あるいは「最悪時間計算量」）という。\n",
        "* そのときに使用する記憶領域の大きさの（入力を動かしたときの）最大値を、（最大）領域計算量（あるいは「最悪領域計算量」）という。\n",
        "* いずれも、入力データの大きさ $n$ を利用して、ランダウの記号による関数のクラスで表される。"
      ],
      "metadata": {
        "id": "go413e-2_ftw"
      }
    },
    {
      "cell_type": "markdown",
      "source": [
        "## ランダウの記号"
      ],
      "metadata": {
        "id": "oLWhqcXf_ims"
      }
    },
    {
      "cell_type": "markdown",
      "source": [
        "（ここでは、やや曖昧だが、わかりやすい定義を述べる。）\n",
        "関数 $ \\phi(n) $ （ただし、$ n は整数 $）に対して、$ O(\\phi(n)) $ を次の条件で定義する。\n",
        "\n",
        "$$ f(n) \\in O(\\phi(n)) \\Longleftrightarrow \\lim_{n\\to\\infty}\\frac{f(n)}{\\phi(n)} = r (ただし r\\ne 0) $$\n",
        "\n",
        "この $ O(\\phi(n)) $ の $O$ をランダウの記号、あるいは「ビッグオー」などと呼ぶ。\n",
        "\n",
        "以下の例にあるように、「増加の速さが同じ関数の集まり」と考える。\n",
        "\n",
        "*  $ n \\in O(n)$\n",
        "*  $ 2n \\in O(n)$\n",
        "*  $ n^{2}+1 \\in O(n^{2})$\n",
        "*  $ 100000000 n^{2}+10000000n+10000000000000\\in O(n^{2})$\n",
        "*  $ 2n\\log_{\\ 3} n \\in O(n\\log n)$"
      ],
      "metadata": {
        "id": "gpHAhzCc8xAI"
      }
    },
    {
      "cell_type": "markdown",
      "metadata": {
        "id": "SHuaRAY3Sf9o"
      },
      "source": [
        "### 線形探索の計算量\n",
        "\n",
        "もし、相異なる $n$ 枚のカードがあって、そのなかに確実に目的のカードがあるとするとき、カードを見る回数の平均を求めてみよう。\n",
        "\n",
        "探したいカードが1枚目の確率は $\\displaystyle{\\frac{1}{\\ n\\ }}$ である。探したいカードが2枚目の確率も $\\displaystyle{\\frac{1}{\\ n\\ }}$ であるが、このとき、カードを2回見ている。\n",
        "\n",
        "このように考えると、カードを1回だけ見る確率も、カードを2回だけ見る確率も、そして、カードを $n$ 回だけ見る確率も、すべて $\\frac{1}{\\ n\\ }$ である。よって、カードを見る回数の平均（期待値）は、以下の式で求めることができる。\n",
        "\n",
        "$ \\frac{1}{\\ n\\ } + \\frac{2}{\\ n\\ } + \\cdots + \\frac{n}{\\ n\\ } = \\frac{\\ \\ \\displaystyle{\\frac{n(n+1)}{2}}\\ \\ }{n} = \\frac{n+1}{2}$\n",
        "\n",
        "したがって、線形探索の時間計算量は、$O(n)$ である。"
      ]
    },
    {
      "cell_type": "markdown",
      "metadata": {
        "id": "Jn_o4xssToXU"
      },
      "source": [
        "\n",
        "### 二分探索の手間を評価する"
      ]
    },
    {
      "cell_type": "markdown",
      "metadata": {
        "id": "sokhWmKKTpgX"
      },
      "source": [
        "例えば、 $n=1023$ 枚のカードで、この方法を行うとすると、最初の時点で真中に見つからない場合、対象となるカードは $511$ 枚に絞られる。次の時点で真中に見つからない場合、対象となるカードは $255$ 枚に絞られる。このようにしていくと、多くても10回の繰り返しでカードは必ず1枚になる。（途中で見つかるかも知れない。）\n",
        "\n",
        "言い替えるなら、二分探索では、 $p$ 回の繰り返しをすれば、$2^{p}-1$ 枚のカードからの探索ができることから、カードの枚数を $n$ とすると、繰返しの回数は、おおむね $\\log_{\\ 2} n$ 回程度となる。すなわち、二分探索の時間計算量は、$O(\\log n)$ である。\n",
        "\n",
        "二分探索は、最初の整列には非常に手間がかかるが、いったん整列した後では、探索が高速にできるので、同じデータから何度も探索をしたいときに有用である。"
      ]
    },
    {
      "cell_type": "markdown",
      "source": [
        "## 研究問題（正解は各自の探求とします）"
      ],
      "metadata": {
        "id": "Lu1ReToR35un"
      }
    },
    {
      "cell_type": "markdown",
      "source": [
        "1.  $n$ 個の要素を整列させるとき、選択ソートの時間計算量は、$O(n^2)$であることを示せ。\n",
        "2.  選択ソート以外のソーティングを考案し、その時間計算量を求めよ。\n",
        "3. 暗号学の世界には、「計算量的安全性」という言葉がある。どのような意味か、調べて、その安全性について説明せよ。"
      ],
      "metadata": {
        "id": "eJKNSZp7_ugA"
      }
    },
    {
      "cell_type": "markdown",
      "source": [
        "# 次の教材\n",
        "\n",
        "6.4 ハノイの塔（再帰呼び出し入門）\n",
        "* https://colab.research.google.com/drive/1m329ReHy4F2-AwFbObLXNc-ZAJ9Xk6R9"
      ],
      "metadata": {
        "id": "oSE5sjNZP8BH"
      }
    }
  ]
}