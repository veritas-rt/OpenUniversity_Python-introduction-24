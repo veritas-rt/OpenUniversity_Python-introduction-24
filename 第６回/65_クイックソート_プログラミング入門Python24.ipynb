{
  "nbformat": 4,
  "nbformat_minor": 0,
  "metadata": {
    "colab": {
      "provenance": [],
      "collapsed_sections": [
        "WX4sRVO63me5",
        "FnSBdgK-Bwtz"
      ]
    },
    "kernelspec": {
      "name": "python3",
      "display_name": "Python 3"
    }
  },
  "cells": [
    {
      "cell_type": "markdown",
      "source": [
        "# 第6章 整列、探索、計算量、再帰"
      ],
      "metadata": {
        "id": "vVsBcM2mBUVp"
      }
    },
    {
      "cell_type": "markdown",
      "source": [
        " * 左上の「ファイル」を開いて、「ドライブにコピーを保存」をしてください。\n",
        " * 自分のGoogleドライブに、そのファイルが保存されます。ファイル名は「のコピー」が、最後（右端）についています。それを利用して学習・演習を進めて下さい。"
      ],
      "metadata": {
        "id": "lm7oxHNx4rIf"
      }
    },
    {
      "cell_type": "markdown",
      "metadata": {
        "id": "Fmx4mlEnYqxn"
      },
      "source": [
        "# 6.5 クイックソート"
      ]
    },
    {
      "cell_type": "markdown",
      "metadata": {
        "id": "Uv1VDQJrY0gR"
      },
      "source": [
        "##クイックソートの手順"
      ]
    },
    {
      "cell_type": "markdown",
      "metadata": {
        "id": "cbYapPy3YsEI"
      },
      "source": [
        "この方法では、対象となる領域からカードを一枚取り出して、そのカードの値よりも大きな値を右側に、そのカードの値よりも小さな値を左側に積む、という作業を何度も行う。\n",
        "\n",
        "+ 第1手順: まず、一番右端のカードを取り出して、自分の前におく。このカードを pivot （閾値、要め）と呼ぶ。\n",
        "+ 第2手順: pivot よりも大きな値のカードを右側に、山積みにする。pivot 以下の値のカードを左側に、山積みにする。\n",
        "\n",
        "\n",
        "このようにして、pivot （先頭のカードの値）を見て残りを二つの山にわけていく作業をしていけば、やがて、カードは1枚になり、整列が簡単にできる。クイックソートは再帰を使って書くことができる。"
      ]
    },
    {
      "cell_type": "markdown",
      "metadata": {
        "id": "mRmhN9K-ZD54"
      },
      "source": [
        "##Python でクイックソート"
      ]
    },
    {
      "cell_type": "markdown",
      "source": [
        "【プログラム6501】"
      ],
      "metadata": {
        "id": "TRMSObgDYz-n"
      }
    },
    {
      "cell_type": "code",
      "metadata": {
        "id": "XUHohwo1ZIZG"
      },
      "source": [
        "import random as rd #動作テスト用に乱数ライブラリを使うので、先に宣言しておく\n",
        "\n",
        "def quicksort(target):\n",
        "    nagasa = len(target)\n",
        "    if nagasa <= 1:\n",
        "        return target\n",
        "    pivot = target[0] # リストを、このpivot以下の数か、より大きいかで分けることにする\n",
        "    aida = [pivot] # 下の2つのリストのつなぎ目となる長さ１のリスト\n",
        "    smaller = [] # pivot 以下の数を入れるリスト\n",
        "    larger = [] # pivot より大きい数を入れるリスト\n",
        "\n",
        "    for x in range(1, nagasa): # target[1] 以降を振り分ける\n",
        "        if target[x] <= pivot:\n",
        "            smaller.append(target[x])\n",
        "        else:\n",
        "            larger.append(target[x])\n",
        "\n",
        "    smaller = quicksort(smaller)\n",
        "    larger = quicksort(larger)\n",
        "    return smaller + aida + larger\n",
        "\n",
        "# 0以上999以下の乱数を kosu 個生成してリストにする\n",
        "kosu = 12\n",
        "min_r, max_r = 0, 999\n",
        "\n",
        "# min_r 以上 max_r以下の乱数を kosu個 生成する\n",
        "narabi = [rd.randint(min_r, max_r) for _ in range(kosu)]\n",
        "\n",
        "print(\"Before: \"+ str(narabi)) # 整列前を表示\n",
        "narabi = quicksort(narabi)\n",
        "print(\"After_: \"+ str(narabi)) # 整列後を表示"
      ],
      "execution_count": null,
      "outputs": []
    },
    {
      "cell_type": "markdown",
      "metadata": {
        "id": "Lab9wsypYxTI"
      },
      "source": [
        "##クイックソートの計算の手間"
      ]
    },
    {
      "cell_type": "markdown",
      "metadata": {
        "id": "zqzqnRozY66C"
      },
      "source": [
        "すでに述べた選択ソートの場合、$n$ 個の数を整列させるために、数同士の比較を $\\displaystyle{\\frac{n(n-1)}{2}}$ 回行う必要があった。クイックソートの場合、最初に並んでいる数の状況によって必要となる比較回数は異なるが、平均すると、$n\\log_{\\ 2} n$ 回程度で済むことがわかっている。これは例えば、約 $n=1,000$ の場合、選択ソートだと約 $50万$ 回の比較だが、クイックソートなら、約 $1万$ 回で済むということである。\n",
        "\n",
        "データを整列させておけば、二分探索によって高速にデータを捜し出すことができることから、データの整列方法の研究成果は多い。現在は、データの特徴によって、さまざまな整列方法が使い分けられている。\n",
        "\n",
        "+ 参考資料\n",
        " https://drive.google.com/file/d/18Hhopc3ZkftNpJ6yEfQLyDmnm-t6B4CT/view"
      ]
    }
  ]
}