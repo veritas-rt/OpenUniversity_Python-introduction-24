{
  "nbformat": 4,
  "nbformat_minor": 0,
  "metadata": {
    "colab": {
      "provenance": [],
      "collapsed_sections": [
        "WX4sRVO63me5",
        "FnSBdgK-Bwtz"
      ]
    },
    "kernelspec": {
      "name": "python3",
      "display_name": "Python 3"
    }
  },
  "cells": [
    {
      "cell_type": "markdown",
      "source": [
        "# 第6章 整列、探索、計算量、再帰"
      ],
      "metadata": {
        "id": "DpkjfwU4BU1k"
      }
    },
    {
      "cell_type": "markdown",
      "source": [
        " * 左上の「ファイル」を開いて、「ドライブにコピーを保存」をしてください。\n",
        " * 自分のGoogleドライブに、そのファイルが保存されます。ファイル名は「のコピー」が、最後（右端）についています。それを利用して学習・演習を進めて下さい。"
      ],
      "metadata": {
        "id": "lm7oxHNx4rIf"
      }
    },
    {
      "cell_type": "markdown",
      "metadata": {
        "id": "2IwwUvETWvep"
      },
      "source": [
        "# 6.4 ハノイの塔（再帰呼び出し入門）"
      ]
    },
    {
      "cell_type": "markdown",
      "metadata": {
        "id": "5pf3o3VAXWNE"
      },
      "source": [
        "「ハノイの塔」と呼ばれる有名な問題がある。ルールは以下の通り。\n",
        "+ 3つの棒が地面に立てられている。 $P_0, P_1, P_2$ と呼ぶことにする。\n",
        "+ 棒 $ P_0 $ には、中央に穴があいている直径が異なる $ n $ 枚の円盤が、下に大きいもの、上に小さいものになるように積まれている。\n",
        "+ あなたは、1回で1枚の円盤を別の棒に移してよい。\n",
        " + 小さい円盤の上に大きい円盤を載せてはいけない。\n",
        " + 円盤を重ねて移動してはいけない。\n",
        " + 円盤は、棒に通した状態でしか置くことができない。\n",
        "+ すべての円盤を、 $ P_0 $ 以外の1つの棒に移すことができれば、終りである。\n"
      ]
    },
    {
      "cell_type": "markdown",
      "metadata": {
        "id": "YDIor3OGXZyj"
      },
      "source": [
        "##手順"
      ]
    },
    {
      "cell_type": "markdown",
      "source": [
        "円盤が2枚のとき\n",
        "+ $P_0$ から $P_1$ に円盤（小）を移す。\n",
        "+ $P_0$ から $P_2$ に円盤（大）を移す。\n",
        "+ $P_1$ から $P_2$ に円盤（小）を移す。\n",
        "\n",
        "円盤が3枚のとき\n",
        "どうすればよいだろうか？以下の手順でできることがわかる。\n",
        "\n",
        "+ $P_0$ から $P_1$ に円盤2枚を移す。\n",
        "+ $P_0$ から $P_2$ に円盤（最大）を移す。\n",
        "+ $P_1$ から $P_2$ に円盤2枚を移す。\n",
        "\n",
        "ここに、「 $P_0$ から $P_1$ に円盤2枚を移し」という記述があるが、この作業はすでにできることがわかっているので、省略して書いてあるが、ていねいに書くと、次の通りになる。\n",
        "\n",
        "+ $P_0$ から $P_1$ に円盤2枚を移す。\n",
        " + $P_0$ から $P_2$ に円盤（小）を移す。\n",
        " + $P_0$ から $P_1$ に円盤（大）を移す。\n",
        " + $P_2$ から $P_1$ に円盤（小）を移す。\n",
        "+ $P_0$ から $P_2$ に円盤（最大）を移す。\n",
        "+ $P_1$ から $P_2$ に円盤2枚を移す。\n",
        " + $P_1$ から $P_0$ に円盤（小）を移す。\n",
        " + $P_1$ から $P_2$ に円盤（大）を移す。\n",
        " + $P_0$ から $P_2$ に円盤（小）を移す。\n",
        "\n",
        "では、円盤が4枚のときはどうすればよいか。これは、次の手順でできる。\n",
        "+ $P_0$ から $P_1$ に3枚の円盤を移す。\n",
        "+ $P_0$ から $P_2$ に円盤（最大）を移す。\n",
        "+ $P_1$ から $P_2$ に3枚の円盤を移す。\n",
        "\n",
        "3枚の円盤の移動がすでに可能であることがわかっているので、それを利用すればよいということになる。このようにすれば、円盤の枚数 $n$ がどんな値であったとしても、以下の手順で移動ができるということがわかる。\n",
        "+ $P_0$ から $P_1$ に $n-1$ 枚の円盤を移す。\n",
        "+ $P_0$ から $P_2$ に円盤（最大の円盤）を移す。\n",
        "+ $P_1$ から $P_2$ に $n-1$ 枚の円盤を移す。\n"
      ],
      "metadata": {
        "id": "OLSRxdR4xpkF"
      }
    },
    {
      "cell_type": "markdown",
      "metadata": {
        "id": "8-dlNxj-XLgo"
      },
      "source": [
        "##手順を部品にする"
      ]
    },
    {
      "cell_type": "markdown",
      "metadata": {
        "id": "635rHtxnXg-M"
      },
      "source": [
        "$n$ 枚の円盤を、棒 $P_x$ から棒 $P_y$ に 移動させる（棒 $P_z$ を作業用に利用する）手順を書いてみる。これを、hanoi(n, x, y, z) と呼ぶことにする。例えば、hanoi(5,0,1,2) は、5枚の円盤を、 $P_0$ から $P_1$ に移動させる。そのときに、 $P_2$ は作業用に使ってよい、という意味である。\n",
        "\n",
        "この手順を、「3つの棒を A, B, C と名付け、番号 1 から n の n 枚の円盤を利用する場合」に、これを Python で記述すると、次のプログラムとなる。\n"
      ]
    },
    {
      "cell_type": "markdown",
      "source": [
        "【プログラム6401】"
      ],
      "metadata": {
        "id": "zQ31nlvmYxIU"
      }
    },
    {
      "cell_type": "code",
      "metadata": {
        "id": "DnYKYEK3Xhzw"
      },
      "source": [
        "def hanoi(n, x, y, z):\n",
        "    if n == 1:\n",
        "        print('円盤', n, ':', x, '->', y, '.')\n",
        "    else:\n",
        "        hanoi(n - 1, x, z, y)\n",
        "        print('円盤', n, ':', x, '->', y, '.')\n",
        "        hanoi(n - 1, z, y, x)\n",
        "\n",
        "k=int(input('円盤の枚数?'))\n",
        "hanoi(k, 'A', 'B', 'C')"
      ],
      "execution_count": null,
      "outputs": []
    },
    {
      "cell_type": "markdown",
      "metadata": {
        "id": "ZCUimHMWQ0Tp"
      },
      "source": [
        "## 再帰呼出しと分割統治法"
      ]
    },
    {
      "cell_type": "markdown",
      "source": [
        "### 再帰呼び出し"
      ],
      "metadata": {
        "id": "blMiJ8hQQ0Tq"
      }
    },
    {
      "cell_type": "markdown",
      "metadata": {
        "id": "VIyuUcaoLt7w"
      },
      "source": [
        "前節の手順では、hanoi(3,0,1,2) を求めるには、途中で、hanoi(2,0,2,1) と、hanoi(2,2,1,0) が必要になる。そして、hanoi(2,0,2,1) を求めるには、途中で、hanoi(1,0,1,2) と、hanoi(1,1,2,0) が必要になる。\n",
        "\n",
        "このように、hanoiという手順のなかでhanoiを呼び出している。このように、ある手順の途中で自分自身を呼び出すことを再帰呼出しという。\n"
      ]
    },
    {
      "cell_type": "markdown",
      "source": [
        "### 分割統治法"
      ],
      "metadata": {
        "id": "M-qvDD7JQ0Tq"
      }
    },
    {
      "cell_type": "markdown",
      "source": [
        "分割統治法とは、ある問題を解決する際に、よりかんたんな問題に分割できるかどうかを考え、分割できる場合に取られる方法である。\n",
        "\n",
        "ハノイの塔の場合は、次のように分割でき、したがって、分割統治法によってプログラムを作ることができた、といえる。\n",
        "\n",
        "* 円盤が $ 1 $ 枚だけなら簡単にできる\n",
        "* 円盤が $ n-1 $ のときに簡単にできるなら、円盤が $ n $ 枚のときも簡単にできる\n",
        "\n",
        "このように、再帰呼び出しは、分割統治法の一つである。"
      ],
      "metadata": {
        "id": "YjskzNc7Q0Tq"
      }
    },
    {
      "cell_type": "markdown",
      "source": [
        "### 練習問題（練習問題の正答は、別の[シート](https://colab.research.google.com/drive/1qEgEfI6V1Wvf0LtERCrAb7hZsQSMtFkf)にあります。）"
      ],
      "metadata": {
        "id": "bHGy7DvpQ0Tq"
      }
    },
    {
      "cell_type": "markdown",
      "source": [
        "【問題】フィボナッチ数列とは、次の漸化式によって表される数列 $\\{F_n\\}$ のことである。\n",
        "\n",
        "* $F_0 = 1 $\n",
        "* $F_1 = 1 $\n",
        "* $F_{k}= F_{k-1} + F_{k-2} $ （$k=2, 3, \\cdots $のとき）\n",
        "\n",
        "例えば、 $F_2 = 1 + 1 = 2 $ であり、 $ F_3 = 2 +1 = 3 $ となる。 $n$ を入力させ、フィボナッチ数列の $F_{n} $ を求めるプログラムを作れ。"
      ],
      "metadata": {
        "id": "gvLbW-FLQ0Tr"
      }
    },
    {
      "cell_type": "markdown",
      "source": [
        "# 次の教材\n",
        "\n",
        "6.5 クイックソート\n",
        "* https://colab.research.google.com/drive/1SPtROyXvOdPqxyNFaS0ewARgRjOb79Tt\n"
      ],
      "metadata": {
        "id": "sZ3NjvjGCG0H"
      }
    }
  ]
}