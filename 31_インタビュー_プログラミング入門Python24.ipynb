{
  "nbformat": 4,
  "nbformat_minor": 0,
  "metadata": {
    "colab": {
      "provenance": [],
      "collapsed_sections": [
        "WX4sRVO63me5",
        "FnSBdgK-Bwtz"
      ],
      "include_colab_link": true
    },
    "kernelspec": {
      "name": "python3",
      "display_name": "Python 3"
    }
  },
  "cells": [
    {
      "cell_type": "markdown",
      "metadata": {
        "id": "view-in-github",
        "colab_type": "text"
      },
      "source": [
        "<a href=\"https://colab.research.google.com/github/veritas-rt/OpenUniversity_Python-introduction-24-/blob/main/31_%E3%82%A4%E3%83%B3%E3%82%BF%E3%83%93%E3%83%A5%E3%83%BC_%E3%83%97%E3%83%AD%E3%82%B0%E3%83%A9%E3%83%9F%E3%83%B3%E3%82%B0%E5%85%A5%E9%96%80Python24.ipynb\" target=\"_parent\"><img src=\"https://colab.research.google.com/assets/colab-badge.svg\" alt=\"Open In Colab\"/></a>"
      ]
    },
    {
      "cell_type": "markdown",
      "source": [
        "# 第3章 プログラムによる問題解決、制御、数値表現、関数、繰り返し\n"
      ],
      "metadata": {
        "id": "mHON3KhHJDNm"
      }
    },
    {
      "cell_type": "markdown",
      "source": [
        " * 左上の「ファイル」を開いて、「ドライブにコピーを保存」をしてください。\n",
        " * 自分のGoogleドライブに、そのファイルが保存されます。ファイル名は「のコピー」が、最後（右端）についています。それを利用して学習・演習を進めて下さい。"
      ],
      "metadata": {
        "id": "lm7oxHNx4rIf"
      }
    },
    {
      "cell_type": "markdown",
      "source": [
        "* プログラミングを利用した問題解決の例。\n",
        "* 制御（条件分岐）の書き方。\n",
        "* Python の数値の表現方法。\n",
        "* 一定の作業をまとめて記述する「関数」の定義方法。\n",
        "* プログラムの基本構造の一つである繰り返しのうち、whileをつかった繰り返し。\n",
        "\n"
      ],
      "metadata": {
        "id": "MvUIV2ER82yX"
      }
    },
    {
      "cell_type": "markdown",
      "source": [
        "# 3.1 インタビュー"
      ],
      "metadata": {
        "id": "KnSUdWbeN3kw"
      }
    },
    {
      "cell_type": "markdown",
      "source": [
        "ここでは、プログラミングを利用した問題解決の例として、日常の業務にPythonプログラムで動作する機械を使用している、国立研究開発法人理化学研究所の鵜澤尊規さんに、お話を伺いました。\n",
        "\n",
        "プログラムを業務に使用することのメリットとは、一体、どんなことなのか、インタビューから読み取ってください。"
      ],
      "metadata": {
        "id": "AlCJO4EH_bHY"
      }
    },
    {
      "cell_type": "markdown",
      "source": [
        "# 次の教材\n",
        "\n",
        "3.2 制御（条件分岐）\n",
        "* https://colab.research.google.com/drive/1wPtZiulsrKxtjIb7XJBv0xj4OVMT949D\n"
      ],
      "metadata": {
        "id": "yrLQq91fx1XM"
      }
    }
  ]
}