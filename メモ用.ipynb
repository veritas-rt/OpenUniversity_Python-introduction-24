{
  "nbformat": 4,
  "nbformat_minor": 0,
  "metadata": {
    "colab": {
      "provenance": [],
      "authorship_tag": "ABX9TyPr08aen4Lvpet+Arq3hI98",
      "include_colab_link": true
    },
    "kernelspec": {
      "name": "python3",
      "display_name": "Python 3"
    },
    "language_info": {
      "name": "python"
    }
  },
  "cells": [
    {
      "cell_type": "markdown",
      "metadata": {
        "id": "view-in-github",
        "colab_type": "text"
      },
      "source": [
        "<a href=\"https://colab.research.google.com/github/veritas-rt/OpenUniversity_Python-introduction-24-/blob/main/%E3%83%A1%E3%83%A2%E7%94%A8.ipynb\" target=\"_parent\"><img src=\"https://colab.research.google.com/assets/colab-badge.svg\" alt=\"Open In Colab\"/></a>"
      ]
    },
    {
      "cell_type": "code",
      "execution_count": 1,
      "metadata": {
        "colab": {
          "base_uri": "https://localhost:8080/"
        },
        "id": "7sYDO4VQnCd9",
        "outputId": "7f7bff20-dc1d-488c-d16e-5bb665d69a6e"
      },
      "outputs": [
        {
          "output_type": "stream",
          "name": "stdout",
          "text": [
            "そばきつね\n",
            "そばたぬき\n",
            "そば月見\n",
            "うどんきつね\n",
            "うどんたぬき\n",
            "うどん月見\n",
            "ラーメンきつね\n",
            "ラーメンたぬき\n",
            "ラーメン月見\n"
          ]
        }
      ],
      "source": [
        "men = (\"そば\", \"うどん\", \"ラーメン\")\n",
        "gu = (\"きつね\", \"たぬき\", \"月見\")\n",
        "\n",
        "for m in men:\n",
        "  for g in gu:\n",
        "    print(m + g)"
      ]
    }
  ]
}