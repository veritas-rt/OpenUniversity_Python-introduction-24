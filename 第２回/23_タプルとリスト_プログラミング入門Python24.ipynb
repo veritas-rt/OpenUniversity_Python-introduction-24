{
  "nbformat": 4,
  "nbformat_minor": 0,
  "metadata": {
    "colab": {
      "provenance": [],
      "collapsed_sections": [
        "WX4sRVO63me5",
        "FnSBdgK-Bwtz"
      ]
    },
    "kernelspec": {
      "name": "python3",
      "display_name": "Python 3"
    }
  },
  "cells": [
    {
      "cell_type": "markdown",
      "source": [
        "# 第2章 キーボードから入力、代入と演算、タプルとリスト"
      ],
      "metadata": {
        "id": "mHON3KhHJDNm"
      }
    },
    {
      "cell_type": "markdown",
      "source": [
        " * 左上の「ファイル」を開いて、「ドライブにコピーを保存」をしてください。\n",
        " * 自分のGoogleドライブに、そのファイルが保存されます。ファイル名は「のコピー」が、最後（右端）についています。それを利用して学習・演習を進めて下さい。"
      ],
      "metadata": {
        "id": "lm7oxHNx4rIf"
      }
    },
    {
      "cell_type": "markdown",
      "metadata": {
        "id": "DLwzn2cF0Ldr"
      },
      "source": [
        "# 2.3 タプルとリスト"
      ]
    },
    {
      "cell_type": "markdown",
      "source": [
        "## 添字（インデックス）の導入"
      ],
      "metadata": {
        "id": "_0SZ5PyD8y6F"
      }
    },
    {
      "cell_type": "markdown",
      "metadata": {
        "id": "hUJJqc2m0oC6"
      },
      "source": [
        "プログラムを作成するときに、どの変数を使うかが最初から固定されていると、実用上は困ることが発生する。\n",
        "\n",
        "例えば、 $a,\\ b,\\ c$ という3つの変数を、小さい順に並べる、ということを考える。\n",
        "* もし、 $ a > b $ ならば、$ a $ の値と $ b $ の値を交換する。\n",
        "* もし、 $ b > c $ ならば、$ b $ の値と $ c $ の値を交換する。（この時点で $c$ が最大となる）\n",
        "* もし、 $ a > b $ ならば、$ a $ の値と $ b $ の値を交換する。\n",
        "\n",
        "例えば、$ a = 3, b = 5, c = 1 $ であれば、この手順を終えると、 $ a = 1, b = 3, c = 5 $ になる。\n",
        "\n",
        "この3つの手順は、あくまでも変数の個数が3つのときに有効な方法である。ここで、4つ目の変数 $ d $ が登場したとき、どうすればいいだろうか。\n",
        "* もし、 $ a > b $ ならば、$ a $ の値と $ b $ の値を交換する。\n",
        "* もし、 $ b > c $ ならば、$ b $ の値と $ c $ の値を交換する。\n",
        "* もし、 $ c > d $ ならば、$ c $ の値と $ d $ の値を交換する。（この時点で $d$ が最大となる）\n",
        "* もし、 $ a > b $ ならば、$ a $ の値と $ b $ の値を交換する。\n",
        "* もし、 $ b > c $ ならば、$ b $ の値と $ c $ の値を交換する。（この時点で $c$ が2番めに大きな値となる）\n",
        "* もし、 $ a > b $ ならば、$ a $ の値と $ b $ の値を交換する。\n",
        "\n",
        "このように、とても複雑な手順になるばかりでなく、整列させたい変数の個数に応じて、プログラムを作る必要が生じることになる。\n",
        "\n",
        "このようなことを防ぐために、いくつかの変数を順番に並べて、番号で呼び出すとよい。これは数学の「数列」と、ほぼ同じである。\n",
        "\n",
        "例えば、数列 $ a_0,\\ a_1,\\ a_2,\\ \\cdots,\\ a_{N-1} $ の $N$ 個の数を考える。\n",
        "\n",
        "これらを小さい順に並べるには、\n",
        "\n",
        "* $i=1,\\ 2,\\ \\cdots,\\ N-1$ について\n",
        "  * $ a_{i} > a_{i+1} $ ならば、それらの値を交換する。\n",
        "\n",
        "と、簡単に書くことができる。$ i=N-1 $ での交換が終わったら、その時点で、$a_{N-1} $ の値は、最初に並んでいた数の最大となる。\n",
        "\n",
        "このように、たくさんの数に順番を付けて並べることで、処理を簡単に書くことができるようになる。\n",
        "\n",
        "このときの i のことを、**添字（インデックス、 index ）** という。"
      ]
    },
    {
      "cell_type": "markdown",
      "source": [
        "### 添字の書き方"
      ],
      "metadata": {
        "id": "tGwJDdUr_IPk"
      }
    },
    {
      "cell_type": "markdown",
      "source": [
        "Python では、添字を使う変数の書き方は、次のとおりである。\n",
        "\n",
        "> a[0], a[1], a[2],....\n",
        "\n",
        "この例では、変数名は a である。Pythonを含む多くのプログラミング言語では、変数の添字は $0$ から始まり、 zero-base （0-base）である。（一部のプログラミング言語では、添字を $1$ から始める one-base である。）\n",
        "\n",
        "また、このとき、数学の数列と異なり、長さは有限である。"
      ],
      "metadata": {
        "id": "hCfilPdH3BnK"
      }
    },
    {
      "cell_type": "markdown",
      "source": [
        "以下では、Python で、この機能を実現する2種類のデータ型「タプル」と「リスト」について述べる。（なお、以下では、hoge という名を利用するが、この hoge とは「仮の名前である」という意味のときに使われる。「某」などと同じである。よく使われる仮の名前には、foo, bar, hoge, fuga, ugo などが用いられることが多い。）"
      ],
      "metadata": {
        "id": "JHue_M1H0oC6"
      }
    },
    {
      "cell_type": "markdown",
      "source": [
        "## タプル"
      ],
      "metadata": {
        "id": "qNUoTztp0YAW"
      }
    },
    {
      "cell_type": "markdown",
      "source": [
        "タプルは、Python で添字を使う最も簡単なデータ型である。データをカンマで区切り、そのまま、あるいは(丸括弧)ではさんで定義・使用（参照）する。"
      ],
      "metadata": {
        "id": "wj20ijbesZFs"
      }
    },
    {
      "cell_type": "markdown",
      "source": [
        "【プログラム2301】"
      ],
      "metadata": {
        "id": "cocX3AMBttmS"
      }
    },
    {
      "cell_type": "code",
      "source": [
        "# タプル hoge の定義\n",
        "hoge = (31, 28, 31, 30, 31, 30, 31, 31, 30, 31, 30)\n",
        "\n",
        "print(hoge) # hoge を表示\n",
        "print(hoge[1]) # hoge の1番目を表示"
      ],
      "metadata": {
        "id": "EQWFPMuD0oC6"
      },
      "execution_count": null,
      "outputs": []
    },
    {
      "cell_type": "markdown",
      "source": [
        "【プログラム2302】"
      ],
      "metadata": {
        "id": "cmssmP_4txAf"
      }
    },
    {
      "cell_type": "code",
      "source": [
        "# 並べただけのタプル\n",
        "arekore = \"are\", \"kore\", \"sore\", \"dore\"\n",
        "print(arekore)\n",
        "print(arekore[2]) # 添字（インデックス）は 0 から始まる"
      ],
      "metadata": {
        "id": "VE-uTA4zDkca"
      },
      "execution_count": null,
      "outputs": []
    },
    {
      "cell_type": "markdown",
      "source": [
        "【プログラム2303】"
      ],
      "metadata": {
        "id": "68k4RZpsty8Q"
      }
    },
    {
      "cell_type": "code",
      "source": [
        "# 丸括弧をつかったタプル\n",
        "youbi_tuple = (\"getsu\", \"ka\", \"sui\", \"moku\", \"kin\", \"do\", \"nichi\")\n",
        "print(youbi_tuple)\n",
        "\n",
        "# 定義時に丸括弧を使っていれば、繰り返しもできる\n",
        "nisyu = (youbi_tuple) * 2\n",
        "print(nisyu)"
      ],
      "metadata": {
        "id": "Fg1o6lAjsKpH"
      },
      "execution_count": null,
      "outputs": []
    },
    {
      "cell_type": "markdown",
      "source": [
        "タプルをつかって、複数の変数への代入を簡単に書くことができる。"
      ],
      "metadata": {
        "id": "OiUsHYWOs092"
      }
    },
    {
      "cell_type": "markdown",
      "source": [
        "【プログラム2304】"
      ],
      "metadata": {
        "id": "_HFkpmUBt0bB"
      }
    },
    {
      "cell_type": "code",
      "source": [
        "# めんどくさい書き方\n",
        "suzuran = 20\n",
        "kasumi = 30\n",
        "nedan = 10"
      ],
      "metadata": {
        "id": "t2pFbJ-jtO_n"
      },
      "execution_count": null,
      "outputs": []
    },
    {
      "cell_type": "markdown",
      "source": [
        "【プログラム2305】"
      ],
      "metadata": {
        "id": "8uG6Q7iHt1_1"
      }
    },
    {
      "cell_type": "code",
      "source": [
        "# タプルを使った書き方\n",
        "suzuran, kasumi, nedan = 20, 30, 10"
      ],
      "metadata": {
        "id": "GHhePQZ1tamS"
      },
      "execution_count": null,
      "outputs": []
    },
    {
      "cell_type": "markdown",
      "source": [
        "## リスト"
      ],
      "metadata": {
        "id": "BqFGbDIj5IAm"
      }
    },
    {
      "cell_type": "markdown",
      "source": [
        "リストも、Python で添字を使う基本的なデータ型の一つである。データをカンマで区切り、[四角括弧] ではさんで定義・使用（参照）する。\n"
      ],
      "metadata": {
        "id": "9JKJNwxw55du"
      }
    },
    {
      "cell_type": "markdown",
      "source": [
        "【プログラム2306】"
      ],
      "metadata": {
        "id": "cOCtxr3ut6gE"
      }
    },
    {
      "cell_type": "code",
      "source": [
        "fuga = [31, 28, 31, 30, 31, 30, 31, 31, 30, 31, 30]\n",
        "print(fuga)\n",
        "\n",
        "print(fuga[2])"
      ],
      "metadata": {
        "id": "uB6ASd_v0oC6"
      },
      "execution_count": null,
      "outputs": []
    },
    {
      "cell_type": "markdown",
      "source": [
        "リストも文字列を要素にすることができる。"
      ],
      "metadata": {
        "id": "8OCGaP6VCJAa"
      }
    },
    {
      "cell_type": "markdown",
      "source": [
        "【プログラム2307】"
      ],
      "metadata": {
        "id": "H4nHwaD4t71d"
      }
    },
    {
      "cell_type": "code",
      "source": [
        "# 文字列を並べたリスト\n",
        "youbi_list = [\"getsu\", \"ka\", \"sui\", \"moku\", \"kin\", \"do\", \"nichi\"]\n",
        "print(youbi_list)"
      ],
      "metadata": {
        "id": "pC1hbH0orkrn"
      },
      "execution_count": null,
      "outputs": []
    },
    {
      "cell_type": "markdown",
      "source": [
        "例えば、リストの要素に値を代入するために、特別な記法はない。以下のようにすれば、代入できる。\n",
        "> a[1] = 30"
      ],
      "metadata": {
        "id": "qM1_P03A0oC6"
      }
    },
    {
      "cell_type": "markdown",
      "source": [
        "【プログラム2308】"
      ],
      "metadata": {
        "id": "mMvm6g-8t9LM"
      }
    },
    {
      "cell_type": "code",
      "source": [
        "# リスト fuga を設定する\n",
        "fuga = [31, 28, 31, 30, 31, 30, 31, 31, 30, 31, 30]\n",
        "print(fuga)\n",
        "\n",
        "# 途中の要素を変えてみる\n",
        "fuga[1] = 100\n",
        "print(fuga)"
      ],
      "metadata": {
        "id": "3p8MhJOf6KaE"
      },
      "execution_count": null,
      "outputs": []
    },
    {
      "cell_type": "markdown",
      "source": [
        "また、リストに要素を追加するには、リスト名のあとに .append (追加したい要素) と書く。"
      ],
      "metadata": {
        "id": "ko3aObiisatc"
      }
    },
    {
      "cell_type": "markdown",
      "source": [
        "【プログラム2309】"
      ],
      "metadata": {
        "id": "t1FeJgfHt-Zl"
      }
    },
    {
      "cell_type": "code",
      "source": [
        "# リスト kisetsu を設定する\n",
        "kisetsu = [\"haru\", \"natsu\", \"aki\"]\n",
        "print(kisetsu)\n",
        "\n",
        "# kisetsu の最後に \"fuyu\" を追加する。\n",
        "kisetsu.append(\"fuyu\")\n",
        "\n",
        "print(kisetsu)"
      ],
      "metadata": {
        "id": "66fbehyS6-yU"
      },
      "execution_count": null,
      "outputs": []
    },
    {
      "cell_type": "markdown",
      "source": [
        "## タプルとリストの違い"
      ],
      "metadata": {
        "id": "8Ogi1eWMAV1-"
      }
    },
    {
      "cell_type": "markdown",
      "source": [
        "タプルとリストはよく似ているが、大きな違いがある。\n",
        "\n",
        "* （**リストの長所**）リストの要素や構造は変更することができる。一方で、タプルの要素や構造を変更することはできない。\n",
        "\n",
        "* （**タプルの長所**）プログラム中のリストのうち、変更することがないものをタプルに書き換えると、より高速に動作する。（初心者では気が付かないほどの差だが、超大量のデータ（数億個や数兆個）を利用する場合は、違いが大きくなる。）"
      ],
      "metadata": {
        "id": "x__59yULAvSy"
      }
    },
    {
      "cell_type": "markdown",
      "source": [
        "タプルの要素の値を変更することはできない。試しに、タプルの値を変更しようとすると、エラーになる。（次のプログラムはエラーになる。）"
      ],
      "metadata": {
        "id": "eeBJQptU6pQK"
      }
    },
    {
      "cell_type": "markdown",
      "source": [
        "【プログラム2310】"
      ],
      "metadata": {
        "id": "JacQsrl_uAMn"
      }
    },
    {
      "cell_type": "code",
      "source": [
        "# タプル hoge を設定する\n",
        "hoge = (31, 28, 31, 30, 31, 30, 31, 31, 30, 31, 30)\n",
        "print(hoge)\n",
        "\n",
        "# 途中の要素を変えてみる\n",
        "hoge[1] = 100\n",
        "print(hoge)"
      ],
      "metadata": {
        "id": "_v9-iV0C6eJ8"
      },
      "execution_count": null,
      "outputs": []
    },
    {
      "cell_type": "markdown",
      "source": [
        "タプルに要素を追加することはできない。試しに、タプルに append を書くと、エラーになる。（次のプログラムはエラーになる。）"
      ],
      "metadata": {
        "id": "tO52Xx8u7XmO"
      }
    },
    {
      "cell_type": "markdown",
      "source": [
        "【プログラム2311】"
      ],
      "metadata": {
        "id": "X0olEuy9uBRa"
      }
    },
    {
      "cell_type": "code",
      "source": [
        "# タプル hoge を設定する\n",
        "hoge = (31, 28, 31, 30, 31, 30, 31, 31, 30, 31, 30)\n",
        "print(hoge)\n",
        "\n",
        "# 途中の要素を変えてみる\n",
        "hoge.append(31)\n",
        "print(hoge)"
      ],
      "metadata": {
        "id": "sZzhgHOF7ZhX"
      },
      "execution_count": null,
      "outputs": []
    },
    {
      "cell_type": "markdown",
      "source": [
        "## タプルとリストの扱い方"
      ],
      "metadata": {
        "id": "ul4mZ8L50UWB"
      }
    },
    {
      "cell_type": "markdown",
      "source": [
        "タプルやリストについて、さらに使用方法を述べる。"
      ],
      "metadata": {
        "id": "zYnjZiNaELo3"
      }
    },
    {
      "cell_type": "markdown",
      "source": [
        "### タプルやリストを作る\n",
        "\n",
        "タプルやリストを作るには、大きく、次の方法がある。"
      ],
      "metadata": {
        "id": "8_X078m3YdoR"
      }
    },
    {
      "cell_type": "markdown",
      "source": [
        "【プログラム2312】"
      ],
      "metadata": {
        "id": "9xMuca73uCve"
      }
    },
    {
      "cell_type": "code",
      "source": [
        "# タプルの要素を列挙して、 ( と ) で括る。\n",
        "hoge =(31, 28, 31, 30, 31, 30, 31, 31, 30, 31, 30, 31)\n",
        "print(hoge)\n",
        "print(hoge[2])\n",
        "\n",
        "# なお、要素が1つしかないタプルは、カンマを添えて書く\n",
        "t = (1,)\n",
        "print(t)"
      ],
      "metadata": {
        "id": "ormDC1qyEm3V"
      },
      "execution_count": null,
      "outputs": []
    },
    {
      "cell_type": "markdown",
      "source": [
        "【プログラム2313】"
      ],
      "metadata": {
        "id": "c84M8qM7uD-X"
      }
    },
    {
      "cell_type": "code",
      "source": [
        "# リストの要素を列挙して、 [ と ] で括る。\n",
        "fuga = [31, 28, 31, 30, 31, 30, 31, 31, 30, 31, 30, 31]\n",
        "print(fuga)\n",
        "print(fuga[2])"
      ],
      "metadata": {
        "id": "ZblSG6b2YnoU"
      },
      "execution_count": null,
      "outputs": []
    },
    {
      "cell_type": "markdown",
      "source": [
        "同じ要素を並べたタプルやリストは次のように作る。"
      ],
      "metadata": {
        "id": "pmujX6bdFUhI"
      }
    },
    {
      "cell_type": "markdown",
      "source": [
        "【プログラム2314】"
      ],
      "metadata": {
        "id": "N-uEavtQuFJD"
      }
    },
    {
      "cell_type": "code",
      "source": [
        "# 例えば 1 が20個並んだタプルは次のように書く。\n",
        "t = (1,) * 20\n",
        "print(t)\n",
        "\n",
        "# 例えば 0 と 1 が10組並んだタプルは次のように書く。\n",
        "u = (0, 1) * 10\n",
        "print(u)\n",
        "\n",
        "# 例えば 1 が20個並んだリストは次のように書く。\n",
        "x = [1] * 20\n",
        "print(x)\n",
        "\n",
        "# 例えば 0 と 1 が10組並んだリストは次のように書く。\n",
        "y = [0, 1] * 10\n",
        "print(y)"
      ],
      "metadata": {
        "id": "4MLHhC5ZY4eY"
      },
      "execution_count": null,
      "outputs": []
    },
    {
      "cell_type": "markdown",
      "source": [
        "要素がないタプルを作ることはできないが、要素がないリストを作ることはできる。（あとから、そのリストに要素を追加して利用する。）"
      ],
      "metadata": {
        "id": "emGPfeZSFjTh"
      }
    },
    {
      "cell_type": "markdown",
      "source": [
        "【プログラム2315】"
      ],
      "metadata": {
        "id": "_sVcCT-ZuHkh"
      }
    },
    {
      "cell_type": "code",
      "source": [
        "# 空のリストを作る\n",
        "x = list()\n",
        "y = []\n",
        "print(x, y)"
      ],
      "metadata": {
        "id": "CgR9XON3JDF9"
      },
      "execution_count": null,
      "outputs": []
    },
    {
      "cell_type": "markdown",
      "metadata": {
        "id": "glcTaaGe0Ld3"
      },
      "source": [
        "### タプルやリストの長さ"
      ]
    },
    {
      "cell_type": "markdown",
      "metadata": {
        "id": "v1NuQx1WnebE"
      },
      "source": [
        "> len(hoge)\n",
        "\n",
        "タプルやリスト hoge の長さ（要素の個数）を表す。len(hoge)の値が30なら、hoge[0]からhoge[29]まで要素がある。"
      ]
    },
    {
      "cell_type": "markdown",
      "source": [
        "【プログラム2316】"
      ],
      "metadata": {
        "id": "pwqVggQmuJpE"
      }
    },
    {
      "cell_type": "code",
      "source": [
        "hoge = (31, 28, 31, 30, 31, 30, 31, 31, 30, 31, 30)\n",
        "print(hoge)\n",
        "print(hoge[1])\n",
        "print(len(hoge))"
      ],
      "metadata": {
        "id": "UdnCxGZ4oFQi"
      },
      "execution_count": null,
      "outputs": []
    },
    {
      "cell_type": "markdown",
      "metadata": {
        "id": "UfdEpr1tnucC"
      },
      "source": [
        "### タプルやリストの要素の和を求める"
      ]
    },
    {
      "cell_type": "markdown",
      "metadata": {
        "id": "H3znEyypnukC"
      },
      "source": [
        "> sum(hoge)\n",
        "\n",
        "タプルやリストの要素のうち、数値のものをすべて加えた値になる。"
      ]
    },
    {
      "cell_type": "markdown",
      "source": [
        "【プログラム2317】"
      ],
      "metadata": {
        "id": "p1XYG-QJuKpH"
      }
    },
    {
      "cell_type": "code",
      "source": [
        "# タプルの場合\n",
        "hoge = (31, 28, 31, 30, 31, 30, 31, 31, 30, 31, 30)\n",
        "print(hoge)\n",
        "print(sum(hoge))"
      ],
      "metadata": {
        "id": "K5KenBMWo9wK"
      },
      "execution_count": null,
      "outputs": []
    },
    {
      "cell_type": "markdown",
      "source": [
        "【プログラム2318】"
      ],
      "metadata": {
        "id": "Qa-YT_ZfuL-E"
      }
    },
    {
      "cell_type": "code",
      "source": [
        "#リストの場合\n",
        "fuga = [31, 28, 31, 30, 31, 30, 31, 31, 30, 31, 30]\n",
        "print(fuga)\n",
        "\n",
        "fuga.append(31) # タプルではできない\n",
        "print(fuga)\n",
        "print(sum(fuga))"
      ],
      "metadata": {
        "id": "qj5MfCTeGezN"
      },
      "execution_count": null,
      "outputs": []
    },
    {
      "cell_type": "markdown",
      "metadata": {
        "id": "zqYfCWEtnup9"
      },
      "source": [
        "### タプルやリストをつなげて新しいリストを作る（連結）"
      ]
    },
    {
      "cell_type": "markdown",
      "metadata": {
        "id": "6cKJ57sunuuG"
      },
      "source": [
        "タプルやリストを + でつなげると、両側同士をつないだ新しいタプルやリストを表す。"
      ]
    },
    {
      "cell_type": "markdown",
      "source": [
        "【プログラム2319】"
      ],
      "metadata": {
        "id": "ARP_b45puOrO"
      }
    },
    {
      "cell_type": "code",
      "metadata": {
        "id": "YeLT0NNjIhH6"
      },
      "source": [
        "hoge = (31, 28, 31, 30, 31, 30)\n",
        "uhyo = (31, 31, 30, 31, 30, 31)\n",
        "\n",
        "print(hoge)\n",
        "print(len(hoge))\n",
        "\n",
        "print(uhyo)\n",
        "print(len(uhyo))\n",
        "\n",
        "# hoge と uhyo を連結する\n",
        "honya = hoge + uhyo\n",
        "\n",
        "print(honya)\n",
        "print(len(honya))\n",
        "print(sum(honya))"
      ],
      "execution_count": null,
      "outputs": []
    },
    {
      "cell_type": "markdown",
      "source": [
        "【プログラム2320】"
      ],
      "metadata": {
        "id": "liV56VuNuP8t"
      }
    },
    {
      "cell_type": "code",
      "metadata": {
        "id": "suVv8q2l0Ld4"
      },
      "source": [
        "fuga = [31, 28, 31, 30, 31, 30]\n",
        "pyon = [31, 31, 30, 31, 30, 31]\n",
        "\n",
        "print(fuga)\n",
        "print(len(fuga))\n",
        "\n",
        "print(pyon)\n",
        "print(len(pyon))\n",
        "\n",
        "# fuga と pyon を連結する\n",
        "karakara = fuga + pyon\n",
        "\n",
        "print(karakara)\n",
        "print(len(karakara))\n",
        "print(sum(karakara))"
      ],
      "execution_count": null,
      "outputs": []
    },
    {
      "cell_type": "markdown",
      "source": [
        "なお、タプルやリストの要素は、文字列でもよい。"
      ],
      "metadata": {
        "id": "7Ck_9UCvLJWx"
      }
    },
    {
      "cell_type": "markdown",
      "source": [
        "【プログラム2321】"
      ],
      "metadata": {
        "id": "uatETKULuQ69"
      }
    },
    {
      "cell_type": "code",
      "source": [
        "# 文字列のタプル\n",
        "heijitsu = (\"getsu\", \"ka\", \"sui\", \"moku\", \"kin\")\n",
        "syumatsu = (\"do\", \"nichi\")\n",
        "youbi = heijitsu + syumatsu\n",
        "print(len(youbi))\n",
        "print(youbi)"
      ],
      "metadata": {
        "id": "jgt4o63OJL6j"
      },
      "execution_count": null,
      "outputs": []
    },
    {
      "cell_type": "markdown",
      "source": [
        "【プログラム2322】"
      ],
      "metadata": {
        "id": "RuxMA9V9uSVn"
      }
    },
    {
      "cell_type": "code",
      "source": [
        "# 文字列のリスト\n",
        "yoko = [\"higashi\", \"nishi\"]\n",
        "tate = [\"kita\", \"minami\"]\n",
        "houkou = yoko + tate\n",
        "print(len(houkou))\n",
        "print(houkou)"
      ],
      "metadata": {
        "id": "QI_-enyrLG-Y"
      },
      "execution_count": null,
      "outputs": []
    },
    {
      "cell_type": "markdown",
      "source": [
        "なお、タプルとリストを直接つなげることはできない。"
      ],
      "metadata": {
        "id": "_3ZCCAfpPs9F"
      }
    },
    {
      "cell_type": "markdown",
      "source": [
        "【プログラム2323】"
      ],
      "metadata": {
        "id": "nu_c1FNGuTMz"
      }
    },
    {
      "cell_type": "code",
      "source": [
        "# 文字列のタプル\n",
        "heijitsu = (\"getsu\", \"ka\", \"sui\", \"moku\", \"kin\")\n",
        "\n",
        "# 文字列のリスト\n",
        "yoko = [\"higashi\", \"nishi\"]\n",
        "\n",
        "# 次の行はエラーになる。\n",
        "arara = heijitsu + yoko"
      ],
      "metadata": {
        "id": "wprbwF4NP00L"
      },
      "execution_count": null,
      "outputs": []
    },
    {
      "cell_type": "markdown",
      "source": [
        "タプルとリストをつなげるときは、片方を変換して、もう片方に型を合わせる。\n",
        "* tuple(a)\n",
        " * リスト a をタプルに変換する\n",
        "* list(b)\n",
        " * タプル b をリストに変換する"
      ],
      "metadata": {
        "id": "vFjBam08Qi-u"
      }
    },
    {
      "cell_type": "markdown",
      "source": [
        "【プログラム2324】"
      ],
      "metadata": {
        "id": "V63dT-d2uUaH"
      }
    },
    {
      "cell_type": "code",
      "source": [
        "# 文字列のタプル\n",
        "heijitsu = (\"getsu\", \"ka\", \"sui\", \"moku\", \"kin\")\n",
        "\n",
        "# 文字列のリスト\n",
        "yoko = [\"higashi\", \"nishi\"]\n",
        "\n",
        "# リスト yoko をタプルに変換してつなげる\n",
        "arara = heijitsu + tuple(yoko)\n",
        "print(arara)\n",
        "\n",
        "# タプル heijitsu をリストに変換してつなげる\n",
        "gyan = list(heijitsu) + yoko\n",
        "print(gyan)"
      ],
      "metadata": {
        "id": "TH9EnOrcQCMZ"
      },
      "execution_count": null,
      "outputs": []
    },
    {
      "cell_type": "markdown",
      "source": [
        "# （次の教材）2.4 スライス\n",
        "* https://colab.research.google.com/drive/1Kf36-eKAtrR-Jz0X9EtysJI22eWclCmG"
      ],
      "metadata": {
        "id": "e33qHLPVNnzn"
      }
    }
  ]
}