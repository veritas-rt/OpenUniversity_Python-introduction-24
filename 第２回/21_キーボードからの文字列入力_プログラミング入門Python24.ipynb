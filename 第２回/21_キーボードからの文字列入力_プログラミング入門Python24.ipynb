{
  "nbformat": 4,
  "nbformat_minor": 0,
  "metadata": {
    "colab": {
      "provenance": [],
      "collapsed_sections": [
        "WX4sRVO63me5",
        "FnSBdgK-Bwtz"
      ]
    },
    "kernelspec": {
      "name": "python3",
      "display_name": "Python 3"
    }
  },
  "cells": [
    {
      "cell_type": "markdown",
      "source": [
        "# 第2章 キーボードから入力、代入と演算、タプルとリスト"
      ],
      "metadata": {
        "id": "mHON3KhHJDNm"
      }
    },
    {
      "cell_type": "markdown",
      "source": [
        " * 左上の「ファイル」を開いて、「ドライブにコピーを保存」をしてください。\n",
        " * 自分のGoogleドライブに、そのファイルが保存されます。ファイル名は「のコピー」が、最後（右端）についています。それを利用して学習・演習を進めて下さい。"
      ],
      "metadata": {
        "id": "lm7oxHNx4rIf"
      }
    },
    {
      "cell_type": "markdown",
      "source": [
        "キーボードからの入力、データ型の変換、代入・演算、複数のデータをまとめて取り扱うタプルとリスト、スライス、条件分岐（制御）について学びます。"
      ],
      "metadata": {
        "id": "QruH-wxY9Q7k"
      }
    },
    {
      "cell_type": "markdown",
      "metadata": {
        "id": "jYmMCmlhrRVr"
      },
      "source": [
        "# 2.1 キーボードからの文字列入力"
      ]
    },
    {
      "cell_type": "markdown",
      "metadata": {
        "id": "zWz5XlOoQNmB"
      },
      "source": [
        "キーボードから入力を求めるには、 input を用いる。"
      ]
    },
    {
      "cell_type": "markdown",
      "source": [
        "## input の利用例\n",
        "次のプログラムは、入力された言葉を使って表示を行うだけのプログラムである。"
      ],
      "metadata": {
        "id": "ENq3wG02Kxyo"
      }
    },
    {
      "cell_type": "markdown",
      "metadata": {
        "id": "MHgPHaDWs3Jg"
      },
      "source": [
        "次のプログラムの解説\n",
        "+ 2行目：変数 yourname に、キーボードから入力された文字列を代入している。（数学では「変数」は、英文字1文字で、数や数値が入るが、プログラムの変数は、英文字で始まり英文字や数字が続く語であればよく、また、その値に文字列を想定することができる。\n",
        "+ 5行目：一定の書式を利用して、文字列を画面に表示する。\n",
        "\n",
        "\n",
        "\n"
      ]
    },
    {
      "cell_type": "markdown",
      "source": [
        "【プログラム2101】"
      ],
      "metadata": {
        "id": "JUuaM4qis_c5"
      }
    },
    {
      "cell_type": "code",
      "metadata": {
        "id": "bANAO671sUOc"
      },
      "source": [
        "# 入力を求める\n",
        "yourname = input('Your name?')\n",
        "\n",
        "# それを利用して表示\n",
        "print('Oh! Your name is', yourname)"
      ],
      "execution_count": null,
      "outputs": []
    },
    {
      "cell_type": "markdown",
      "source": [
        "### 確認問題　（確認問題の正答はありません。授業中に提示します）"
      ],
      "metadata": {
        "id": "UWta0dACGaME"
      }
    },
    {
      "cell_type": "markdown",
      "source": [
        "上のプログラムを、「名前を入力すると、その名前の最後に . （ピリオド）をつける」ように改造せよ。（以下、実行例）\n",
        "> Oh! Your name is Takeo."
      ],
      "metadata": {
        "id": "14SqtRsdJ2OW"
      }
    },
    {
      "cell_type": "code",
      "source": [
        "yourname = input('Your name?')\n"
      ],
      "metadata": {
        "id": "zGw8Cr27KD8g"
      },
      "execution_count": null,
      "outputs": []
    },
    {
      "cell_type": "markdown",
      "source": [
        "## input の値は文字列\n",
        "\n",
        "input でキーボードから入力された値は、たとえ数字を入力しても文字列である。次のプログラムを実行して、文字列を入れたり、数字の列を入れたりして、確認してみるとわかる。"
      ],
      "metadata": {
        "id": "Io2UbevmkKzP"
      }
    },
    {
      "cell_type": "markdown",
      "source": [
        "【プログラム2102】"
      ],
      "metadata": {
        "id": "Wt39Qp1WtCv0"
      }
    },
    {
      "cell_type": "code",
      "source": [
        "# input での入力を x に代入\n",
        "x = input(\"x?\")\n",
        "print(x)\n",
        "\n",
        "# x の型を確認\n",
        "print(type(x))"
      ],
      "metadata": {
        "id": "ePV4FV9ekUmU"
      },
      "execution_count": null,
      "outputs": []
    },
    {
      "cell_type": "markdown",
      "source": [
        "## 文字列と数の変換"
      ],
      "metadata": {
        "id": "UZ-ue1tDd-9c"
      }
    },
    {
      "cell_type": "markdown",
      "source": [
        "上の例のように、数値を入力させたいときは、inputだけでは不十分で、文字列を数値に変換する方法も一緒に利用することになる。次の書き方がある。\n",
        "\n",
        "* int(文字列)\n",
        "* float(文字列)\n",
        "* complex(文字列)"
      ],
      "metadata": {
        "id": "NhO2KVdHkn7d"
      }
    },
    {
      "cell_type": "markdown",
      "source": [
        "【プログラム2103】"
      ],
      "metadata": {
        "id": "ZMMn5ZBxtGXD"
      }
    },
    {
      "cell_type": "code",
      "source": [
        "x = input(\"x?\")\n",
        "print(x)\n",
        "\n",
        "i = int(x)\n",
        "print(i)\n",
        "\n",
        "f = float(x)\n",
        "print(f)\n",
        "\n",
        "c = complex(x)\n",
        "print(c)"
      ],
      "metadata": {
        "id": "P7-xpKflkyMK"
      },
      "execution_count": null,
      "outputs": []
    },
    {
      "cell_type": "markdown",
      "source": [
        "一方で、数値を文字列に変更するときは、次のように書く。\n",
        "\n",
        "* str(数値)"
      ],
      "metadata": {
        "id": "PPWXgCzZeyk3"
      }
    },
    {
      "cell_type": "markdown",
      "source": [
        "【プログラム2104】"
      ],
      "metadata": {
        "id": "H9RiA0PttJPv"
      }
    },
    {
      "cell_type": "code",
      "source": [
        "x = 47\n",
        "print(x + x)\n",
        "\n",
        "# x を文字列にする\n",
        "s = str(x)\n",
        "print(s + s)"
      ],
      "metadata": {
        "id": "Outqz63ie_j4"
      },
      "execution_count": null,
      "outputs": []
    },
    {
      "cell_type": "markdown",
      "source": [
        "【プログラム2105】"
      ],
      "metadata": {
        "id": "VKyw1qG_tKEB"
      }
    },
    {
      "cell_type": "code",
      "source": [
        "x = 47.0\n",
        "print(x + x)\n",
        "\n",
        "# x を文字列にする\n",
        "s = str(x)\n",
        "print(s + s)"
      ],
      "metadata": {
        "id": "bOixkqoXfaHz"
      },
      "execution_count": null,
      "outputs": []
    },
    {
      "cell_type": "markdown",
      "source": [
        "【プログラム2106】"
      ],
      "metadata": {
        "id": "fF_38AAGtLNP"
      }
    },
    {
      "cell_type": "code",
      "source": [
        "x = 47+3j\n",
        "print(x + x)\n",
        "\n",
        "# x を文字列にする\n",
        "s = str(x)\n",
        "print(s + s)"
      ],
      "metadata": {
        "id": "utwHljjafbpS"
      },
      "execution_count": null,
      "outputs": []
    },
    {
      "cell_type": "markdown",
      "source": [
        "### 数値を入力させたい場合にまとめて書く方法"
      ],
      "metadata": {
        "id": "ss6TKTc84I9C"
      }
    },
    {
      "cell_type": "markdown",
      "source": [
        "input 命令は文字列を値とする。入力された複数の数字は「数字の列」であって、数値ではない。それを数値にするプログラムとして、次のプログラムをできる。"
      ],
      "metadata": {
        "id": "mN9-xvgY4PvK"
      }
    },
    {
      "cell_type": "markdown",
      "source": [
        "【プログラム2107】"
      ],
      "metadata": {
        "id": "3R30oAz9tMe-"
      }
    },
    {
      "cell_type": "code",
      "source": [
        "# 分けて書くと\n",
        "t = input(\"a?\")\n",
        "a = int(t)\n",
        "\n",
        "# その結果を、例えば表示する\n",
        "print(a + 1)"
      ],
      "metadata": {
        "id": "E6tzZs4S7-HR"
      },
      "execution_count": null,
      "outputs": []
    },
    {
      "cell_type": "markdown",
      "source": [
        "しかし、これを1つにまとめることができる。"
      ],
      "metadata": {
        "id": "h_YlfDLw4kdc"
      }
    },
    {
      "cell_type": "markdown",
      "source": [
        "【プログラム2108】"
      ],
      "metadata": {
        "id": "W3ws4PlNtOIs"
      }
    },
    {
      "cell_type": "code",
      "source": [
        "# まとめて次の1行で済ませることができる。\n",
        "a = int(input(\"a?\"))\n",
        "\n",
        "# その結果を、例えば表示する\n",
        "print(a + 1)"
      ],
      "metadata": {
        "id": "pfBRUdHn4Cm7"
      },
      "execution_count": null,
      "outputs": []
    },
    {
      "cell_type": "markdown",
      "source": [
        "もし、その値を変数として使用しないなら、さらにまとめることもできるが、あまり意味がない。"
      ],
      "metadata": {
        "id": "zQ7I18ao4otU"
      }
    },
    {
      "cell_type": "markdown",
      "source": [
        "【プログラム2109】"
      ],
      "metadata": {
        "id": "kKD4PrxbtPTw"
      }
    },
    {
      "cell_type": "code",
      "source": [
        "print(int(input(\"a?\")) + 1)"
      ],
      "metadata": {
        "id": "jL6PJ2cl4tv-"
      },
      "execution_count": null,
      "outputs": []
    },
    {
      "cell_type": "markdown",
      "source": [
        "# （次の教材）2.2 代入と演算\n",
        "* https://colab.research.google.com/drive/1kJ7IDJIOHzh6S4kY-XnEFqhFx-VR44Og"
      ],
      "metadata": {
        "id": "GPREvmuyNdNy"
      }
    }
  ]
}