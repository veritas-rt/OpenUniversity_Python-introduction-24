{
  "nbformat": 4,
  "nbformat_minor": 0,
  "metadata": {
    "colab": {
      "provenance": []
    },
    "kernelspec": {
      "name": "python3",
      "display_name": "Python 3"
    }
  },
  "cells": [
    {
      "cell_type": "markdown",
      "source": [
        "# 第2章 キーボードから入力、代入と演算、タプルとリスト"
      ],
      "metadata": {
        "id": "mHON3KhHJDNm"
      }
    },
    {
      "cell_type": "markdown",
      "source": [
        " * 左上の「ファイル」を開いて、「ドライブにコピーを保存」をしてください。\n",
        " * 自分のGoogleドライブに、そのファイルが保存されます。ファイル名は「のコピー」が、最後（右端）についています。それを利用して学習・演習を進めて下さい。"
      ],
      "metadata": {
        "id": "lm7oxHNx4rIf"
      }
    },
    {
      "cell_type": "markdown",
      "source": [
        "# 2.4 スライス\n",
        "\n",
        "文字列や、タプル、リストを部分的に切り出す書き方のことを、スライスという。\n"
      ],
      "metadata": {
        "id": "3r7afJh6MGSD"
      }
    },
    {
      "cell_type": "markdown",
      "source": [
        "【プログラム2401】"
      ],
      "metadata": {
        "id": "NvRHTOr0ugut"
      }
    },
    {
      "cell_type": "code",
      "source": [
        "alp = 'ABCDEFGHIJKLMNOPQRSTUVWXYZ'\n",
        "\n",
        "print(alp[2:5]) #（先頭を0番目として）2番目から4番目の3文字を切り出す。\n",
        "print(alp[:5]) #（先頭を0番目として）0番目から5文字を切り出す。\n",
        "print(alp[20:]) #（先頭を0番目として）20番目から最後までを切り出す。\n",
        "print(alp[1::3]) #（先頭を0番目として）1番目から始めて、途中を3文字間隔で（2文字ずつ飛ばしながら）切り出す。\n",
        "print(alp[5:20:4]) # （先頭を0番目として）5番目から始めて、途中を4文字間隔で（3文字ずつ飛ばしながら）切り出す。20番目の文字を通らない。\n",
        "print(alp[25:4:-2]) # （先頭を0番目として）25番目から始めて、右から左に |2| 文字間隔で切り出す。4番目の文字を通らない。\n",
        "print(alp[::-1]) # 逆順に並べる。\n",
        "print(alp[:]) # 全部そのまま"
      ],
      "metadata": {
        "id": "Ui0GDKUIPP5N"
      },
      "execution_count": null,
      "outputs": []
    },
    {
      "cell_type": "markdown",
      "source": [
        "このように、スライスでは、次の書き方がある。\n",
        "* hoge[s:e]\n",
        "    * リストhogeの、（先頭を0番目として）s番目からe番目の文字を通らないように文字列を切り出す。\n",
        "* hoge[s:]\n",
        "    * リストhogeの、（先頭を0番目として）s番目から最後までの文字列を切り出す。\n",
        "* hoge[:e]\n",
        "    * リストhogeの、（先頭を0番目として）e番目の文字を通らないように文字列を切り出す。\n",
        "* hoge[s:e:d]\n",
        "    * リストhogeの、（先頭を0番目として）s番目から始めて、d文字間隔で文字列を切り出す。e番目の文字を通らない。\n",
        "* hoge[s:e:b] ただし、b < 0\n",
        "    * リストhogeの、（先頭を0番目として）s番目から始めて、右から左に |b| 文字間隔で文字列を切り出す。e番目の文字を通らない。"
      ],
      "metadata": {
        "id": "yX5LzsRt-lMm"
      }
    },
    {
      "cell_type": "markdown",
      "source": [
        "【プログラム2402】"
      ],
      "metadata": {
        "id": "TlnL1eiHukDt"
      }
    },
    {
      "cell_type": "code",
      "source": [
        "hiragana = 'あいうえおかきくけこさしすせそたちつてとなにぬねのはひふへほまみむめもやゆよらりるれろわをん'\n",
        "\n",
        "print(hiragana[2:5]) #（先頭を0番目として）2番目から4番目の3文字を切り出す。\n",
        "print(hiragana[:5]) #（先頭を0番目として）0番目から4番目の5文字を切り出す。\n",
        "print(hiragana[20:]) #（先頭を0番目として）20番目から最後までを切り出す。\n",
        "print(hiragana[1::3]) #（先頭を0番目として）1番目から3個おきに1つずつの要素のみにする。\n",
        "print(hiragana[::-1]) # 逆順に並べる。\n",
        "print(hiragana[:]) # 全部そのまま"
      ],
      "metadata": {
        "id": "IJ6wJ7a6PhZz"
      },
      "execution_count": null,
      "outputs": []
    },
    {
      "cell_type": "markdown",
      "source": [
        "【プログラム2403】"
      ],
      "metadata": {
        "id": "Ey4Emsowuk1N"
      }
    },
    {
      "cell_type": "code",
      "source": [
        "# 数を並べたタプル\n",
        "days_of_month = (31, 28, 31, 30, 31, 30, 31, 31, 30, 31, 30, 31)\n",
        "\n",
        "print(days_of_month[3:6])# 添字（インデックス）は 0 から始まる\n",
        "print(days_of_month[:2])\n",
        "print(days_of_month[7:])\n",
        "print(days_of_month[1::2])"
      ],
      "metadata": {
        "id": "mCc14xYHcMx-"
      },
      "execution_count": null,
      "outputs": []
    },
    {
      "cell_type": "markdown",
      "source": [
        "【プログラム2404】"
      ],
      "metadata": {
        "id": "qMo8sQ94unE-"
      }
    },
    {
      "cell_type": "code",
      "source": [
        "# リストに対するスライス\n",
        "hoge = [\"zero\", \"ichi\", \"ni\", \"san\", \"yon\", \"go\",\n",
        "        \"roku\", \"nana\", \"hachi\", \"kyu\", \"juu\"]\n",
        "\n",
        "print(hoge[2:5])# 添字（インデックス）は 0 から始まる\n",
        "print(hoge[:5])\n",
        "print(hoge[3:])\n",
        "print(hoge[::3])\n",
        "print(hoge[::-1])\n",
        "print(hoge[:])"
      ],
      "metadata": {
        "id": "KiwF3B2IquJK"
      },
      "execution_count": null,
      "outputs": []
    },
    {
      "cell_type": "markdown",
      "source": [
        "### 確認問題　（確認問題の正答はありません。授業中に提示します）"
      ],
      "metadata": {
        "id": "ovDE2_uSGLif"
      }
    },
    {
      "cell_type": "markdown",
      "source": [
        "長さ10のリスト hoge に対して、次のスライスは何を表すか。プログラムを作って確認せよ。\n",
        "* hoge[1:20]\n",
        "* hoge[10:]\n",
        "* hoge[20:]\n",
        "* hoge[8:4]"
      ],
      "metadata": {
        "id": "zFbXRnbJ3Dvb"
      }
    },
    {
      "cell_type": "code",
      "source": [
        "hoge = [\"あ\", \"い\", \"う\", \"え\", \"お\",\n",
        "        \"か\", \"き\", \"く\", \"け\", \"こ\"]\n"
      ],
      "metadata": {
        "id": "3MB2TiMSLgR7"
      },
      "execution_count": null,
      "outputs": []
    },
    {
      "cell_type": "markdown",
      "source": [
        "## リスト・タプルと文字列の変換"
      ],
      "metadata": {
        "id": "L0cDFrmwOBDI"
      }
    },
    {
      "cell_type": "markdown",
      "source": [
        "### リストやタプルを文字列にする"
      ],
      "metadata": {
        "id": "x0ILRcJtAfwj"
      }
    },
    {
      "cell_type": "markdown",
      "source": [
        "リストやタプルを文字列にするには、str を用いる。"
      ],
      "metadata": {
        "id": "BnW8rI1IAimP"
      }
    },
    {
      "cell_type": "markdown",
      "source": [
        "【プログラム2405】"
      ],
      "metadata": {
        "id": "K3Smn1Snupma"
      }
    },
    {
      "cell_type": "code",
      "source": [
        "# リストの定義\n",
        "hoge = [\"kita\", \"higashi\", \"minami\", \"nishi\"]\n",
        "\n",
        "# 連結するために、文字列に変換する\n",
        "ugougo = str(hoge) + \"desu.\"\n",
        "print(ugougo)"
      ],
      "metadata": {
        "id": "l0aazKOLCpuF"
      },
      "execution_count": null,
      "outputs": []
    },
    {
      "cell_type": "markdown",
      "source": [
        "リストと文字列を直接連結することはできない。"
      ],
      "metadata": {
        "id": "03FwnXThCGIL"
      }
    },
    {
      "cell_type": "markdown",
      "source": [
        "【プログラム2406】"
      ],
      "metadata": {
        "id": "T_TduOCZusNC"
      }
    },
    {
      "cell_type": "code",
      "source": [
        "# リストの定義\n",
        "hoge = [\"kita\", \"higashi\", \"minami\", \"nishi\"]\n",
        "\n",
        "# 次の代入は、型エラー(TypeError)になる\n",
        "ugougo = hoge + \"desu.\"\n",
        "print(ugougo)"
      ],
      "metadata": {
        "id": "qHkmYXlYCKDe"
      },
      "execution_count": null,
      "outputs": []
    },
    {
      "cell_type": "markdown",
      "source": [
        "スライスを見るとよくわかる。"
      ],
      "metadata": {
        "id": "WCArTo1-DDmQ"
      }
    },
    {
      "cell_type": "markdown",
      "source": [
        "【プログラム2407】"
      ],
      "metadata": {
        "id": "TMp9pZVOutbe"
      }
    },
    {
      "cell_type": "code",
      "source": [
        "# リストの定義\n",
        "hoge = [\"kita\", \"higashi\", \"minami\", \"nishi\"]\n",
        "\n",
        "# リストを連結する\n",
        "hogehoge = hoge + hoge\n",
        "print(hogehoge)\n",
        "print(hogehoge[:6]) # 最初の6つの要素\n",
        "print(\"\")\n",
        "\n",
        "# リストを文字列にして連結する\n",
        "fugafuga = str(hoge) + str(hoge)\n",
        "print(fugafuga)\n",
        "print(fugafuga[:6]) # 最初の6文字"
      ],
      "metadata": {
        "id": "Ce8V0y8ZAltd"
      },
      "execution_count": null,
      "outputs": []
    },
    {
      "cell_type": "markdown",
      "source": [
        "タプルも文字列に変換できる。"
      ],
      "metadata": {
        "id": "mEu5OoI7EOMk"
      }
    },
    {
      "cell_type": "markdown",
      "source": [
        "【プログラム2408】"
      ],
      "metadata": {
        "id": "JGyKwl9juu1l"
      }
    },
    {
      "cell_type": "code",
      "source": [
        "# タプル\n",
        "youbi_tuple = (\"getsu\", \"ka\", \"sui\", \"moku\", \"kin\", \"do\")\n",
        "print(youbi_tuple)\n",
        "aa = str(youbi_tuple)\n",
        "print(aa[:5])"
      ],
      "metadata": {
        "id": "woH9cQ0eD7kp"
      },
      "execution_count": null,
      "outputs": []
    },
    {
      "cell_type": "markdown",
      "source": [
        "### 文字列をリストにする"
      ],
      "metadata": {
        "id": "xe4DeP3CFS01"
      }
    },
    {
      "cell_type": "markdown",
      "source": [
        "リストのような文字列をリストにするには、eval を用いる。"
      ],
      "metadata": {
        "id": "TCG7DLExFVN8"
      }
    },
    {
      "cell_type": "markdown",
      "source": [
        "【プログラム2409】"
      ],
      "metadata": {
        "id": "Fmc_SZoOuwJ9"
      }
    },
    {
      "cell_type": "code",
      "source": [
        "# リストのような文字列の定義\n",
        "housoudaigaku =\"['Nihon', 'Chiba', 'Chiba', 'Mihama', 'Wakaba', '2-11']\"\n",
        "\n",
        "# 文字列としての処理\n",
        "print(housoudaigaku)\n",
        "print(housoudaigaku[:4]) # 先頭4文字\n",
        "\n",
        "# リストにして処理\n",
        "jusyo = eval(housoudaigaku)\n",
        "print(jusyo)\n",
        "print(jusyo[:4]) # 先頭4要素"
      ],
      "metadata": {
        "id": "S6PMm58eFY5n"
      },
      "execution_count": null,
      "outputs": []
    },
    {
      "cell_type": "markdown",
      "source": [
        "文字列を、区切りをつけて分割してリストにすることもできる。"
      ],
      "metadata": {
        "id": "2TFpC82xGXAJ"
      }
    },
    {
      "cell_type": "markdown",
      "source": [
        "【プログラム2410】"
      ],
      "metadata": {
        "id": "6eL2GdpbuxWQ"
      }
    },
    {
      "cell_type": "code",
      "source": [
        "# 文字列の定義\n",
        "cmes = \"It was seen early in the morning rushing over Winchester eastward, \\\n",
        "    a line of flame, high in the atmosphere.\"\n",
        "\n",
        "# 文字列を、空白を区切りにして分割してリストにして  words に代入する\n",
        "words = cmes.split(' ')\n",
        "\n",
        "# 結果の表示\n",
        "print(words)\n",
        "print(words[3]) # 4番目の要素\n",
        "\n",
        "# スライスで逆順にする\n",
        "print(words[::-1])"
      ],
      "metadata": {
        "id": "R_zwocuKGuI4"
      },
      "execution_count": null,
      "outputs": []
    },
    {
      "cell_type": "markdown",
      "source": [
        "タプルのような文字列も eval でタプルにできる。"
      ],
      "metadata": {
        "id": "FrAvvofgQHhb"
      }
    },
    {
      "cell_type": "markdown",
      "source": [
        "【プログラム2411】"
      ],
      "metadata": {
        "id": "cnhEDDikuy3G"
      }
    },
    {
      "cell_type": "code",
      "source": [
        "# タプルのような文字列\n",
        "kudamono = \"('ringo', 'mikan', 'banana', 'momo', 'nashi', 'budo', 'itidiku')\"\n",
        "print(kudamono)\n",
        "print(kudamono[:5])\n",
        "\n",
        "kudamonotuple = eval(kudamono)\n",
        "print(kudamonotuple)\n",
        "print(kudamonotuple[:5])"
      ],
      "metadata": {
        "id": "4WAQmRKgO_8_"
      },
      "execution_count": null,
      "outputs": []
    }
  ]
}