{
  "nbformat": 4,
  "nbformat_minor": 0,
  "metadata": {
    "colab": {
      "provenance": [],
      "collapsed_sections": [
        "WX4sRVO63me5",
        "FnSBdgK-Bwtz"
      ]
    },
    "kernelspec": {
      "name": "python3",
      "display_name": "Python 3"
    }
  },
  "cells": [
    {
      "cell_type": "markdown",
      "source": [
        "# 第2章 キーボードから入力、代入と演算、タプルとリスト"
      ],
      "metadata": {
        "id": "mHON3KhHJDNm"
      }
    },
    {
      "cell_type": "markdown",
      "source": [
        " * 左上の「ファイル」を開いて、「ドライブにコピーを保存」をしてください。\n",
        " * 自分のGoogleドライブに、そのファイルが保存されます。ファイル名は「のコピー」が、最後（右端）についています。それを利用して学習・演習を進めて下さい。"
      ],
      "metadata": {
        "id": "lm7oxHNx4rIf"
      }
    },
    {
      "cell_type": "markdown",
      "source": [
        "# 2.2 代入と演算"
      ],
      "metadata": {
        "id": "ZdYIGqmOg8lS"
      }
    },
    {
      "cell_type": "markdown",
      "source": [
        "## 算術演算子\n"
      ],
      "metadata": {
        "id": "N0ARE0rFBBMw"
      }
    },
    {
      "cell_type": "markdown",
      "source": [
        "Python の基本的な計算用の演算記号は、以下の通り。\n",
        "\n",
        "四則演算（既出） +, -, *, /\n",
        "\n",
        "その他\n",
        "* x // y　商（割り算を整数の範囲で行った結果）\n",
        "* x % y 　余り（剰余）\n",
        "* x ** y  　xのy乗（累乗）\n",
        "* abs(x) 　xの絶対値（大きさ）"
      ],
      "metadata": {
        "id": "bt7u_SLFlrNC"
      }
    },
    {
      "cell_type": "markdown",
      "source": [
        "【プログラム2201】"
      ],
      "metadata": {
        "id": "HHAEcyzOtWwj"
      }
    },
    {
      "cell_type": "code",
      "source": [
        "# 70を8で割った値\n",
        "print(70 / 8)\n",
        "\n",
        "# 70を8で割った商\n",
        "print(70 // 8)\n",
        "\n",
        "# 70を8で割ったときの余り\n",
        "print(70 % 8)"
      ],
      "metadata": {
        "id": "qYNfrDAZhBdY"
      },
      "execution_count": null,
      "outputs": []
    },
    {
      "cell_type": "markdown",
      "source": [
        "【プログラム2202】"
      ],
      "metadata": {
        "id": "NSepLuXHtZmV"
      }
    },
    {
      "cell_type": "code",
      "source": [
        "# 2 の 100 乗を表示する\n",
        "n = 100\n",
        "print(2 ** n)"
      ],
      "metadata": {
        "id": "DIKmdGY4hXPb"
      },
      "execution_count": null,
      "outputs": []
    },
    {
      "cell_type": "markdown",
      "source": [
        "【プログラム2203】"
      ],
      "metadata": {
        "id": "-15U1xkftahe"
      }
    },
    {
      "cell_type": "code",
      "source": [
        "# 絶対値 absolute value を求める\n",
        "print(abs(4)) # 正の場合はそのまま\n",
        "print(abs(-7)) # 負の場合は、その値の -1 倍\n",
        "print(abs(0)) # 0 の絶対値は 0"
      ],
      "metadata": {
        "id": "TrIc6k10n3-q"
      },
      "execution_count": null,
      "outputs": []
    },
    {
      "cell_type": "markdown",
      "source": [
        "###代入命令の向き\n",
        "\n",
        "Pythonに限らず、多くのプログラミング言語では、＝（イコール）の右側を計算した結果を、左側に代入する。"
      ],
      "metadata": {
        "id": "IkXPn4WTC0pN"
      }
    },
    {
      "cell_type": "markdown",
      "source": [
        "【プログラム2204】"
      ],
      "metadata": {
        "id": "QOecZ1J_tbuC"
      }
    },
    {
      "cell_type": "code",
      "source": [
        "x = 3 + 4\n",
        "print(\"x =\", x)"
      ],
      "metadata": {
        "id": "gWVmkkfzDLpi"
      },
      "execution_count": null,
      "outputs": []
    },
    {
      "cell_type": "markdown",
      "source": [
        "代入は、逆向きにはかけない。すなわち、左辺を計算して右辺に代入することはできない。"
      ],
      "metadata": {
        "id": "deSv_sDHJrm7"
      }
    },
    {
      "cell_type": "markdown",
      "source": [
        "【プログラム2205】"
      ],
      "metadata": {
        "id": "iPD0Fb1RteMI"
      }
    },
    {
      "cell_type": "code",
      "source": [
        "# このプログラムはエラーになる\n",
        "3 + 4 = x\n",
        "print(\"x =\", x)"
      ],
      "metadata": {
        "id": "vn0-fl2kDOo1"
      },
      "execution_count": null,
      "outputs": []
    },
    {
      "cell_type": "markdown",
      "source": [
        "イコールの左の変数が右にも登場することがある。その場合は、右側は「現在の値」で、左側は「新しい値」となる。"
      ],
      "metadata": {
        "id": "ji2iooO7DYQH"
      }
    },
    {
      "cell_type": "markdown",
      "source": [
        "【プログラム2206】"
      ],
      "metadata": {
        "id": "7IbCZT6htfrI"
      }
    },
    {
      "cell_type": "code",
      "source": [
        "x = 1\n",
        "print(\"x =\", x)\n",
        "\n",
        "# 新しい x の値は、古い x の値に3を加えた値。つまり、ｘは3増える\n",
        "x = x + 3\n",
        "print(\"x =\", x)"
      ],
      "metadata": {
        "id": "39O8d4ksDhdO"
      },
      "execution_count": null,
      "outputs": []
    },
    {
      "cell_type": "markdown",
      "source": [
        "### 演算結果を代入するときの記法"
      ],
      "metadata": {
        "id": "P9UA0cGfgu4w"
      }
    },
    {
      "cell_type": "markdown",
      "source": [
        "+= や、 -= という代入命令は、今の左辺の変数の値を、右辺の値だけ増減する。"
      ],
      "metadata": {
        "id": "XkqK7RKdDpWw"
      }
    },
    {
      "cell_type": "markdown",
      "source": [
        "【プログラム2207】"
      ],
      "metadata": {
        "id": "3CHbRF4Mtg86"
      }
    },
    {
      "cell_type": "code",
      "source": [
        "x = 3\n",
        "print(x)\n",
        "x += 7\n",
        "print(x)\n",
        "x -= 4\n",
        "print(x)"
      ],
      "metadata": {
        "id": "Ta0aeLICDzT5"
      },
      "execution_count": null,
      "outputs": []
    },
    {
      "cell_type": "markdown",
      "source": [
        "+= を文字列に用いることもできる。"
      ],
      "metadata": {
        "id": "xb2hF_C3PCwU"
      }
    },
    {
      "cell_type": "markdown",
      "source": [
        "【プログラム2208】"
      ],
      "metadata": {
        "id": "jK5odVuJtiPt"
      }
    },
    {
      "cell_type": "code",
      "source": [
        "x = \"a\"\n",
        "print(x)\n",
        "x += \"b\"\n",
        "print(x)\n",
        "x += x\n",
        "print(x)"
      ],
      "metadata": {
        "id": "uwczvP8mPG_B"
      },
      "execution_count": null,
      "outputs": []
    },
    {
      "cell_type": "markdown",
      "source": [
        "### 確認問題\n",
        "\n",
        "次のプログラムは、どのような内容を表示するか。実行前に予想してから、実行して確認せよ。"
      ],
      "metadata": {
        "id": "iOAzJFTFHYxd"
      }
    },
    {
      "cell_type": "markdown",
      "source": [
        "(1)"
      ],
      "metadata": {
        "id": "PAIScc4utjY6"
      }
    },
    {
      "cell_type": "code",
      "source": [
        "s = \"ABC\"\n",
        "s += s\n",
        "print(s)"
      ],
      "metadata": {
        "id": "CA52baiAHfj2"
      },
      "execution_count": null,
      "outputs": []
    },
    {
      "cell_type": "markdown",
      "source": [
        "(2)"
      ],
      "metadata": {
        "id": "eYZecVT_tkQY"
      }
    },
    {
      "cell_type": "code",
      "source": [
        "t = \"123\"\n",
        "t += t\n",
        "print(t)"
      ],
      "metadata": {
        "id": "_UUb5ioZHsKk"
      },
      "execution_count": null,
      "outputs": []
    },
    {
      "cell_type": "markdown",
      "source": [
        "(3)"
      ],
      "metadata": {
        "id": "OLbyOBzNtlMR"
      }
    },
    {
      "cell_type": "code",
      "source": [
        "t = int(\"123\")\n",
        "t += t\n",
        "print(t)"
      ],
      "metadata": {
        "id": "x_WjNU3Juow0"
      },
      "execution_count": null,
      "outputs": []
    },
    {
      "cell_type": "markdown",
      "source": [
        "##入力によって動作がかわる例"
      ],
      "metadata": {
        "id": "Xc2uvBGGmA9g"
      }
    },
    {
      "cell_type": "markdown",
      "source": [
        "input 文と代入文を利用して、入力によって動作が変わる例を作成することができる。例えば、数 x を入力させて、 3 * x + １ の値を出力させるプログラムは、次のものとなる。"
      ],
      "metadata": {
        "id": "PSQcNYFaqHmI"
      }
    },
    {
      "cell_type": "markdown",
      "source": [
        "【プログラム2209】"
      ],
      "metadata": {
        "id": "YtZJ38qxtpzY"
      }
    },
    {
      "cell_type": "code",
      "source": [
        "x = int(input(\"x?\"))\n",
        "print(3 * x + 1)"
      ],
      "metadata": {
        "id": "WlQwNsOnqmK8"
      },
      "execution_count": null,
      "outputs": []
    },
    {
      "cell_type": "markdown",
      "source": [
        "## 練習問題（練習問題の正答は、別の[シート](https://colab.research.google.com/drive/10VBb0x3a54CYB09mpu6t0rttoY6jJhxO)にあります。）"
      ],
      "metadata": {
        "id": "ckwS1WyYVFFm"
      }
    },
    {
      "cell_type": "markdown",
      "source": [
        "【問題】2つの数値を入力させて、その和を表示するプログラムを作れ。"
      ],
      "metadata": {
        "id": "gE3opokjkFwP"
      }
    },
    {
      "cell_type": "code",
      "source": [],
      "metadata": {
        "id": "VvLoHaycuzhC"
      },
      "execution_count": null,
      "outputs": []
    },
    {
      "cell_type": "markdown",
      "source": [
        "## 練習問題（練習問題の正答は、別の[シート](https://colab.research.google.com/drive/1bfMXlCMSvB22y8N7v7e3ejByfE_2mkQ5)にあります。）"
      ],
      "metadata": {
        "id": "PnMCodqmWpep"
      }
    },
    {
      "cell_type": "markdown",
      "source": [
        "【問題】入力した整数の2乗を表示するプログラムを作れ。"
      ],
      "metadata": {
        "id": "vI5aZWWSCL60"
      }
    },
    {
      "cell_type": "code",
      "source": [],
      "metadata": {
        "id": "CPC0VJSEu0XY"
      },
      "execution_count": null,
      "outputs": []
    },
    {
      "cell_type": "markdown",
      "source": [
        "# （次の教材）2.3 タプルとリスト\n",
        "* https://colab.research.google.com/drive/1jOqjHEjsEYfjfqv_c4-S8sKFyYMk99li"
      ],
      "metadata": {
        "id": "RNsEUXkENzq_"
      }
    }
  ]
}