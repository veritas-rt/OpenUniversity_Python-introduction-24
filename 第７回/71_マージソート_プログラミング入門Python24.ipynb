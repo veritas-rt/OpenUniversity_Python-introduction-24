{
  "nbformat": 4,
  "nbformat_minor": 0,
  "metadata": {
    "colab": {
      "provenance": [],
      "collapsed_sections": [
        "WX4sRVO63me5",
        "FnSBdgK-Bwtz"
      ]
    },
    "kernelspec": {
      "name": "python3",
      "display_name": "Python 3"
    }
  },
  "cells": [
    {
      "cell_type": "markdown",
      "source": [
        "# 第7章  マージソート・数学の問題・線形計画法"
      ],
      "metadata": {
        "id": "FfkwmtR4rYZe"
      }
    },
    {
      "cell_type": "markdown",
      "source": [
        " * 左上の「ファイル」を開いて、「ドライブにコピーを保存」をしてください。\n",
        " * 自分のGoogleドライブに、そのファイルが保存されます。ファイル名は「のコピー」が、最後（右端）についています。それを利用して学習・演習を進めて下さい。"
      ],
      "metadata": {
        "id": "lm7oxHNx4rIf"
      }
    },
    {
      "cell_type": "markdown",
      "source": [
        "* 整列法の一つであるマージソート\n",
        "* 最大公約数を求めるユークリッド互除法\n",
        "* 素数判定の方法、素数の列挙をするエラトステネスのふるい\n",
        "* 乱数を利用したモンテカルロ法\n",
        "* 線形計画法"
      ],
      "metadata": {
        "id": "2y6-HJXH9YZS"
      }
    },
    {
      "cell_type": "markdown",
      "source": [
        "# 7.1 マージソート"
      ],
      "metadata": {
        "id": "g4qtMcygpilk"
      }
    },
    {
      "cell_type": "markdown",
      "source": [
        "マージソートは、長いリストを半分にして、その半分を整列させ、その後、それらを併合（マージ）することで全体を整列させる整列法である。このとき、「その半分を整列させる」際にも、マージソートを利用するため、再帰呼び出しによって記述できる。"
      ],
      "metadata": {
        "id": "mN1O_z7bFrEI"
      }
    },
    {
      "cell_type": "markdown",
      "source": [
        "例えば\n",
        "\n",
        "* b = [48,6,98,23,343,2,56,78,244,53,0,33,257]\n",
        "\n",
        "というリストを、真ん中の位置で切って、次の2つに分割する。\n",
        "\n",
        "* b1 = [48,6,98,23,343,2,56]\n",
        "* b2 = [78,244,53,0,33,257]\n",
        "\n",
        "さらに、 b1 を次の2つに分割する。\n",
        "\n",
        "* b11 = [48,6,98,23]\n",
        "* b12 = [343,2,56]\n",
        "\n",
        "b11 も分割する。\n",
        "\n",
        "* b111 = [48,6]\n",
        "* b112 = [98,23]\n",
        "\n",
        "b111 も分割する。\n",
        "\n",
        "* b1111 = [48]\n",
        "* b1112 = [6]\n",
        "\n",
        "そして、この2つを整列させてつなげる。\n",
        "\n",
        "* b111 = [6,48]\n",
        "\n",
        "同様にして、b112 を整列させて b111 とつなげて、 b11 を作る。\n",
        "\n",
        "* b11 = [6,23,48,98]\n",
        "\n",
        "同様にして、b12 を整列させて b11 とつなげて、b1 を作る。\n",
        "\n",
        "* b1 = [2,6,23,48,56,98,343]\n",
        "\n",
        "同様にして、b2 を整列させる。\n",
        "\n",
        "* b2 = [0,33,53,78,244,257]\n",
        "\n",
        "そして、b1 と b2 をつなげて、b を作る。\n",
        "\n",
        "* b = [0,2,6,23,33,48,53,56,78,98,244,257,343]\n",
        "\n",
        "なお、各段階では、短い整列済のリストのそれぞれの前（左）から一つずつ同時に見ていき、小さい方を拾いながら 長いリストを作っていく。\n"
      ],
      "metadata": {
        "id": "t3OlMtv0j04W"
      }
    },
    {
      "cell_type": "markdown",
      "source": [
        "【プログラム7101】"
      ],
      "metadata": {
        "id": "neovoPQRY-2X"
      }
    },
    {
      "cell_type": "code",
      "metadata": {
        "id": "LCzJmGCiOvxu"
      },
      "source": [
        "import random as rd #動作テスト用に乱数ライブラリを使うので、先に宣言しておく\n",
        "\n",
        "# マージソート を再帰（帰納的関数）で定義する\n",
        "def msort(target): # リスト target を整列して返す関数を定義する\n",
        "    nagasa = len(target)\n",
        "    if nagasa < 2: # 大きさが 2 未満なら、そのまま返す。\n",
        "        return target\n",
        "\n",
        "    else: # 大きさが2以上のときは、前後に分割して、それぞれを整列させてから、併合（マージ）する。\n",
        "        lmae = int(nagasa / 2) # 前側の長さを求めておく。\n",
        "        lushiro = nagasa - lmae # ushiro の長さを求めておく（後で使う）\n",
        "\n",
        "        # target の前半分を mae に入れる\n",
        "        mae = target[:lmae]\n",
        "        mae = msort(mae) # mae を整列する（再帰）\n",
        "        # target の後半分を ushiro に入れる\n",
        "        ushiro = target[lmae:]\n",
        "        ushiro = msort(ushiro) # ushiro を整列する（再帰）\n",
        "\n",
        "        m = 0 # mae の m 番目を見ることにする\n",
        "        u = 0 # ushiro の u 番目を見ることにする\n",
        "        r = [] # 整列結果を r に入れることにする\n",
        "\n",
        "        while m < lmae or u < lushiro: # まだ整列が終わってないときに繰り返す\n",
        "            if m == lmae: # すでに mae をすべて見終わっていたら\n",
        "                r += ushiro[u:] # リスト uhsiro の残りをすべて r にくっつけて\n",
        "                u = lushiro # 後ろ側も終了にする\n",
        "            elif u == lushiro: # まだ mae を見終えていないが、すでに ushiro をすべて見終わっていたら\n",
        "                r += mae[m:] # リスト mae の残りをすべて r にくっつけて\n",
        "                m = lmae # 前側も終了にする\n",
        "            else: # mae も、 ushiro も、見終えてないときは\n",
        "                if mae[m] < ushiro[u]: # それぞれで、まだ r に入れていない先頭の要素同士を比較して、maeが小さいなら\n",
        "                    r.append(mae[m]) # r に、mae の先頭を追加して\n",
        "                    m += 1 # m を一つ増やす\n",
        "                else:\n",
        "                    r.append(ushiro[u]) # r に、ushiro の先頭を追加して\n",
        "                    u += 1 # u を一つ増やす\n",
        "    # print(\"out: \", r)\n",
        "    return r\n",
        "\n",
        "# 0以上999以下の乱数を kosu 個生成してリストにする\n",
        "kosu = 12\n",
        "min_r, max_r = 0, 999\n",
        "\n",
        "# min_r 以上 max_r以下の乱数を kosu個 生成する\n",
        "narabi = [rd.randint(min_r, max_r) for _ in range(kosu)]\n",
        "\n",
        "print(\"Before: \"+ str(narabi)) # 整列前を表示\n",
        "narabi = msort(narabi)\n",
        "print(\"After_: \"+ str(narabi)) # 整列後を表示"
      ],
      "execution_count": null,
      "outputs": []
    },
    {
      "cell_type": "markdown",
      "source": [
        "# 次の教材\n",
        "\n",
        "7.2 ユークリッドの互除法\n",
        "* https://colab.research.google.com/drive/1gk27UtkJXZlELdH1iKfElCLI-zLHD3ly"
      ],
      "metadata": {
        "id": "NjtK8yDRU6fv"
      }
    }
  ]
}