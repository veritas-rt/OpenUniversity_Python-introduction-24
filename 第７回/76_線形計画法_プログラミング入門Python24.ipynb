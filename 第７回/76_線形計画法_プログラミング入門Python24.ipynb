{
  "nbformat": 4,
  "nbformat_minor": 0,
  "metadata": {
    "colab": {
      "provenance": [],
      "collapsed_sections": [
        "WX4sRVO63me5",
        "FnSBdgK-Bwtz"
      ]
    },
    "kernelspec": {
      "name": "python3",
      "display_name": "Python 3"
    }
  },
  "cells": [
    {
      "cell_type": "markdown",
      "source": [
        "# 第7章  マージソート・数学の問題・線形計画法"
      ],
      "metadata": {
        "id": "FfkwmtR4rYZe"
      }
    },
    {
      "cell_type": "markdown",
      "source": [
        " * 左上の「ファイル」を開いて、「ドライブにコピーを保存」をしてください。\n",
        " * 自分のGoogleドライブに、そのファイルが保存されます。ファイル名は「のコピー」が、最後（右端）についています。それを利用して学習・演習を進めて下さい。"
      ],
      "metadata": {
        "id": "RZjgwqP1-B_s"
      }
    },
    {
      "cell_type": "markdown",
      "metadata": {
        "id": "h-iF5fdmOL1a"
      },
      "source": [
        "# 7.6 線形計画法"
      ]
    },
    {
      "cell_type": "markdown",
      "source": [
        "次の問題を考える。\n",
        "\n",
        "* 文化祭ですずらんとかすみ草を使って花束セットAと花束セットBを作って売ることにしました。\n",
        "\n",
        "  * 花束セットAは1束につき すずらん3本、かすみ草5本を使い、売値は300円\n",
        "  * 花束セットBは1束につき すずらん2本、かすみ草3本を使い、売値は190円\n",
        "\n",
        "当日確保できた花は、すずらん90本、かすみ草140本でした。さて、この材料で作った花束セットAと花束セットBが全部売り切れると仮定すると、売上げを最大にするには、花束セットAと花束セットBをそれぞれ何束作っておけばいいでしょうか?\n",
        "\n",
        "この問題では、花束セットAの個数を$x$、花束セットBの個数を$y$と置き、与えられた条件を数式で表し、さらに売上げを表す変数を$P$と置き、それを表計算ソフトを利用して解くという次のような手順をたどればよい。\n",
        "\n",
        "* すずらんについて $3x+2y\\le 90$……（ア）\n",
        "* かすみ草について $5x+3y\\le 140$……（イ）\n",
        "* $ P=300x+190y $……（ウ）\n",
        "\n",
        "シミュレーションによって$P$の最大値を探す。\n",
        "\n",
        "数学的に見れば、数式（ア）（イ）（ウ）は、線形計画法に典型的な問題であるが、$x, y$の値は非負整数上を動くため、$P$の最大値問題を解くことは数学的には容易ではない。一方、この問題を表計算ソフトやプログラミングで分析することができれば、数学の解法よりもはるかに簡単に正解を求めることができる。\n",
        "\n",
        "* 14行目： 花束セットAを0個と仮定し、\n",
        "* 17行目から18行目：花束セットAの個数を一つずづ増やしながら、作れる花束セットA、Bの個数を求め、売上を計算する。\n",
        "* 21行目から22行目：今までの売上最大値よりも大きな値が観測されたら、それを覚える。\n",
        "* 23行目から25行目：花束セットAを一つ増やすと、花束セットBの材料となるすずらんとかすみ草の数が減る。\n",
        "* 27行目以降：覚えた結果を表示する。\n"
      ],
      "metadata": {
        "id": "kP6h9C_ij20_"
      }
    },
    {
      "cell_type": "markdown",
      "source": [
        "【プログラム7601】"
      ],
      "metadata": {
        "id": "xnEbSKtaZUsX"
      }
    },
    {
      "cell_type": "code",
      "metadata": {
        "id": "DbYuZoruLYfM"
      },
      "source": [
        "import matplotlib.pyplot as plt\n",
        "\n",
        "# 状況の設定\n",
        "suzuran = 90\n",
        "kasumi = 140\n",
        "a_suzuran, a_kasumi, a_price = 3, 5, 300\n",
        "b_suzuran, b_kasumi, b_price = 2, 3, 190\n",
        "\n",
        "p_saidai, a_saidai, b_saidai = 0, 0, 0\n",
        "# グラフを描くために、まず、縦軸 p のリストを用意する\n",
        "p = []\n",
        "\n",
        "# 花束セットA が 0 と仮定して開始する\n",
        "hana_a = 0\n",
        "\n",
        "while suzuran >= 0 and kasumi >= 0: # 花が残っている限り、繰り返しを続ける\n",
        "    hana_b = min(int(suzuran / b_suzuran), int(kasumi / b_kasumi)) # 現在の花で作れるセットBの数\n",
        "    price = a_price * hana_a + b_price * hana_b # 現在の売上合計\n",
        "    print('A = ', hana_a, ', B = ', hana_b, ', P = ', price)  # 確認用\n",
        "    p.append(price) # 価格を追加\n",
        "    if (price > p_saidai): # 売上合計が、それまでより高額であれば\n",
        "        p_saidai, a_saidai, b_saidai = price, hana_a, hana_b # 最大値となっているところを記録\n",
        "    hana_a += 1 # 次の繰り返しのためにセットA をひとつ増やす\n",
        "    suzuran -= a_suzuran # 次の繰り返しのためにセットA をひとつ分のすずらんを使う\n",
        "    kasumi -= a_kasumi # 次の繰り返しのためにセットA をひとつ分のかすみ草を使う\n",
        "\n",
        "plt.xlabel(\"A\")\n",
        "plt.ylabel(\"price\")\n",
        "plt.plot(p)\n",
        "print('Result: A = ', a_saidai, ', B = ', b_saidai, ', P = ', p_saidai)"
      ],
      "execution_count": null,
      "outputs": []
    },
    {
      "cell_type": "markdown",
      "source": [
        "### 確認問題　（確認問題の正答はありません。授業中に提示します）"
      ],
      "metadata": {
        "id": "GlAkrmpHoSA4"
      }
    },
    {
      "cell_type": "markdown",
      "source": [
        "1. 上記のプログラムの、それぞれの価格や、セットの組み方、仕入れられる分量を変化させてみて、最多の利益となるための販売戦略を考えよ。\n",
        "\n",
        "2. 上記と同様の構造を持つ問題を考え、それを解いてみよ。例えば、「2つの車種の燃費と汚染物質と積載量」「2つの栄養素のカロリーと脂質とビタミン量」など。"
      ],
      "metadata": {
        "id": "MCiVJ5U8oUYa"
      }
    },
    {
      "cell_type": "markdown",
      "source": [
        "### 参考"
      ],
      "metadata": {
        "id": "XeklK5QVTcqw"
      }
    },
    {
      "cell_type": "markdown",
      "source": [
        "線形計画法を解くモジュールがあり、それを利用すると、簡単に正解を得ることができる。ただし、この授業では、アルゴリズムを学ぶことが目的であるため、この部分については説明しない。"
      ],
      "metadata": {
        "id": "yfH1PrBxTejN"
      }
    },
    {
      "cell_type": "markdown",
      "source": [
        "【プログラム7602】"
      ],
      "metadata": {
        "id": "edytFmnNZWnV"
      }
    },
    {
      "cell_type": "code",
      "source": [
        "# 線形計画法モジュールによる求解\n",
        "!pip install pulp\n",
        "# 線形計画法のモジュールをインポート\n",
        "from pulp import *\n",
        "\n",
        "suzuran = 90\n",
        "kasumi = 140\n",
        "a_suzuran, a_kasumi, a_price = 3, 5, 300\n",
        "b_suzuran, b_kasumi, b_price = 2, 3, 190\n",
        "\n",
        "# オブジェクトを作る\n",
        "\n",
        "# 最大値問題という設定\n",
        "problem = LpProblem(name='問題', sense=LpMaximize)\n",
        "\n",
        "#変化させる変数の宣言\n",
        "hana_a = LpVariable('hana_a', lowBound=0, cat=\"Integer\")\n",
        "hana_b = LpVariable('hana_b', lowBound=0, cat=\"Integer\")\n",
        "\n",
        "# 目的関数 P の定義\n",
        "problem.objective += a_price * hana_a + b_price * hana_b\n",
        "\n",
        "# 制約条件\n",
        "problem += a_suzuran * hana_a + b_suzuran * hana_b <= suzuran\n",
        "problem += a_kasumi  * hana_a + b_kasumi  * hana_b <= kasumi\n",
        "problem += hana_a >= 0\n",
        "problem += hana_b >= 0\n",
        "\n",
        "#解く\n",
        "print(problem)\n",
        "problem.solve()\n",
        "print(\"Status : \", LpStatus[problem.status])\n",
        "\n",
        "# 結果（最大値）\n",
        "print(\"P = \", value(problem.objective))\n",
        "\n",
        "#そのときの変数の値を表示する\n",
        "for v in problem.variables():\n",
        "    print(v.name, \"=\", v.varValue)"
      ],
      "metadata": {
        "id": "Qm16V1K8DPwq"
      },
      "execution_count": null,
      "outputs": []
    }
  ]
}