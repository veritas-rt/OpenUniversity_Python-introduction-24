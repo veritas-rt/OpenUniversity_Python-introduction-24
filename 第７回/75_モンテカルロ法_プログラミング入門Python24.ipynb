{
  "nbformat": 4,
  "nbformat_minor": 0,
  "metadata": {
    "colab": {
      "provenance": [],
      "collapsed_sections": [
        "WX4sRVO63me5",
        "FnSBdgK-Bwtz"
      ]
    },
    "kernelspec": {
      "name": "python3",
      "display_name": "Python 3"
    }
  },
  "cells": [
    {
      "cell_type": "markdown",
      "source": [
        "# 第7章  マージソート・数学の問題・線形計画法"
      ],
      "metadata": {
        "id": "P6SMcJPYrTjk"
      }
    },
    {
      "cell_type": "markdown",
      "source": [
        " * 左上の「ファイル」を開いて、「ドライブにコピーを保存」をしてください。\n",
        " * 自分のGoogleドライブに、そのファイルが保存されます。ファイル名は「のコピー」が、最後（右端）についています。それを利用して学習・演習を進めて下さい。"
      ],
      "metadata": {
        "id": "lm7oxHNx4rIf"
      }
    },
    {
      "cell_type": "markdown",
      "source": [
        "# 7.5 モンテカルロ法"
      ],
      "metadata": {
        "id": "PKqOQloCvnej"
      }
    },
    {
      "cell_type": "markdown",
      "metadata": {
        "id": "6R5bHRaSBPfN"
      },
      "source": [
        "まず、以下の二つの領域を考える。\n",
        "\n",
        "* $ Q = \\{(x,y)\\ |\\ 0 \\le x^2 + y^2 < 1\\}$\n",
        "* $ R = \\{(x,y)\\ |\\ 0 \\le x < 1 かつ 0 \\le y < 1 \\}$\n",
        "\n",
        "$R$ 内に、ランダムに点を打つと、確率 $\\displaystyle{\\frac{\\pi}{4}}$ で、その点は $Q$ の中に入る。\n",
        "\n",
        "今、乱数を使って $R$ 内に $n$ 個の点を打ってみる。このとき、 $Q$ に入っている点が $s$ 個であったとする。\n",
        "\n",
        "そうすると、点が増えるにしたがって、比率 $h = \\displaystyle{\\frac{s}{n}}$ の値は $\\displaystyle{\\frac{\\pi}{4}}$ に近付くはずである。すなわち、 $4h = \\displaystyle{\\frac{4s}{n}}$ は $\\pi$ に近付くはずである。\n",
        "\n",
        "このようにして、解析的に求めたい値を、実験的に求める数値計算の方法を、「モンテカルロ法」という。"
      ]
    },
    {
      "cell_type": "markdown",
      "source": [
        "【プログラム7501】"
      ],
      "metadata": {
        "id": "_s2kCjJiZQQA"
      }
    },
    {
      "cell_type": "code",
      "metadata": {
        "id": "Gj5cZSpDBTzQ"
      },
      "source": [
        "import random as rd # 乱数を発生させる関数の呼び出し\n",
        "\n",
        "incount = 0 # 円に入った点の数\n",
        "n = int(input('How many points do you use?')) # ランダムに打つ点の総数\n",
        "for i in range(n):\n",
        "    x = rd.random() #0-1 の範囲の値\n",
        "    y = rd.random() #0-1 の範囲の値\n",
        "    if  x * x + y * y < 1: # 単位円の中に入ったら\n",
        "        incount += 1 # 入ったカウンターに１を加える\n",
        "p = 4 * incount / n\n",
        "print(\" 円周率:\", p) # 求まった円周率の近似値"
      ],
      "execution_count": null,
      "outputs": []
    },
    {
      "cell_type": "markdown",
      "metadata": {
        "id": "c5cmg4Lp0-Or"
      },
      "source": [
        "###図示（可視化）"
      ]
    },
    {
      "cell_type": "markdown",
      "metadata": {
        "id": "m7BXAao91Fj5"
      },
      "source": [
        "ここでは、Pythonのグラフ機能を利用して、この方法での点の描画を図示してみる。"
      ]
    },
    {
      "cell_type": "markdown",
      "source": [
        "【プログラム7502】"
      ],
      "metadata": {
        "id": "OrURAoVpZR5N"
      }
    },
    {
      "cell_type": "code",
      "metadata": {
        "id": "D4UcYEBII8j4"
      },
      "source": [
        "import random as rd # 乱数を発生させる関数の呼び出し\n",
        "import matplotlib.pyplot as plt # グラフプロットの呼び出し\n",
        "\n",
        "incount = 0 # 円に入った点の数\n",
        "n = int(input('How many points do you use?')) # ランダムに打つ点の総数\n",
        "plt.figure(figsize=(5, 5))\n",
        "for i in range(n):\n",
        "    x = rd.random() #0-1 の範囲の値\n",
        "    y = rd.random() #0-1 の範囲の値\n",
        "    if x*x + y*y < 1.0: # 単位円の中に入ったら\n",
        "        incount += 1 # 入ったカウンターに１を加える\n",
        "        plt.scatter(x, y, c=\"#000\") # 黒色でプロット\n",
        "    else:\n",
        "        plt.scatter(x, y, c=\"#aaa\") # 灰色でプロット\n",
        "p = 4 * incount / n\n",
        "print(\" 円周率:\", p) # 求まった円周率の近似値\n",
        "plt.title(\"Monte Carlo method\") # グラフのタイトル\n",
        "plt.show()"
      ],
      "execution_count": null,
      "outputs": []
    },
    {
      "cell_type": "markdown",
      "source": [
        "### 研究問題（研究問題の正答は、別の[シート](https://colab.research.google.com/drive/1ZUwDSZm1Fgz87c5JR-f1_HEB8eSwvE-U)にあります。）"
      ],
      "metadata": {
        "id": "pqCdT28vz2D7"
      }
    },
    {
      "cell_type": "markdown",
      "metadata": {
        "id": "FnSBdgK-Bwtz"
      },
      "source": [
        "円周率を求めるのに、モンテカルロ法は得策ではない。なぜか。また、得策な方法を考えて、プログラムとして実行せよ。\n"
      ]
    },
    {
      "cell_type": "markdown",
      "source": [
        "# 次の教材\n",
        "7.6 線形計画法\n",
        "* https://colab.research.google.com/drive/1wFOQaK4xqG67sQT01D7fMVj6kGmR6aPa"
      ],
      "metadata": {
        "id": "3fuZcyycWz9B"
      }
    }
  ]
}