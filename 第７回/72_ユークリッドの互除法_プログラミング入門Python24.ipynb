{
  "nbformat": 4,
  "nbformat_minor": 0,
  "metadata": {
    "colab": {
      "provenance": [],
      "collapsed_sections": [
        "WX4sRVO63me5",
        "FnSBdgK-Bwtz"
      ]
    },
    "kernelspec": {
      "name": "python3",
      "display_name": "Python 3"
    }
  },
  "cells": [
    {
      "cell_type": "markdown",
      "source": [
        "# 第7章  マージソート・数学の問題・線形計画法"
      ],
      "metadata": {
        "id": "FfkwmtR4rYZe"
      }
    },
    {
      "cell_type": "markdown",
      "source": [
        " * 左上の「ファイル」を開いて、「ドライブにコピーを保存」をしてください。\n",
        " * 自分のGoogleドライブに、そのファイルが保存されます。ファイル名は「のコピー」が、最後（右端）についています。それを利用して学習・演習を進めて下さい。"
      ],
      "metadata": {
        "id": "lm7oxHNx4rIf"
      }
    },
    {
      "cell_type": "markdown",
      "metadata": {
        "id": "QLZLRH6NnPq-"
      },
      "source": [
        "# 7.2 ユークリッドの互除法"
      ]
    },
    {
      "cell_type": "markdown",
      "metadata": {
        "id": "KLMsgAAO6Im_"
      },
      "source": [
        "ユークリッドの互除法とは、世界で最古のアルゴリズムとされている方法で、ユークリッド原論（紀元前300年頃）に書かれている。基本的な考え方は、以下の通りである。\n",
        "* $ x $ と $ y $ の公約数を $ d $ とすると、横の長さが $ x $ 、縦の長さが $ y $ の長方形は、一辺の長さが $ d $ の正方形で埋め尽くされる。\n",
        "* もし、$ x > y $ であるならば、元の長方形から、一辺の長さが $ y $ の正方形を切り取ると、横の長さが $ x-y $ 、縦の長さが $ y $ の長方形となるが、これも、一辺の長さが $ d $ の正方形で埋め尽くされる。（逆に、$ y > x $ の場合は、$ x $ と $ y $ を入れ替えて考えると、同じことが言える。）\n",
        "* 一辺の長さが $ y $ の正方形を切り取れなくなったら、縦横の考え方を変えて、同じことをしていく。\n",
        "* 最後に正方形だけが残る。それも、一辺の長さが $ d $ の正方形で埋め尽くされる正方形となる。従って、この辺の長さ $ d $ は、 $ x $ と $ y $ の公約数のうち、最大のものである。"
      ]
    },
    {
      "cell_type": "markdown",
      "source": [
        "例えば、次の図にある横 126、縦 35 の長方形を埋めつくせる正方形の1辺の長さは、「126 と 35 の公約数」である。"
      ],
      "metadata": {
        "id": "RL0BvMXqjtnu"
      }
    },
    {
      "cell_type": "markdown",
      "source": [
        "![euclid_fig.png](data:image/png;base64,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)"
      ],
      "metadata": {
        "id": "jkC4bJVK5TiA"
      }
    },
    {
      "cell_type": "markdown",
      "source": [
        "この手順を繰り返していくと、1辺の長さが 7 の正方形が残る。これが最大公約数である。"
      ],
      "metadata": {
        "id": "GtXAJclxGCZ3"
      }
    },
    {
      "cell_type": "markdown",
      "source": [
        "![ユークリッドの互除法.png](data:image/png;base64,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)"
      ],
      "metadata": {
        "id": "eWRlq2lfiNuk"
      }
    },
    {
      "cell_type": "markdown",
      "metadata": {
        "id": "j6HKee2w6XeC"
      },
      "source": [
        "すなわち、与えられた2数に対し、大きい方から小さい方を引くという作業をずっと続けていく。途中で同じ値になれば、それが最大公約数である。\n"
      ]
    },
    {
      "cell_type": "markdown",
      "metadata": {
        "id": "ipTWawSE6k8A"
      },
      "source": [
        "キーボードから入力を求めることにして、Pythonで記述すると、次のプログラムとなる。\n"
      ]
    },
    {
      "cell_type": "markdown",
      "source": [
        "【プログラム7201】"
      ],
      "metadata": {
        "id": "ntDnhU_oZCeK"
      }
    },
    {
      "cell_type": "code",
      "metadata": {
        "id": "gBdbQoO32XLM"
      },
      "source": [
        "x = int(input(\"x?\"))\n",
        "y = int(input(\"y?\"))\n",
        "\n",
        "while x != y:\n",
        "    if x > y:\n",
        "        x = x - y\n",
        "    else:\n",
        "        y = y - x\n",
        "\n",
        "print('answer =', x)"
      ],
      "execution_count": null,
      "outputs": []
    },
    {
      "cell_type": "markdown",
      "metadata": {
        "id": "ooNaoD7E2UF5"
      },
      "source": [
        "この関係は、図を見るとわかるように、割り算の「割る数」と「余り」の関係と同じになるので、割り算を使うと次のように書くことができる。"
      ]
    },
    {
      "cell_type": "markdown",
      "source": [
        "【プログラム7202】"
      ],
      "metadata": {
        "id": "1eeH0rwfZEmd"
      }
    },
    {
      "cell_type": "code",
      "metadata": {
        "id": "hRAoYkyb6Tly"
      },
      "source": [
        "x = int(input(\"x?\"))\n",
        "y = int(input(\"y?\"))\n",
        "\n",
        "while x > 0 and y > 0:\n",
        "    if x > y:\n",
        "        x = x % y\n",
        "        d = y\n",
        "    else:\n",
        "        y = y % x\n",
        "        d = x\n",
        "\n",
        "print('answer =', d)"
      ],
      "execution_count": null,
      "outputs": []
    },
    {
      "cell_type": "markdown",
      "metadata": {
        "id": "ocHSitjK67_F"
      },
      "source": [
        "上のプログラムの解説\n",
        "* 4行目：$ x > 0 $ かつ $ y > 0 $ のときに動作する。条件を「かつ」で結ぶときは、 and を中置する。途中で割り切れると、$x$ か $y$ の片方が $0$ になって止まる。"
      ]
    },
    {
      "cell_type": "markdown",
      "metadata": {
        "id": "Pf6VxdqQbcep"
      },
      "source": [
        "**問題** 最初から、 x あるいは y に 0未満の値を入れたときに、正しく動作させるには、このプログラムをどのように改造すればよいか。"
      ]
    },
    {
      "cell_type": "markdown",
      "source": [
        "# 次の教材\n",
        "7.3 素数判定プログラム\n",
        "* https://colab.research.google.com/drive/1pitENj2SZk_AkteiKJXDjd3rp-T_PYia"
      ],
      "metadata": {
        "id": "bg1GjVrsVmDO"
      }
    }
  ]
}