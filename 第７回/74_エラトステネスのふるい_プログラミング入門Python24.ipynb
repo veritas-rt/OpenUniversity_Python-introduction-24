{
  "nbformat": 4,
  "nbformat_minor": 0,
  "metadata": {
    "colab": {
      "provenance": [],
      "collapsed_sections": [
        "WX4sRVO63me5",
        "FnSBdgK-Bwtz"
      ]
    },
    "kernelspec": {
      "name": "python3",
      "display_name": "Python 3"
    }
  },
  "cells": [
    {
      "cell_type": "markdown",
      "source": [
        "# 第7章  マージソート・数学の問題・線形計画法"
      ],
      "metadata": {
        "id": "FfkwmtR4rYZe"
      }
    },
    {
      "cell_type": "markdown",
      "source": [
        " * 左上の「ファイル」を開いて、「ドライブにコピーを保存」をしてください。\n",
        " * 自分のGoogleドライブに、そのファイルが保存されます。ファイル名は「のコピー」が、最後（右端）についています。それを利用して学習・演習を進めて下さい。"
      ],
      "metadata": {
        "id": "lm7oxHNx4rIf"
      }
    },
    {
      "cell_type": "markdown",
      "metadata": {
        "id": "GlMVGXe-0N7Q"
      },
      "source": [
        "# 7.4 エラトステネスのふるい"
      ]
    },
    {
      "cell_type": "markdown",
      "metadata": {
        "id": "JF4cbahbu3pH"
      },
      "source": [
        "たくさんの素数を探し出していく方法の一つに、「エラトステネスのふるい」と呼ばれる方法がある。ここでは、1 から $m$ までの整数のうち、素数となるものをすべて求めてみよう。このプログラムを実行すると、i=2, 3, .. に対して、\n",
        "* a[i] が i なら i は素数。\n",
        "* a[i] が 空白 なら i は合成数。\n",
        "\n",
        "という状態になることが目的であるとする。すなわち、\n",
        "\n",
        ">  [0, 1, 2, 3, \"\", 5, \"\", 7, \"\", \"\", \"\", 11, ....]\n",
        "\n",
        "というリストを得ることが目的とする。\n",
        "\n",
        "* 最初は、すべての要素に、添字と同じ値を代入して初期化しておく。\n",
        "\n",
        ">  [0, 1, 2, 3, 4, 5, 6, 7, 8, 9, 10, 11,....]\n",
        "\n",
        "* 最初の $i = 2$ に対して、$2$以外の$2$の倍数 $j (j = 4,6, 8, 10, \\cdots)$ は素数でないので、リストの$j$番目 $(j = 4,6, 8, 10, \\cdots)$ の要素 a[j] の値を 空白 にする。\n",
        "\n",
        ">  [0, 1, 2, 3, \"\", 5, \"\", 7, \"\", 9, \"\", 11,....]\n",
        "\n",
        "* 同様に、$3$以外の$3$の倍数 $j (j = 6, 9, 12, \\cdots)$ も行う。\n",
        "\n",
        ">  [0, 1, 2, 3, \"\", 5, \"\", 7, \"\", \"\", \"\", 11,....]\n",
        "\n",
        "*  $i = 4$ では、 $ a[4] == \"\" $ であるから、これは飛ばす。\n",
        "* $5$以外の$5$の倍数 $j (j = 10, 15, 20, \\cdots)$ というようにして、つぎつぎと倍数を素数でないと判断していく。\n",
        "\n",
        "これを続けていけばよい。\n",
        "\n"
      ]
    },
    {
      "cell_type": "markdown",
      "source": [
        "【プログラム7401】"
      ],
      "metadata": {
        "id": "vwFgcRfTZNi2"
      }
    },
    {
      "cell_type": "code",
      "metadata": {
        "id": "lMee4AMzu3pH"
      },
      "source": [
        "# 平方根の計算のために数学計算ライブラリを呼び出す\n",
        "import math\n",
        "\n",
        "m = 200 # どこまで求めるか\n",
        "\n",
        "a = list(range(m + 1)) # リスト a を用意する。すべての要素に、添字と同じ値を代入して初期化しておく。\n",
        "limit = int(math.sqrt(m)) # ルート m まで調べたら終了\n",
        "sosu = [] # 最後に素数一覧を入れるリストを用意しておく\n",
        "\n",
        "print(\"init =\", a[2:]) # 最初はすべての数が残っている状態を確認。ただし、0, 1 は除くのでスライスで除去\n",
        "print(\"\")\n",
        "\n",
        "for i in range(2, limit + 1): # i を、 2 から limit まで変化させる\n",
        "    if not(a[i] == \"\"): # もし、i が素数と確定していたら\n",
        "        print(i, \" \", end=\"\") # 見つけた素数を表示\n",
        "        j = i + i # j を合成数として消去するため、まず、 j=2i とする\n",
        "        while j <= m:\n",
        "            a[j] = \"\" # j を合成数として消去する\n",
        "            j += i # j=2i, 3i, 4i, ....  と増やしていく\n",
        "        print(a[2:]) # 消した結果を表示\n",
        "        print(\"\") # 見易いように1行空ける\n",
        "\n",
        "# 素数判定が終わったら、合成数として消去されてない数をリスト sosu にまとめる\n",
        "for i in range(2, m + 1):\n",
        "    if not(a[i] == \"\"):\n",
        "        sosu.append(i)\n",
        "\n",
        "print(\"sosu =\", sosu)"
      ],
      "execution_count": null,
      "outputs": []
    },
    {
      "cell_type": "markdown",
      "source": [
        "# 次の教材\n",
        "7.5 モンテカルロ法\n",
        "* https://colab.research.google.com/drive/1wR1kmEV5GLItLEnHP4KZwlvpo20iGjWe"
      ],
      "metadata": {
        "id": "RmrKa3R_Vd3p"
      }
    }
  ]
}