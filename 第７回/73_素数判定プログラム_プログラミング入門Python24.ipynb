{
  "nbformat": 4,
  "nbformat_minor": 0,
  "metadata": {
    "colab": {
      "provenance": [],
      "collapsed_sections": [
        "WX4sRVO63me5",
        "FnSBdgK-Bwtz"
      ]
    },
    "kernelspec": {
      "name": "python3",
      "display_name": "Python 3"
    }
  },
  "cells": [
    {
      "cell_type": "markdown",
      "source": [
        "# 第7章  マージソート・数学の問題・線形計画法"
      ],
      "metadata": {
        "id": "FfkwmtR4rYZe"
      }
    },
    {
      "cell_type": "markdown",
      "source": [
        " * 左上の「ファイル」を開いて、「ドライブにコピーを保存」をしてください。\n",
        " * 自分のGoogleドライブに、そのファイルが保存されます。ファイル名は「のコピー」が、最後（右端）についています。それを利用して学習・演習を進めて下さい。"
      ],
      "metadata": {
        "id": "lm7oxHNx4rIf"
      }
    },
    {
      "cell_type": "markdown",
      "metadata": {
        "id": "51QVivpp17Yf"
      },
      "source": [
        "# 7.3 素数判定プログラム"
      ]
    },
    {
      "cell_type": "markdown",
      "metadata": {
        "id": "mI5G7mOL6yCU"
      },
      "source": [
        "ある自然数 $ p $ が素数であるとは、 $ p $ を割り切る自然数は $ 1 $ と$ p $ のみのときである。"
      ]
    },
    {
      "cell_type": "markdown",
      "metadata": {
        "id": "DGnPDDXO2Ug8"
      },
      "source": [
        "##単純な判定方法の利用"
      ]
    },
    {
      "cell_type": "markdown",
      "source": [
        "$p$を入力させ、$i = 2, 3, ..., p-1 $までのそれぞれの数 $i$ で割算を行い、余り $r$ が $ 0 $ になるかどうかを調べれば、 $ p $ が素数かどうか、判定できる。\n",
        "\n",
        "最初に、flag という変数を用意しておく。これは「旗」の意味であり、計算が終わったときに、flag の値をみることで、$p$ が素数かどうかがわかる。最初は flag を 1にしてから計算を始める。合成数であることがわかった時点で、flag を 0 にする。"
      ],
      "metadata": {
        "id": "hjuQu2SM61pU"
      }
    },
    {
      "cell_type": "markdown",
      "source": [
        "【プログラム7301】"
      ],
      "metadata": {
        "id": "RhpwDJthZIAa"
      }
    },
    {
      "cell_type": "code",
      "source": [
        "# 素数であれば1、素数でなければ 0 を返す関数\n",
        "def sosuka(p):\n",
        "    flag = 1             # とりあえず、p は素数という仮定を置く\n",
        "    for i in range(2, p): # i=2, 3, ..., p-1 まで調べる\n",
        "        r = p % i       # p を i で割ったあまりが r\n",
        "        if r == 0:       # r が 0 なら、割り切れるということ\n",
        "            flag = 0    # p は素数でないということになる。\n",
        "    return(flag)\n",
        "\n",
        "# 判定結果のメッセージ\n",
        "kekka = (\"gouseisu\", \"sosu\")\n",
        "\n",
        "# 入力させる\n",
        "x = int(input('x?'))\n",
        "\n",
        "# 出力\n",
        "print(kekka[sosuka(x)])"
      ],
      "metadata": {
        "id": "Ye4LF8I1U3Lb"
      },
      "execution_count": null,
      "outputs": []
    },
    {
      "cell_type": "markdown",
      "source": [
        "実は、$ i = 2, 3, ..., p - 1$ まで変化させる必要はない。 $ i=2, 3, ..., \\sqrt{p} $ までのそれぞれの数で割算を行い、余りが0になるかどうかを調べれば、$p$が素数かどうか、判定できる。"
      ],
      "metadata": {
        "id": "U3ua8d69_tp5"
      }
    },
    {
      "cell_type": "markdown",
      "source": [
        "【プログラム7302】"
      ],
      "metadata": {
        "id": "6NlTyFK8ZJZ-"
      }
    },
    {
      "cell_type": "code",
      "source": [
        "# 平方根の計算のために数学計算ライブラリを呼び出す\n",
        "import math\n",
        "\n",
        "# 素数であれば1、素数でなければ 0 を返す関数\n",
        "def sosuka(p):\n",
        "    flag = 1                    # とりあえず、p は素数という仮定を置く\n",
        "    limit = int(math.sqrt(p))    # 調べる上限は ルートp\n",
        "    for i in range(2, limit + 1): # i=2, 3, ..., ルートp まで調べる\n",
        "        r = p % i               # p を i で割ったあまりが r\n",
        "        if r == 0:               # r が ０ なら、割り切れるということ\n",
        "            flag = 0            # p は素数でないということになる。\n",
        "    return(flag)\n",
        "\n",
        "# 判定結果のメッセージ\n",
        "kekka = (\"gouseisu\", \"sosu\")\n",
        "\n",
        "# 入力させる\n",
        "x = int(input('x?'))\n",
        "\n",
        "# 出力\n",
        "print(kekka[sosuka(x)])"
      ],
      "metadata": {
        "id": "DCwerMKx_zXe"
      },
      "execution_count": null,
      "outputs": []
    },
    {
      "cell_type": "markdown",
      "metadata": {
        "id": "w2N-48My3Hgy"
      },
      "source": [
        "##判定方法を変える"
      ]
    },
    {
      "cell_type": "markdown",
      "metadata": {
        "id": "Oln2XAPp3LAn"
      },
      "source": [
        "この計算の繰返し条件を、平方根を利用しないで $ i^2 \\le p $ とすると、以下の通りになる。"
      ]
    },
    {
      "cell_type": "markdown",
      "source": [
        "【プログラム7303】"
      ],
      "metadata": {
        "id": "B9KiENARZK40"
      }
    },
    {
      "cell_type": "code",
      "source": [
        "# 素数であれば1、素数でなければ 0 を返す関数\n",
        "def sosuka(p):\n",
        "    i = 2\n",
        "    flag = 1\n",
        "    while i * i <= p:\n",
        "        r = p % i\n",
        "        if r == 0:\n",
        "            flag = 0\n",
        "        i += 1\n",
        "    return(flag)\n",
        "\n",
        "# 判定結果のメッセージ\n",
        "kekka = (\"gouseisu\", \"sosu\")\n",
        "\n",
        "# 入力させる\n",
        "x = int(input('x?'))\n",
        "\n",
        "# 出力\n",
        "print(kekka[sosuka(x)])"
      ],
      "metadata": {
        "id": "D1Uus25MVV2e"
      },
      "execution_count": null,
      "outputs": []
    },
    {
      "cell_type": "markdown",
      "metadata": {
        "id": "WX4sRVO63me5"
      },
      "source": [
        "### 確認問題\n",
        "上記2つの判定方法の違いについて考察せよ。"
      ]
    },
    {
      "cell_type": "markdown",
      "source": [
        "# 次の教材\n",
        "7.4 エラトステネスのふるい\n",
        "* https://colab.research.google.com/drive/1hvHFZ6wS51WDQJ5crP5PVgX4aoCccTqn"
      ],
      "metadata": {
        "id": "RmrKa3R_Vd3p"
      }
    }
  ]
}