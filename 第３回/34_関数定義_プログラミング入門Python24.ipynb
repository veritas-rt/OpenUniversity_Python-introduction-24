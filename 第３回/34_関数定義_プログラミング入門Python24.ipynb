{
  "nbformat": 4,
  "nbformat_minor": 0,
  "metadata": {
    "colab": {
      "provenance": []
    },
    "kernelspec": {
      "name": "python3",
      "display_name": "Python 3"
    }
  },
  "cells": [
    {
      "cell_type": "markdown",
      "source": [
        "# 第3章 プログラムによる問題解決、制御、数値表現、関数、繰り返し\n"
      ],
      "metadata": {
        "id": "cImRNzaS-Ttj"
      }
    },
    {
      "cell_type": "markdown",
      "source": [
        " * 左上の「ファイル」を開いて、「ドライブにコピーを保存」をしてください。\n",
        " * 自分のGoogleドライブに、そのファイルが保存されます。ファイル名は「のコピー」が、最後（右端）についています。それを利用して学習・演習を進めて下さい。"
      ],
      "metadata": {
        "id": "lm7oxHNx4rIf"
      }
    },
    {
      "cell_type": "markdown",
      "metadata": {
        "id": "QfdlvY5O-RHp"
      },
      "source": [
        "# 3.4 関数定義"
      ]
    },
    {
      "cell_type": "markdown",
      "source": [
        "一定の手順をまとめて計算する作業のことを、プログラミングの世界では、関数(function)という。関数の定義には、さまざまなやりかたがあるが、ここでは、ごく簡単な例を紹介する。"
      ],
      "metadata": {
        "id": "XuGaX-gBvvLW"
      }
    },
    {
      "cell_type": "markdown",
      "source": [
        "## ２つの商品のセット価格の計算"
      ],
      "metadata": {
        "id": "TBVU46RFxgYR"
      }
    },
    {
      "cell_type": "markdown",
      "source": [
        "ある店では、リンゴはひとつ 100 円、バナナはひとつ 70 円で販売することにした。このとき、リンゴ$a$ 個と、バナナ$b$個の合計価格を $g$ とする。\n",
        "\n",
        "$$ g = 100 a + 70 b $$\n",
        "\n",
        "と書くことができる。\n",
        "\n",
        "次は、この $g$ を求める関数 goukei(a, b) を定義するプログラムである。（なお、「定義」は英語で definition という。）リンゴ10個、バナナ30本の合計価格を求めている。"
      ],
      "metadata": {
        "id": "Q9O-v2rrxmIt"
      }
    },
    {
      "cell_type": "markdown",
      "source": [
        "【プログラム3401】"
      ],
      "metadata": {
        "id": "wyhxNUEbv8PR"
      }
    },
    {
      "cell_type": "code",
      "source": [
        "def goukei(a, b):\n",
        "    g = 100 * a + 70 * b\n",
        "    return(g)\n",
        "\n",
        "print(goukei(10, 30))"
      ],
      "metadata": {
        "id": "ApcPks64yI-p"
      },
      "execution_count": null,
      "outputs": []
    },
    {
      "cell_type": "markdown",
      "source": [
        "* 関数を呼び出す側の 10, 30 と、呼び出される側の a, b は、この順に同じ値として引き渡される。すなわち、 a には 10 が代入され、 b には 30 が代入される。\n",
        "* これらの数を引数（ひきすう）という。\n",
        " * goukei(a, b) の a と b を仮引数（かりひきすう）という。\n",
        " * print(goukei(10, 30)) の 10 と 30 を実引数（じつひきすう）という。\n",
        "* goukei(a, b) は、数学で言うところの「2変数関数」となる。この引数（変数）の個数のことを「アリティ」という。すなわち、 goukei(a, b) のアリティは 2 となる。\n",
        "* 関数の値は、3行目の return 文を利用して設定される。"
      ],
      "metadata": {
        "id": "js7KEYfmlzBn"
      }
    },
    {
      "cell_type": "markdown",
      "source": [
        "### 確認問題"
      ],
      "metadata": {
        "id": "Jh6BKQMrmIMg"
      }
    },
    {
      "cell_type": "markdown",
      "source": [
        "次のプログラムを実行し、リンゴとバナナの個数を入力して実行せよ。　（入力してから、一呼吸おいて Enter を押してください。）"
      ],
      "metadata": {
        "id": "Wx0V00ncyi7A"
      }
    },
    {
      "cell_type": "markdown",
      "source": [
        "【プログラム3402】"
      ],
      "metadata": {
        "id": "33COulECv-SC"
      }
    },
    {
      "cell_type": "code",
      "source": [
        "def goukei(a, b):\n",
        "    g = 100 * a + 70 * b\n",
        "    return(g)\n",
        "\n",
        "apple = int(input(\"apple?\"))\n",
        "banana = int(input(\"banana?\"))\n",
        "print(\"goukei =\", goukei(apple, banana))"
      ],
      "metadata": {
        "id": "vHIMnowClN4q"
      },
      "execution_count": null,
      "outputs": []
    },
    {
      "cell_type": "markdown",
      "source": [
        "## 練習問題（練習問題の正答は、別の[シート](https://colab.research.google.com/drive/1SURa9sg3AFhmrKET8X645dZmLeJcxcJ2)にあります。）"
      ],
      "metadata": {
        "id": "8hoFOHsklLN3"
      }
    },
    {
      "cell_type": "markdown",
      "source": [
        "【問題】このプログラムを改造して、3つ目の商品 cinnamon （単価 40）の個数も入力させて、合計を計算させる方法を考えよ。"
      ],
      "metadata": {
        "id": "eBLhKdvVlBAH"
      }
    },
    {
      "cell_type": "code",
      "source": [],
      "metadata": {
        "id": "RROIQRuFRKIH"
      },
      "execution_count": null,
      "outputs": []
    },
    {
      "cell_type": "markdown",
      "source": [
        "## 応用例：明度の計算"
      ],
      "metadata": {
        "id": "vlDD2_0JvwX5"
      }
    },
    {
      "cell_type": "markdown",
      "metadata": {
        "id": "2Raj7irs-Up9"
      },
      "source": [
        "人間が認知できる色は、赤(R)、緑(G)、青(B)の3つの色の合成で作られることが知られている。\n",
        "\n",
        "いま、ある色 の RGB成分が、 $r, g, b $ （いずれも、0以上255以下の数値）であるとする。このとき、次の式で計算される $v$ の値は、その色の明度と呼ばれる値である。\n",
        "\n",
        "$$ v(r, g, b) = \\frac{\\ r \\times 299+g \\times 587+b \\times 114\\ }{1000} $$\n",
        "\n",
        "Webのさまざまな規格を定めている W3Cという団体では、視覚障害者のことを考えたユニバーサルデザインを実現するため、画面の色の背景と文字の明度差が 125 以上になることを求めている。\n",
        "以下のPython の関数 brightness $(r, g, b)$  は、3つの引数（ひきすう） $r, g, b$ を受け取って、明度を返すようになっている。始めに、文字色のRGBとして  $r_1, g_1, b_1$ を入力させ、次に、背景色のRGBとして  $r_2, g_2, b_2$ を入力させ、W3C勧告にしたがっているかどうかを判定することができる。"
      ]
    },
    {
      "cell_type": "markdown",
      "metadata": {
        "id": "o3rJa2l18ytp"
      },
      "source": [
        "次のプログラムの解説\n",
        "* 1行目：関数の定義である。 def に続けて、関数名と引数を並べて書く。\n",
        "* 3行目： return を利用して、返す値を決める。\n",
        "* 16行目：自分で定義した関数を呼び出して計算する。"
      ]
    },
    {
      "cell_type": "markdown",
      "source": [
        "【プログラム3403】"
      ],
      "metadata": {
        "id": "mGsdff0OwALo"
      }
    },
    {
      "cell_type": "code",
      "metadata": {
        "id": "QwbEiL07-lNr"
      },
      "source": [
        "def brightness(r, g, b):\n",
        "    v = (r * 299 + g * 587 + b * 114) / 1000\n",
        "    return v\n",
        "\n",
        "rfor = int(input('forground red?'))\n",
        "gfor = int(input('forground green?'))\n",
        "bfor = int(input('forground blue?'))\n",
        "forgroundbrightness = brightness(rfor, gfor, bfor)\n",
        "\n",
        "rback = int(input('background red?'))\n",
        "gback = int(input('background green?'))\n",
        "bback = int(input('background blue?'))\n",
        "backgroundbrightness = brightness(rback, gback, bback)\n",
        "\n",
        "diff = abs(forgroundbrightness - backgroundbrightness) # abs は絶対値を求めている\n",
        "\n",
        "print('difference =', diff)\n",
        "if diff < 125:\n",
        "    print('Bad')\n",
        "else:\n",
        "    print('Good')"
      ],
      "execution_count": null,
      "outputs": []
    },
    {
      "cell_type": "markdown",
      "source": [
        "### 確認問題"
      ],
      "metadata": {
        "id": "IrEYSXE23qm-"
      }
    },
    {
      "cell_type": "markdown",
      "source": [
        "上記のプログラムに、以下の値を入力して、W3C規格に合致しているか、確認せよ。\n",
        "\n",
        "(1) 文字色：黒、背景：暗い赤。\n",
        " * 文字色(forground)のR,G,B = 0, 0, 0\n",
        " * 背景色(background)のR,G,B = 128, 0, 0"
      ],
      "metadata": {
        "id": "--moLTBC3tH_"
      }
    },
    {
      "cell_type": "markdown",
      "source": [
        "![スクリーンショット 2023-01-02 13.01.10.png](data:image/png;base64,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)"
      ],
      "metadata": {
        "id": "JR_DAO-fsDHL"
      }
    },
    {
      "cell_type": "markdown",
      "source": [
        "\n",
        "(2) 文字色：白、背景：黄色\n",
        " * 文字色のR,G,B = 255, 255, 255\n",
        " * 背景のR,G,B = 255,255,0"
      ],
      "metadata": {
        "id": "cEgByyiD2PlM"
      }
    },
    {
      "cell_type": "markdown",
      "source": [
        "![スクリーンショット 2023-01-02 13.00.50.png](data:image/png;base64,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)"
      ],
      "metadata": {
        "id": "ltdLYoDasIPX"
      }
    },
    {
      "cell_type": "markdown",
      "source": [
        "### 関数の戻り値（return）"
      ],
      "metadata": {
        "id": "pzK516fK1nFJ"
      }
    },
    {
      "cell_type": "markdown",
      "source": [
        "関数の計算結果を呼び出した側に返す必要がない場合は、return を利用しなくてもよい。"
      ],
      "metadata": {
        "id": "rLFti5Ig854K"
      }
    },
    {
      "cell_type": "markdown",
      "source": [
        "【プログラム3404】"
      ],
      "metadata": {
        "id": "GvOagEouUQRc"
      }
    },
    {
      "cell_type": "code",
      "source": [
        "def sakebu(mes):\n",
        "    sakebi = mes + mes + mes\n",
        "    print(sakebi)\n",
        "\n",
        "sakebu(\"心の叫び\")"
      ],
      "metadata": {
        "id": "DrSJR1rC9IW9"
      },
      "execution_count": null,
      "outputs": []
    },
    {
      "cell_type": "markdown",
      "source": [
        "戻り値には、タプルやリストを利用することができる。"
      ],
      "metadata": {
        "id": "nO89bGxa1rke"
      }
    },
    {
      "cell_type": "markdown",
      "source": [
        "【プログラム3405】"
      ],
      "metadata": {
        "id": "jx71-yYlwBx5"
      }
    },
    {
      "cell_type": "code",
      "source": [
        "def soreda(x, y, z):\n",
        "    heikin = (x + y + z)/3\n",
        "    tyouwa = 3 / (1 / x + 1 / y + 1 / z)\n",
        "    return heikin, tyouwa # タプルを戻り値にしている\n",
        "\n",
        "h, t = soreda(1, 5, 6)\n",
        "print(\"h =\", h)\n",
        "print(\"t =\", t)"
      ],
      "metadata": {
        "id": "DT_bKWl-10nD"
      },
      "execution_count": null,
      "outputs": []
    },
    {
      "cell_type": "markdown",
      "source": [
        "## 関数の中の変数・関数の外の変数"
      ],
      "metadata": {
        "id": "on_D9f4q0v5n"
      }
    },
    {
      "cell_type": "markdown",
      "source": [
        "* 関数の外で使われる変数は、大域変数（グローバル変数）と呼ばれる。\n",
        "* 関数の中で初めて現れた変数は、局所変数（ローカル変数）と呼ばれる。"
      ],
      "metadata": {
        "id": "0-xL54aZ0yTC"
      }
    },
    {
      "cell_type": "markdown",
      "source": [
        "【プログラム3406】"
      ],
      "metadata": {
        "id": "aJ5bf69lwDEQ"
      }
    },
    {
      "cell_type": "code",
      "source": [
        "tamago = 2 # 大域変数の定義\n",
        "\n",
        "def yasai(x):\n",
        "    kyori = x # 局所変数の定義\n",
        "    return(tamago + kyori) # 関数の中で大域変数と局所変数を利用する\n",
        "\n",
        "print(yasai(3))"
      ],
      "metadata": {
        "id": "OcdVIFJsSjkx"
      },
      "execution_count": null,
      "outputs": []
    },
    {
      "cell_type": "markdown",
      "source": [
        "関数の外で、局所変数を利用することはできない。"
      ],
      "metadata": {
        "id": "GfAfa1z8Sf31"
      }
    },
    {
      "cell_type": "markdown",
      "source": [
        "【プログラム3407】"
      ],
      "metadata": {
        "id": "1JzT_tL7wEl8"
      }
    },
    {
      "cell_type": "code",
      "source": [
        "# このプログラムはエラーになる\n",
        "def kansu(x):\n",
        "    arekores = 1 # 局所変数\n",
        "    return arekores\n",
        "\n",
        "print(kansu(0))\n",
        "print(arekores) # 局所変数を呼び出そうとする"
      ],
      "metadata": {
        "id": "IpnBbynY08rF"
      },
      "execution_count": null,
      "outputs": []
    },
    {
      "cell_type": "markdown",
      "source": [
        "関数のなかで、大域変数に値を代入しても、関数の外には反映されない。"
      ],
      "metadata": {
        "id": "OwLJiAXC2KWG"
      }
    },
    {
      "cell_type": "markdown",
      "source": [
        "【プログラム3408】"
      ],
      "metadata": {
        "id": "CeZwu7A2wFsv"
      }
    },
    {
      "cell_type": "code",
      "source": [
        "# このプログラムはエラーにならないが、関数のなかで tomato に代入しても、外から見ると代入されていない\n",
        "def kansu(tomato):\n",
        "    tomato = 7 # この tomato は局所変数\n",
        "    print(\"local tomato =\", tomato)\n",
        "    return(tomato)\n",
        "\n",
        "tomato = 5 # この tomato は大域変数\n",
        "print(kansu(tomato))\n",
        "print(\"global tomato =\", tomato)"
      ],
      "metadata": {
        "id": "5Pv0xktx37ev"
      },
      "execution_count": null,
      "outputs": []
    },
    {
      "cell_type": "markdown",
      "source": [
        "### 関数を利用して値を変更したいとき"
      ],
      "metadata": {
        "id": "Ad108U40OzI9"
      }
    },
    {
      "cell_type": "markdown",
      "source": [
        "(方法1) 返り値 return を利用する。"
      ],
      "metadata": {
        "id": "d-hhbwQV3hNe"
      }
    },
    {
      "cell_type": "markdown",
      "source": [
        "【プログラム3409】"
      ],
      "metadata": {
        "id": "OZBS2GetwHeQ"
      }
    },
    {
      "cell_type": "code",
      "source": [
        "# 返り値を利用して値を変更する\n",
        "def kansu(y):\n",
        "    y = 9\n",
        "    return y\n",
        "\n",
        "yappari = 4\n",
        "yappari = kansu(yappari)\n",
        "print(\"yappari =\", yappari)"
      ],
      "metadata": {
        "id": "YKH9ww5G2mp1"
      },
      "execution_count": null,
      "outputs": []
    },
    {
      "cell_type": "markdown",
      "source": [
        "複数の値を関数に渡して変更したい場合は、仮引数・実引数ともにタプル・リストにする。"
      ],
      "metadata": {
        "id": "Yw6AFQnc1T-i"
      }
    },
    {
      "cell_type": "markdown",
      "source": [
        "【プログラム3410】"
      ],
      "metadata": {
        "id": "sasq8AshwIkU"
      }
    },
    {
      "cell_type": "code",
      "source": [
        "# 返り値を利用して値を変更する\n",
        "def kansu(b):\n",
        "    b[0] += \" Narita\"\n",
        "    b[1] += \" Haneda\"\n",
        "    return b\n",
        "\n",
        "banban = [\"Chiba\", \"Tokyo\"]\n",
        "banban = kansu(banban)\n",
        "print(\"banban =\", banban)"
      ],
      "metadata": {
        "id": "QsD1em43ciYT"
      },
      "execution_count": null,
      "outputs": []
    },
    {
      "cell_type": "markdown",
      "source": [
        "【プログラム3411】"
      ],
      "metadata": {
        "id": "N7T27TELwy-K"
      }
    },
    {
      "cell_type": "code",
      "source": [
        "# 返り値を利用して値を変更する\n",
        "def irekae(b):\n",
        "    b[0], b[1] = b[1], b[0]\n",
        "    return b\n",
        "\n",
        "banban = [\"Chiba\", \"Tokyo\"]\n",
        "banban = irekae(banban)\n",
        "print(\"banban =\", banban)"
      ],
      "metadata": {
        "id": "wjIJV1By0nBu"
      },
      "execution_count": null,
      "outputs": []
    },
    {
      "cell_type": "markdown",
      "source": [
        "(方法2) global 宣言をする"
      ],
      "metadata": {
        "id": "I4wh2SEFQdQ8"
      }
    },
    {
      "cell_type": "markdown",
      "source": [
        "関数の中で、\n",
        "> global 変数名\n",
        "\n",
        "と宣言すると、関数の外の変数について、参照したり代入したりすることができる。このときは、関数を定義するときの仮引数名が、外の変数名と異なるようにしておく。"
      ],
      "metadata": {
        "id": "90wRx_B6Qit8"
      }
    },
    {
      "cell_type": "markdown",
      "source": [
        "【プログラム3412】"
      ],
      "metadata": {
        "id": "COd5gyW8w0Uj"
      }
    },
    {
      "cell_type": "code",
      "source": [
        "def kansu(n):\n",
        "    global naruhododo # 関数の外の変数を直接使うという宣言\n",
        "    naruhododo = 1\n",
        "\n",
        "naruhododo = 0\n",
        "kansu(naruhododo)\n",
        "print(\"naruhododo =\", naruhododo)"
      ],
      "metadata": {
        "id": "kZcm_M-VQyw9"
      },
      "execution_count": null,
      "outputs": []
    },
    {
      "cell_type": "markdown",
      "source": [
        "【プログラム3413】"
      ],
      "metadata": {
        "id": "T7gjcn5Mw2LU"
      }
    },
    {
      "cell_type": "code",
      "source": [
        "def kansu(b):\n",
        "    global banban # 関数の外の変数を直接使うという宣言\n",
        "    banban[0], banban[1] = banban[1], banban[0]\n",
        "\n",
        "banban = [\"coffee\", \"tea\"]\n",
        "kansu(banban)\n",
        "print(\"banban =\", banban)"
      ],
      "metadata": {
        "id": "cuBgTnGF7oIX"
      },
      "execution_count": null,
      "outputs": []
    },
    {
      "cell_type": "markdown",
      "source": [
        "## マジックナンバーの除去"
      ],
      "metadata": {
        "id": "GTaPYslEye8s"
      }
    },
    {
      "cell_type": "markdown",
      "source": [
        "マジックナンバーとは、プログラムの中に書かれた、数値（数字を並べたもの）で、プログラムの作成者以外には意味がわからないもののことである。マジックナンバーがあるプログラムを、「ハードコードされた」（固くプログラムされた）という。"
      ],
      "metadata": {
        "id": "72a0ShLwuC3y"
      }
    },
    {
      "cell_type": "markdown",
      "source": [
        "次の、リンゴとバナナの合計価格を求める関数は、マジックナンバーがあるハードコードされたプログラムである。（再掲となる。）100 や 70 の意味は、プログラムを作成した人にしかわからない。\n",
        "\n",
        "このようなプログラムは、実は保守性がよくない。つまり、他人が読むときに意味がわかりにくい。"
      ],
      "metadata": {
        "id": "w5PUIPqJWdjk"
      }
    },
    {
      "cell_type": "markdown",
      "source": [
        "【プログラム3414】"
      ],
      "metadata": {
        "id": "QDXCPhwqw4wc"
      }
    },
    {
      "cell_type": "code",
      "source": [
        "def goukei(a, b):\n",
        "    g = 100 * a + 70 * b\n",
        "    return(g)\n",
        "\n",
        "apple = int(input(\"apple?\"))\n",
        "banana = int(input(\"banana?\"))\n",
        "print(\"goukei =\", goukei(apple, banana))"
      ],
      "metadata": {
        "id": "Udxqvgvgt4dM"
      },
      "execution_count": null,
      "outputs": []
    },
    {
      "cell_type": "markdown",
      "source": [
        "そこで、プログラムの、なるべく前の方に、その意味がわかるように変数定義をしておく。この作業のことを「マジックナンバーの除去」という。（ここでは、ついでに、他の変数名もわかりやすいものに入れ替えた。）"
      ],
      "metadata": {
        "id": "02ELukhsynZA"
      }
    },
    {
      "cell_type": "markdown",
      "source": [
        "【プログラム3415】"
      ],
      "metadata": {
        "id": "5Li8p569w6FW"
      }
    },
    {
      "cell_type": "code",
      "source": [
        "# 単価の設定\n",
        "tanka_apple = 100\n",
        "tanka_banana = 70\n",
        "\n",
        "def goukei(kosu_apple, kosu_banana):\n",
        "    g = tanka_apple * kosu_apple + tanka_banana * kosu_banana\n",
        "    return(g)\n",
        "\n",
        "apple = int(input(\"apple?\"))\n",
        "banana = int(input(\"banana?\"))\n",
        "print(\"goukei =\", goukei(apple, banana))"
      ],
      "metadata": {
        "id": "e5j72x3IzM0f"
      },
      "execution_count": null,
      "outputs": []
    },
    {
      "cell_type": "markdown",
      "source": [
        "# 次の教材\n",
        "\n",
        "3.5 条件を利用した繰り返し while\n",
        "* https://colab.research.google.com/drive/1vHE6WRbWeesdTw4Rt4zbHVcKFqqJo8Hw"
      ],
      "metadata": {
        "id": "RQ_3bvzz21RT"
      }
    }
  ]
}