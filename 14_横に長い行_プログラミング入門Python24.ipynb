{
  "nbformat": 4,
  "nbformat_minor": 0,
  "metadata": {
    "colab": {
      "provenance": [],
      "collapsed_sections": [
        "WX4sRVO63me5",
        "FnSBdgK-Bwtz"
      ],
      "include_colab_link": true
    },
    "kernelspec": {
      "name": "python3",
      "display_name": "Python 3"
    }
  },
  "cells": [
    {
      "cell_type": "markdown",
      "metadata": {
        "id": "view-in-github",
        "colab_type": "text"
      },
      "source": [
        "<a href=\"https://colab.research.google.com/github/veritas-rt/OpenUniversity_Python-introduction-24-/blob/main/14_%E6%A8%AA%E3%81%AB%E9%95%B7%E3%81%84%E8%A1%8C_%E3%83%97%E3%83%AD%E3%82%B0%E3%83%A9%E3%83%9F%E3%83%B3%E3%82%B0%E5%85%A5%E9%96%80Python24.ipynb\" target=\"_parent\"><img src=\"https://colab.research.google.com/assets/colab-badge.svg\" alt=\"Open In Colab\"/></a>"
      ]
    },
    {
      "cell_type": "markdown",
      "source": [
        "# 第1章 プログラミング事始め・文字列・データ型"
      ],
      "metadata": {
        "id": "V99Z3vwfc1Sj"
      }
    },
    {
      "cell_type": "markdown",
      "source": [
        " * 左上の「ファイル」を開いて、「ドライブにコピーを保存」をしてください。\n",
        " * 自分のGoogleドライブに、そのファイルが保存されます。ファイル名は「のコピー」が、最後（右端）についています。それを利用して学習・演習を進めて下さい。"
      ],
      "metadata": {
        "id": "XjH5AX6Wc1Sx"
      }
    },
    {
      "cell_type": "markdown",
      "source": [
        "# 1.4 横に長い行"
      ],
      "metadata": {
        "id": "-1QmJkfGdFQU"
      }
    },
    {
      "cell_type": "markdown",
      "source": [
        "プログラムを書いていると、行が横に長くなり、読みにくくなることがある。"
      ],
      "metadata": {
        "id": "ZtrgCtSDdJG3"
      }
    },
    {
      "cell_type": "markdown",
      "source": [
        "【プログラム1401】"
      ],
      "metadata": {
        "id": "kcX_MFxksqdb"
      }
    },
    {
      "cell_type": "code",
      "source": [
        "# 文字列 hoge を設定する\n",
        "hoge = \"aka\" + \"kiiro\" + \"midori\" + \"ao\" + \"murasaki\" + \"shiro\" + \"kuro\""
      ],
      "metadata": {
        "id": "MepgaQ4_Mp_d"
      },
      "execution_count": null,
      "outputs": []
    },
    {
      "cell_type": "markdown",
      "source": [
        "【プログラム1402】"
      ],
      "metadata": {
        "id": "8h4n5Rw1ss_Z"
      }
    },
    {
      "cell_type": "code",
      "source": [
        "# days を定義する\n",
        "days = 31 + 28 + 31 + 30 + 31 + 30 + 31 + 31 + 30 + 31 + 30 + 31"
      ],
      "metadata": {
        "id": "_gtXcvk_dUQQ"
      },
      "execution_count": null,
      "outputs": []
    },
    {
      "cell_type": "markdown",
      "source": [
        "【プログラム1403】"
      ],
      "metadata": {
        "id": "fGRjKFoCst5-"
      }
    },
    {
      "cell_type": "code",
      "source": [
        "# 右に長くて読みにくい行がある\n",
        "akasatanahamayarawa = 1\n",
        "ikishitinihimiri = 2\n",
        "ukusutsunufumuyuru = 3\n",
        "hyoujishitai = akasatanahamayarawa + ikishitinihimiri + ukusutsunufumuyuru"
      ],
      "metadata": {
        "id": "bjV2eRGAeEcp"
      },
      "execution_count": null,
      "outputs": []
    },
    {
      "cell_type": "markdown",
      "source": [
        "その場合には、括弧でくくって改行を入れることができる。\n",
        "\n",
        "1. カッコがない式は、カッコを付けてもよい。そのカッコの中で改行することができる。\n",
        "\n",
        "2. このあとに登場するタプル・リスト・関数の定義、呼び出しは、もともと括弧を使っているので、途中で改行を入れてもよい。この括弧は、(丸括弧)、[四角括弧]、{波括弧} のいずれも該当する。\n",
        "\n",
        "2. 途中に括弧を含んでいないときは、次の方法で改行をすることができる。\n",
        " * 括弧を入れて明示する\n",
        " * 前の行の最後に、バックスラッシュ \\ をつける\n",
        "\n",
        "改行したときは、改行のあとは字下げ（左側に空白を4文字入れる）をする。\n",
        "\n",
        "**注意:** バックスラッシュ「 ＼ の半角文字」（左上から右下の文字）は、パソコンによっては「￥の半角文字」で表示されることがあります。そのときは、「￥の半角文字」を、「 ＼ の半角文字」に読み替えてください。"
      ],
      "metadata": {
        "id": "xj6aKbYFM-Ss"
      }
    },
    {
      "cell_type": "markdown",
      "source": [
        "【プログラム1404】"
      ],
      "metadata": {
        "id": "T3rw9jbNsveQ"
      }
    },
    {
      "cell_type": "code",
      "source": [
        "# 括弧を明示して複数行にする\n",
        "# 文字列 hoge を設定する\n",
        "hoge = (\"aka\" + \"kiiro\" + \"midori\"\n",
        "    + \"ao\" + \"murasaki\" + \"shiro\" + \"kuro\")"
      ],
      "metadata": {
        "id": "xGo3nGPEeBJs"
      },
      "execution_count": null,
      "outputs": []
    },
    {
      "cell_type": "markdown",
      "source": [
        "【プログラム1405】"
      ],
      "metadata": {
        "id": "Y0IvpTjmswhI"
      }
    },
    {
      "cell_type": "code",
      "source": [
        "# 括弧を明示して複数行にする\n",
        "# days を定義する\n",
        "days = (31 + 28 + 31 + 30\n",
        "        + 31 + 30 + 31 + 31\n",
        "        + 30 + 31 + 30 + 31)"
      ],
      "metadata": {
        "id": "6fkiVMsuesyB"
      },
      "execution_count": null,
      "outputs": []
    },
    {
      "cell_type": "markdown",
      "source": [
        "【プログラム1406】"
      ],
      "metadata": {
        "id": "4L-VEze5sx1F"
      }
    },
    {
      "cell_type": "code",
      "source": [
        "# 括弧を明示して複数行にする\n",
        "akasatanahamayarawa = 1\n",
        "ikishitinihimiri = 2\n",
        "ukusutsunufumuyuru = 3\n",
        "hyoujishitai = (akasatanahamayarawa\n",
        "    + ikishitinihimiri\n",
        "    + ukusutsunufumuyuru)\n",
        "print(hyoujishitai)"
      ],
      "metadata": {
        "id": "WXyYMmNle2kz"
      },
      "execution_count": null,
      "outputs": []
    },
    {
      "cell_type": "markdown",
      "source": [
        "【プログラム1407】"
      ],
      "metadata": {
        "id": "OoW5fB2UszLg"
      }
    },
    {
      "cell_type": "code",
      "source": [
        "# 改行の直前にバックスラッシュ \\  を入れる\n",
        "# 文字列 hoge を設定する\n",
        "hoge = \"aka\" + \"kiiro\" + \"midori\"\\\n",
        "    + \"ao\" + \"murasaki\" + \"shiro\" + \"kuro\""
      ],
      "metadata": {
        "id": "_goViqWufE7J"
      },
      "execution_count": null,
      "outputs": []
    },
    {
      "cell_type": "markdown",
      "source": [
        "【プログラム1408】"
      ],
      "metadata": {
        "id": "qZDJ7kYAs0SH"
      }
    },
    {
      "cell_type": "code",
      "source": [
        "# 改行の直前にバックスラッシュ \\  を入れる\n",
        "# days を定義する\n",
        "days = 31 + 28 + 31 + 30\\\n",
        "        + 31 + 30 + 31 + 31\\\n",
        "        + 30 + 31 + 30 + 31"
      ],
      "metadata": {
        "id": "pdhB92hQfHXr"
      },
      "execution_count": null,
      "outputs": []
    },
    {
      "cell_type": "markdown",
      "source": [
        "【プログラム1409】"
      ],
      "metadata": {
        "id": "oE56SFZQs1g-"
      }
    },
    {
      "cell_type": "code",
      "source": [
        "# 改行の直前にバックスラッシュ \\  を入れる\n",
        "akasatanahamayarawa = 1\n",
        "ikishitinihimiri = 2\n",
        "ukusutsunufumuyuru = 3\n",
        "hyoujishitai = akasatanahamayarawa\\\n",
        "    + ikishitinihimiri\\\n",
        "    + ukusutsunufumuyuru\n",
        "print(hyoujishitai)"
      ],
      "metadata": {
        "id": "rW_dYXs6e9ve"
      },
      "execution_count": null,
      "outputs": []
    },
    {
      "cell_type": "markdown",
      "source": [
        "# （次の教材）1.5 自学自習のために\n",
        "* https://colab.research.google.com/drive/1f4d8BeIGUf2qFWu3pFSHJwVu05Q3I2K9"
      ],
      "metadata": {
        "id": "Hpu2wgG-NOAU"
      }
    }
  ]
}