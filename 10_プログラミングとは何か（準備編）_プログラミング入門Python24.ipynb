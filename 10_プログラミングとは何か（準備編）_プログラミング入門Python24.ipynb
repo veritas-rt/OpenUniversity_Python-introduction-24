{
  "nbformat": 4,
  "nbformat_minor": 0,
  "metadata": {
    "colab": {
      "provenance": [],
      "collapsed_sections": [
        "WX4sRVO63me5",
        "FnSBdgK-Bwtz"
      ],
      "include_colab_link": true
    },
    "kernelspec": {
      "name": "python3",
      "display_name": "Python 3"
    }
  },
  "cells": [
    {
      "cell_type": "markdown",
      "metadata": {
        "id": "view-in-github",
        "colab_type": "text"
      },
      "source": [
        "<a href=\"https://colab.research.google.com/github/veritas-rt/OpenUniversity_Python-introduction-24-/blob/main/10_%E3%83%97%E3%83%AD%E3%82%B0%E3%83%A9%E3%83%9F%E3%83%B3%E3%82%B0%E3%81%A8%E3%81%AF%E4%BD%95%E3%81%8B%EF%BC%88%E6%BA%96%E5%82%99%E7%B7%A8%EF%BC%89_%E3%83%97%E3%83%AD%E3%82%B0%E3%83%A9%E3%83%9F%E3%83%B3%E3%82%B0%E5%85%A5%E9%96%80Python24.ipynb\" target=\"_parent\"><img src=\"https://colab.research.google.com/assets/colab-badge.svg\" alt=\"Open In Colab\"/></a>"
      ]
    },
    {
      "cell_type": "markdown",
      "source": [
        "# 第0章 準備編（途中からは次のファイル）"
      ],
      "metadata": {
        "id": "mHON3KhHJDNm"
      }
    },
    {
      "cell_type": "markdown",
      "source": [
        "この章では、プログラミングとはどういうことかについて、また、プログラミングを学ぶ環境のひとつである Google Colaboratory の使い方を学びます。そして、初めてのプログラミングとして、文字列を利用したプログラムを学びます。さらに、Python で利用できる基本的な「データ型」について学びます。最後に、キーボードからの入力について学びます。"
      ],
      "metadata": {
        "id": "FbwAIZAe9tQs"
      }
    },
    {
      "cell_type": "markdown",
      "source": [
        "## プログラミングとは何か\n"
      ],
      "metadata": {
        "id": "Nfb8UEf-Jy2t"
      }
    },
    {
      "cell_type": "markdown",
      "source": [
        "### 手順とは\n",
        "\n",
        "* 以下のことを含む作業\n",
        " * 順番（順序）\n",
        " * 条件判断（制御）\n",
        " * 繰り返し（反復）（「待つ」も含まれる）\n",
        "\n",
        "* プログラム\n",
        " * コンピュータ用に記述された手順\n",
        " * プログラミング言語とはプログラムの書き方\n",
        " * プログラムを作ることをプログラミングという"
      ],
      "metadata": {
        "id": "o9zftfMI5e9T"
      }
    },
    {
      "cell_type": "markdown",
      "source": [
        "私達は、日常生活で、いろいろな作業を行います。その作業には「順番」があります。また、一定の条件を満たしたときにだけ行う作業もあります。さらに、「待つ」「繰り返す」ということも、作業のひとつと言えます。\n",
        "\n",
        "このように、順番があり、条件に影響され、また、繰り返したり、待ったりすることによって進められることは、「手順」と呼ばれます。\n",
        "\n",
        "コンピュータが動作する際も、この「順番」「条件」「繰り返し」「待つ」といったことを行っています。こういった行為を組み合わせることで動作する機械が、コンピュータなのです。\n",
        "\n",
        "ところで、手順をコンピュータに伝えるときに使われる「文章」を、プログラムといいます。そして、その文章の書き方のことを、プログラミング言語といいます。\n",
        "\n",
        "いわば、プログラムとは、手順を、コンピュータにわかりやすい文法で書いた文章そのものなのです。\n",
        "\n",
        "そして、そのプログラムを作る作業を、プログラミングといいます。"
      ],
      "metadata": {
        "id": "l_aTCCwhJ1Z8"
      }
    },
    {
      "cell_type": "markdown",
      "source": [
        "### プログラミングを学ぼう\n",
        "\n",
        "* プログラムはコンピュータの動作を決める\n",
        " * プログラミングを学ぶと、コンピュータを意のままにあやつれる\n",
        " * プログラミングができることは、コンピュータを理解する助けになる\n",
        "* でも、現在のコンピュータは複雑な仕組みで動作\n",
        " * すべてを習得することは容易ではない\n",
        "* この授業では、プログラミング言語 Python を利用する\n",
        " * 統計、科学技術計算、人工知能でも実用的に使われている\n",
        " * 2015年以降、利用者急増中（教材が多い）"
      ],
      "metadata": {
        "id": "SWZ78xlc6QPc"
      }
    },
    {
      "cell_type": "markdown",
      "source": [
        "プログラミングができると、コンピュータを意のままに動作させることができます。しかし、実は、現在のコンピュータは、その内部が非常に複雑で、その一つ一つの部品を制御するプログラムは、非常に複雑に作られています。したがって、「ちょっとプログラミングを勉強した」程度では、コンピュータの動作を根本から理解することは不可能です。しかし、プログラミングの学習はコンピュータの仕組みを、すこし掘り下げて理解するのに役に立つのです。\n",
        "\n",
        "この授業で取り上げるのは、 Python というプログラミング言語です。この言語の文法に従って記述されたプログラムを利用すると、様々な計算（特に、統計や、科学技術計算や、人工知能に関する計算）をすることができるようになります。そしてそれは、コンピュータが、どのように動作するのかを理解するために、とても役に立つでしょう。\n",
        "\n",
        "つまり、プログラミングができることは、コンピュータの動作を正しく考えられるようになることにつながっていくのです。"
      ],
      "metadata": {
        "id": "EFbGRVrkJ8tE"
      }
    },
    {
      "cell_type": "markdown",
      "source": [
        "# 初めての Google Colaboratory"
      ],
      "metadata": {
        "id": "PJhSd-Qp6zCG"
      }
    },
    {
      "cell_type": "markdown",
      "source": [
        "## Google Colaboratory とは\n",
        "\n",
        "* Python 言語の言語処理系のひとつ\n",
        "* Google 社によって提供されている\n",
        " * 他のプログラミング言語用に改造もできる\n",
        "\n",
        "* 「ノートブック」と呼ばれるファイルを利用する\n",
        " * 同じノートブックを多数の人で共有可能\n",
        " * 自分のドライブにコピーを作れば、自分でも編集可能"
      ],
      "metadata": {
        "id": "7YNsqwZVfF3W"
      }
    },
    {
      "cell_type": "code",
      "source": [],
      "metadata": {
        "id": "q93HSsiURyll"
      },
      "execution_count": null,
      "outputs": []
    },
    {
      "cell_type": "markdown",
      "metadata": {
        "id": "jRQu-xaPwnPu"
      },
      "source": [
        "Google Colaboratory は、Google 社によって提供された、webブラウザでプログラミングを学んだり、実際にプログラムを利用して情報処理を行う仕組みです。\n",
        "\n",
        "教材と、プログラミングの環境が一体化されているので、教材を進めながらプログラムを作って試すことができます。この教材も、Google Colaboratory を使って書かれています。\n",
        "\n",
        "主に、Python 言語を学ぶためのものですが、C言語や、R言語を学ぶように改造されたものも存在します。\n",
        "\n",
        "ここでは、この授業の教材をつかった学び方を、まず、説明します。\n"
      ]
    },
    {
      "cell_type": "markdown",
      "source": [
        "1. 次のURLを開いてください。<br>https://colab.research.google.com/drive/1Oi7-bvuy31sHD909ZRY4lXyMoYIGd0Fw?usp=sharing"
      ],
      "metadata": {
        "id": "bxon6trfP8D0"
      }
    }
  ]
}