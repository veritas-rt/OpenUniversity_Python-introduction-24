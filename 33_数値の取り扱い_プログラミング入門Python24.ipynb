{
  "nbformat": 4,
  "nbformat_minor": 0,
  "metadata": {
    "colab": {
      "provenance": [],
      "collapsed_sections": [
        "WX4sRVO63me5",
        "FnSBdgK-Bwtz"
      ],
      "include_colab_link": true
    },
    "kernelspec": {
      "name": "python3",
      "display_name": "Python 3"
    }
  },
  "cells": [
    {
      "cell_type": "markdown",
      "metadata": {
        "id": "view-in-github",
        "colab_type": "text"
      },
      "source": [
        "<a href=\"https://colab.research.google.com/github/veritas-rt/OpenUniversity_Python-introduction-24-/blob/main/33_%E6%95%B0%E5%80%A4%E3%81%AE%E5%8F%96%E3%82%8A%E6%89%B1%E3%81%84_%E3%83%97%E3%83%AD%E3%82%B0%E3%83%A9%E3%83%9F%E3%83%B3%E3%82%B0%E5%85%A5%E9%96%80Python24.ipynb\" target=\"_parent\"><img src=\"https://colab.research.google.com/assets/colab-badge.svg\" alt=\"Open In Colab\"/></a>"
      ]
    },
    {
      "cell_type": "markdown",
      "source": [
        "# 第3章 プログラムによる問題解決、制御、数値表現、関数、繰り返し\n"
      ],
      "metadata": {
        "id": "mHON3KhHJDNm"
      }
    },
    {
      "cell_type": "markdown",
      "source": [
        " * 左上の「ファイル」を開いて、「ドライブにコピーを保存」をしてください。\n",
        " * 自分のGoogleドライブに、そのファイルが保存されます。ファイル名は「のコピー」が、最後（右端）についています。それを利用して学習・演習を進めて下さい。"
      ],
      "metadata": {
        "id": "lm7oxHNx4rIf"
      }
    },
    {
      "cell_type": "markdown",
      "source": [
        "# 3.3 数値の取り扱い"
      ],
      "metadata": {
        "id": "2_S_J1uaQZz9"
      }
    },
    {
      "cell_type": "markdown",
      "source": [
        "##10進法と2進法"
      ],
      "metadata": {
        "id": "0Faqj6WVmcKd"
      }
    },
    {
      "cell_type": "markdown",
      "source": [
        "私達は、普段、数値を10進法で表した数字（および、マイナス符号、小数点）の繋がりで認識している。だが、コンピュータでは、数値は2進法をIEEE754形式を利用して記録している。\n",
        "\n",
        "* 10進法と2進法の変換ルールについては、別の授業を参照されたい。\n",
        "* IEEE754形式については、別の本等を参照されたい。\n",
        "\n",
        "ここでは、Google Colab. の Pytyon における10進法と2進法の認識について、プログラムを用いて説明する。\n",
        "\n",
        "$10 = 2 × 5$ であるから、2進法の有限桁で記された数は、（小数点の右側も含めて）10進法でも有限桁で表すことは可能。一方で、逆は成立しない。10進法の 0.2 は、2進法では循環小数になる。\n",
        "\n",
        "次のプログラムは、0.28-0.27を求めて表示した例である。0.28も、0.27も、IEEE754形式では、循環小数となるので、引き算した結果に、真の値との誤差が生じてしまう。"
      ],
      "metadata": {
        "id": "h2Gi1CyOwT9f"
      }
    },
    {
      "cell_type": "markdown",
      "source": [
        "【プログラム3301】"
      ],
      "metadata": {
        "id": "HYeuj5gSvwXG"
      }
    },
    {
      "cell_type": "code",
      "source": [
        "# x に28 - 27 の計算結果を入れる\n",
        "x = 28 - 27\n",
        "print(x)\n",
        "\n",
        "# y に0.28 - 0.27 の計算結果を入れる\n",
        "y = 0.28 - 0.27\n",
        "print(y)"
      ],
      "metadata": {
        "id": "LLUjGVn2zmjV"
      },
      "execution_count": null,
      "outputs": []
    },
    {
      "cell_type": "markdown",
      "source": [
        "Pythonの標準のデータ型にはない、Decimal型を利用することで、この問題を回避することは可能である。"
      ],
      "metadata": {
        "id": "Bv83Cksq1EPZ"
      }
    },
    {
      "cell_type": "markdown",
      "source": [
        "【プログラム3302】"
      ],
      "metadata": {
        "id": "8pRAJjWpvy4F"
      }
    },
    {
      "cell_type": "code",
      "source": [
        "# Decimal モジュールを追加する\n",
        "from decimal import *\n",
        "\n",
        "# y に0.28 - 0.27 の計算結果を入れる\n",
        "y = Decimal(\"0.28\") - Decimal(\"0.27\")\n",
        "print(y)"
      ],
      "metadata": {
        "id": "Bkoqf2Q40Lia"
      },
      "execution_count": null,
      "outputs": []
    },
    {
      "cell_type": "markdown",
      "source": [
        "Decimalモジュールを追加することは、人間にとってわかりやすい数値の計算になるメリットがあるが、一方で、2進法での高速な計算はできなくなるというデメリットがある。"
      ],
      "metadata": {
        "id": "wF2vLHXA1Vy0"
      }
    },
    {
      "cell_type": "markdown",
      "source": [
        "## 数の表現"
      ],
      "metadata": {
        "id": "DDkDzG_H1L9E"
      }
    },
    {
      "cell_type": "markdown",
      "source": [
        "コンピュータで利用できる数値には上限と下限がある。この環境（Google Colab.）では、float型の上限は、\n",
        "$$1.7976931348623157 × 10^{\\ 308}$$\n",
        "となっている。\n",
        "\n",
        "この値を、Pythonでは、次のように記す。\n",
        "> 1.7976931348623157e+308\n",
        "\n",
        "この値は、十進法で309桁の数であるが、左側は17桁しか見えてないことから、多少の数値を加えても、それは無視されてしまう。\n",
        "\n",
        "また、この上限に、さらに値を加えてみると、「あふれ」（オーバーフロー）現象を起こしてしまう。オーバーフローすると、inf （無限大）を表示してしまう。\n"
      ],
      "metadata": {
        "id": "HhkWkLc7sRDp"
      }
    },
    {
      "cell_type": "markdown",
      "source": [
        "【プログラム3303】"
      ],
      "metadata": {
        "id": "FYPMccVhv0xd"
      }
    },
    {
      "cell_type": "code",
      "source": [
        "# 実行環境に関する情報を調べるためのモジュールを呼び出し\n",
        "import sys\n",
        "# モジュールsysを使い，float 型で表せる最大値をxに代入\n",
        "x = sys.float_info.max\n",
        "print(x)\n",
        "\n",
        "# x に １ を加えてみる。\n",
        "y = x + 1\n",
        "print(y)\n",
        "\n",
        "if (x == y):\n",
        "    print(\"same\")\n",
        "else:\n",
        "    print(\"different\")\n",
        "\n",
        "# float 型の最大値より大きな値を代入\n",
        "x = 1.8e+308\n",
        "print(x)"
      ],
      "metadata": {
        "id": "vMV9SvQktLKI"
      },
      "execution_count": null,
      "outputs": []
    },
    {
      "cell_type": "markdown",
      "source": [
        "# 次の教材\n",
        "\n",
        "3.4 関数定義\n",
        "* https://colab.research.google.com/drive/12czjDNIkCz-rmjVZe28dLjQoZ0Pdfk-F"
      ],
      "metadata": {
        "id": "SGbwCpjwjOGE"
      }
    }
  ]
}