{
  "nbformat": 4,
  "nbformat_minor": 0,
  "metadata": {
    "colab": {
      "provenance": [],
      "collapsed_sections": [
        "WX4sRVO63me5",
        "FnSBdgK-Bwtz"
      ]
    },
    "kernelspec": {
      "name": "python3",
      "display_name": "Python 3"
    }
  },
  "cells": [
    {
      "cell_type": "markdown",
      "source": [
        "# 第5章 図形と統計"
      ],
      "metadata": {
        "id": "_HL30-W2R_lw"
      }
    },
    {
      "cell_type": "markdown",
      "source": [
        " * 左上の「ファイル」を開いて、「ドライブにコピーを保存」をしてください。\n",
        " * 自分のGoogleドライブに、そのファイルが保存されます。ファイル名は「のコピー」が、最後（右端）についています。それを利用して学習・演習を進めて下さい。"
      ],
      "metadata": {
        "id": "lm7oxHNx4rIf"
      }
    },
    {
      "cell_type": "markdown",
      "source": [
        "# 5.2 数学的なグラフと図"
      ],
      "metadata": {
        "id": "WSwkyZxw7S9K"
      }
    },
    {
      "cell_type": "markdown",
      "source": [
        "## 関数のグラフ"
      ],
      "metadata": {
        "id": "CA8xY8xh48TQ"
      }
    },
    {
      "cell_type": "markdown",
      "source": [
        "今までの応用で、数学のグラフを描くこともできる。\n",
        "\n",
        "* まず、xの値を、ある範囲で小刻みに変化させるリストを作る。NumPy の linspace を利用する。\n",
        " * linspace(s, e, n) で、 s 以上 e 以下を 、 n -1 等分する（リストの長さは n になる。）\n",
        "* 次に、その x に対する y を計算する式を作っておく。\n",
        "* その結果を、matplotlib で利用する。\n",
        "\n",
        "具体的なプログラムは次のものとなる。"
      ],
      "metadata": {
        "id": "fF5Zo7ImFrah"
      }
    },
    {
      "cell_type": "markdown",
      "source": [
        "次は、 $ y = x^2 $ のグラフである。"
      ],
      "metadata": {
        "id": "wcE_uXsXt9Si"
      }
    },
    {
      "cell_type": "markdown",
      "source": [
        "【プログラム5201】"
      ],
      "metadata": {
        "id": "oKR4FKB1MZYr"
      }
    },
    {
      "cell_type": "code",
      "source": [
        "import numpy as np # NumPy というライブラリを利用する\n",
        "import matplotlib.pyplot as plt\n",
        "\n",
        "x = np.linspace(-3, 5, 81) #-3から5まで 80分割\n",
        "y = x * x\n",
        "\n",
        "plt.figure(figsize=(4,10)) # 描画の大きさは横4, 縦10\n",
        "plt.xlim(-5, 5) # x座標の範囲\n",
        "plt.ylim(0, 25) # y座標の範囲\n",
        "plt.xlabel(\"x\") # x方向の軸名\n",
        "plt.ylabel(\"y\") # y方向の軸名\n",
        "plt.grid(which=\"major\", color=\"black\", alpha=0.5) # 補助線\n",
        "plt.plot(x, y)\n",
        "plt.show()"
      ],
      "metadata": {
        "id": "Q20AltjO5fiG"
      },
      "execution_count": null,
      "outputs": []
    },
    {
      "cell_type": "markdown",
      "source": [
        "数学的なグラフや図を描く場合、縦横の縮尺を考慮する必要がある。\n",
        "\n",
        "> plt.figure(figsize=(h, v))\n",
        "\n",
        "とすると、図は、横hインチ、縦vインチになる。また、\n",
        "\n",
        "> plt.xlim(a, b)\n",
        "\n",
        "とすると、 x軸は $ a \\le x \\le b $ の範囲を描く。($y$ も同様）\n",
        "\n",
        "したがって、「h : v は、xの値域: yの値域」になるようにしておくと、正確に描くことができる。"
      ],
      "metadata": {
        "id": "DkkHQnGu7aXA"
      }
    },
    {
      "cell_type": "markdown",
      "source": [
        "次は、 $ y = (x-1)x(x+1) = x^3 - x $ のグラフである。"
      ],
      "metadata": {
        "id": "1QaX4FEEHy6j"
      }
    },
    {
      "cell_type": "markdown",
      "source": [
        "【プログラム5202】"
      ],
      "metadata": {
        "id": "LKX0JdGBMbeR"
      }
    },
    {
      "cell_type": "code",
      "source": [
        "import numpy as np # NumPy というライブラリを利用する\n",
        "import matplotlib.pyplot as plt\n",
        "\n",
        "x = np.linspace(-4, 4, 81) #-4から4まで80分割\n",
        "y = (x - 1) * x * (x + 1)\n",
        "\n",
        "plt.figure(figsize=(10,10)) # 描画の大きさは横10, 縦10\n",
        "plt.xlim(-2, 2) # x座標の範囲\n",
        "plt.ylim(-2, 2) # y座標の範囲\n",
        "plt.xlabel(\"x\") # x方向の軸名\n",
        "plt.ylabel(\"y\") # y方向の軸名\n",
        "plt.grid(which=\"major\", color=\"black\", alpha=0.5) # 補助線\n",
        "plt.plot(x, y)\n",
        "plt.show()"
      ],
      "metadata": {
        "id": "sgaLI0cM6IV5"
      },
      "execution_count": null,
      "outputs": []
    },
    {
      "cell_type": "markdown",
      "source": [
        "次は $ y = x^{2} \\sin (30\\pi x)\\ (-1 \\le x \\le 1)$ のグラフである。"
      ],
      "metadata": {
        "id": "JeWrLdSX-njH"
      }
    },
    {
      "cell_type": "markdown",
      "source": [
        "【プログラム5203】"
      ],
      "metadata": {
        "id": "mPanX_pJMcfr"
      }
    },
    {
      "cell_type": "code",
      "source": [
        "import numpy as np # NumPy というライブラリを利用する\n",
        "import matplotlib.pyplot as plt\n",
        "\n",
        "x = np.linspace(-1, 1, 201) #-1から1まで200分割\n",
        "y = x * x * np.sin(30 * np.math.pi * x)\n",
        "\n",
        "plt.figure(figsize=(10, 10))\n",
        "plt.xlim(-1, 1) # x座標の範囲\n",
        "plt.ylim(-1, 1) # y座標の範囲\n",
        "plt.xlabel(\"x\") # x方向の軸名\n",
        "plt.ylabel(\"y\") # y方向の軸名\n",
        "plt.grid(which=\"major\", color=\"black\", alpha=0.5) # 補助線\n",
        "plt.plot(x, y)\n",
        "plt.show()"
      ],
      "metadata": {
        "id": "U41-ptMy56lp"
      },
      "execution_count": null,
      "outputs": []
    },
    {
      "cell_type": "markdown",
      "source": [
        "次は、2つのグラフを同一の座標平面に描くプログラムである。"
      ],
      "metadata": {
        "id": "YqGhjTyaHF7X"
      }
    },
    {
      "cell_type": "markdown",
      "source": [
        "【プログラム5204】"
      ],
      "metadata": {
        "id": "owwMnEjbMdnQ"
      }
    },
    {
      "cell_type": "code",
      "source": [
        "import numpy as np # NumPy というライブラリを利用する\n",
        "import matplotlib.pyplot as plt\n",
        "\n",
        "x1 = np.linspace(-5, 5, 101) #0~5まで 0.1 刻みで生成\n",
        "y1 = x1 + 1\n",
        "\n",
        "x2 = np.linspace(-5, 5, 101) #0~5まで 0.1 刻みで生成\n",
        "y2 = x2 * x2  -1\n",
        "\n",
        "plt.figure(figsize=(6,6)) # 描画の大きさは横10, 縦10\n",
        "plt.xlim(-5, 5) # x座標の範囲\n",
        "plt.ylim(-2, 8) # y座標の範囲\n",
        "plt.xlabel(\"x\") # x方向の軸名\n",
        "plt.ylabel(\"y\") # y方向の軸名\n",
        "plt.grid(which=\"major\", color=\"black\", alpha=0.5) # 補助線\n",
        "plt.plot(x1, y1) #1つ目のグラフ\n",
        "plt.plot(x2, y2) #2つ目のグラフ\n",
        "plt.show()"
      ],
      "metadata": {
        "id": "rVqDkMICFmcn"
      },
      "execution_count": null,
      "outputs": []
    },
    {
      "cell_type": "markdown",
      "source": [
        "次のプログラムは、n個の曲線を同一面に描いている。"
      ],
      "metadata": {
        "id": "vHvFBt_X_NXA"
      }
    },
    {
      "cell_type": "markdown",
      "source": [
        "【プログラム5205】"
      ],
      "metadata": {
        "id": "EoU6Wxk2MehF"
      }
    },
    {
      "cell_type": "code",
      "source": [
        "import numpy as np # NumPy というライブラリを利用する\n",
        "import matplotlib.pyplot as plt\n",
        "\n",
        "x = np.linspace(0, 0.01 + 2 * np.pi, 629) # x は 0 から 2π まで 628分割\n",
        "n = 5 # 描く本数\n",
        "\n",
        "y = [0 * x] * (n + 1) # y をリストで最初に定数関数 y=0 で定義しておく。x の関数であることを明示する。\n",
        "\n",
        "for k in range(n): # 関数 y[k] が定義されていたとして、y[k + 1] を定義する\n",
        "    if k % 2 == 0:\n",
        "        y[k + 1] = y[k] + np.sin((k + 1) * x) / (k + 1)\n",
        "    else:\n",
        "        y[k + 1] = y[k] - np.sin((k + 1) * x) / (k + 1)\n",
        "\n",
        "plt.figure(figsize=(4 * np.pi,8)) # 描画の大きさ\n",
        "plt.xlim(0, 2 * np.pi) # x座標の範囲\n",
        "plt.ylim(-2, 2) # y座標の範囲\n",
        "plt.xlabel(\"x\") # x方向の軸名\n",
        "plt.ylabel(\"y\") # y方向の軸名\n",
        "plt.grid(which=\"major\", color=\"black\", alpha=0.5) # 補助線\n",
        "\n",
        "for k in range(n): # 定義された関数 y[0], y[1], ... y[n - 1] を描画する\n",
        "    plt.plot(x, y[k])\n",
        "\n",
        "plt.show()"
      ],
      "metadata": {
        "id": "krPY0N4i3CsL"
      },
      "execution_count": null,
      "outputs": []
    },
    {
      "cell_type": "markdown",
      "source": [
        "## 直線で閉じた図形"
      ],
      "metadata": {
        "id": "-p8kh17gXi9Y"
      }
    },
    {
      "cell_type": "markdown",
      "source": [
        "頂点をタプルで与えることで、直線で閉じた図形を描くことができる。ここでは、図形を描くプログラムを、少しずつ作っていく。"
      ],
      "metadata": {
        "id": "dlYKj7oHXrik"
      }
    },
    {
      "cell_type": "markdown",
      "source": [
        "第1段階：例えば、5つの頂点(vertex)が、(0, 0), (1, 0), (1, 1), (0.5, 1.5), (1,0) となる図形を書こうと考える。ここでは、タプルで与えられているとする。"
      ],
      "metadata": {
        "id": "g3KR63N2cOUY"
      }
    },
    {
      "cell_type": "markdown",
      "source": [
        "【プログラム5206-1】"
      ],
      "metadata": {
        "id": "DUwACBHGMg1x"
      }
    },
    {
      "cell_type": "code",
      "source": [
        "vlist = ((0, 0), (1, 0), (1, 1), (0.5, 1.5), (1,0))"
      ],
      "metadata": {
        "id": "v23feJy4d1de"
      },
      "execution_count": null,
      "outputs": []
    },
    {
      "cell_type": "markdown",
      "source": [
        "第2段階：plot は、xの変化と、yの変化を、それぞれ別のタプル（あるいはリスト）に入れる必要があるので、まず、頂点のx座標のリストとy座標のリストを、それぞれ作成する。"
      ],
      "metadata": {
        "id": "Tak6pxVddyPe"
      }
    },
    {
      "cell_type": "markdown",
      "source": [
        "【プログラム5206-2】"
      ],
      "metadata": {
        "id": "XOhzBfozMjBZ"
      }
    },
    {
      "cell_type": "code",
      "source": [
        "vlist = ((0, 0), (1, 0), (1, 1), (0.5, 1.5), (0, 1))\n",
        "\n",
        "tyoutensuu = len(vlist) # 頂点の個数\n",
        "vx, vy = [], [] # 頂点のx座標と、y座標のリスト（最初は空っぽ）\n",
        "\n",
        "for i in range(tyoutensuu):\n",
        "    vx.append(vlist[i][0]) # vlist の各要素の 0 番目を リスト vx に追加する\n",
        "    vy.append(vlist[i][1]) # vlist の各要素の 1 番目を リスト vy に追加する"
      ],
      "metadata": {
        "id": "l2XO64CBd646"
      },
      "execution_count": null,
      "outputs": []
    },
    {
      "cell_type": "markdown",
      "source": [
        "第3段階：このままでは、閉じた図形にならないので、最後に、元の点に戻るようにする。"
      ],
      "metadata": {
        "id": "ZgvdKWiZfkw5"
      }
    },
    {
      "cell_type": "markdown",
      "source": [
        "【プログラム5206-3】"
      ],
      "metadata": {
        "id": "Yt5elIflMkqT"
      }
    },
    {
      "cell_type": "code",
      "metadata": {
        "id": "0cm3u0OQcbN-"
      },
      "source": [
        "vlist = ((0, 0), (1, 0), (1, 1), (0.5, 1.5), (0, 1))\n",
        "\n",
        "tyoutensuu = len(vlist) # 頂点の個数\n",
        "vx, vy = [], [] # 頂点のx座標と、y座標のリスト（最初は空っぽ）\n",
        "\n",
        "for i in range(tyoutensuu):\n",
        "    vx.append(vlist[i][0]) # vlist の各要素の 0 番目を リスト vx に追加する\n",
        "    vy.append(vlist[i][1]) # vlist の各要素の 1 番目を リスト vy に追加する\n",
        "\n",
        "# 最後に、元の点に戻るようにする。\n",
        "vx.append(vlist[0][0])\n",
        "vy.append(vlist[0][1])"
      ],
      "execution_count": null,
      "outputs": []
    },
    {
      "cell_type": "markdown",
      "source": [
        "第4段階：次に、これらの点を回る線を引く。冒頭の matplotlib の読み込みもつけておく。"
      ],
      "metadata": {
        "id": "bKC6VNo6eyah"
      }
    },
    {
      "cell_type": "markdown",
      "source": [
        "【プログラム5206-4】"
      ],
      "metadata": {
        "id": "sr2Ewag-MmWI"
      }
    },
    {
      "cell_type": "code",
      "source": [
        "# matplotlibというライブラリはグラフの描画をするためのものである。\n",
        "# 実行すると、しばらくメッセージが表示される。\n",
        "import matplotlib.pyplot as plt\n",
        "\n",
        "vlist = ((0, 0), (1, 0), (1, 1), (0.5, 1.5), (0, 1))\n",
        "\n",
        "tyoutensuu = len(vlist) # 頂点の個数\n",
        "vx, vy = [], [] # 頂点のx座標と、y座標のリスト（最初は空っぽ）\n",
        "\n",
        "for i in range(tyoutensuu):\n",
        "    vx.append(vlist[i][0]) # vlist の各要素の 0 番目を リスト vx に追加する\n",
        "    vy.append(vlist[i][1]) # vlist の各要素の 1 番目を リスト vy に追加する\n",
        "\n",
        "# 最後に、元の点に戻るようにする。\n",
        "vx.append(vlist[0][0])\n",
        "vy.append(vlist[0][1])\n",
        "\n",
        "plt.plot(vx, vy, marker=\"\") # marker=\"\" は、頂点に図形を描かないという意味\n",
        "plt.xlabel(\"x\") # x方向の軸名\n",
        "plt.ylabel(\"y\") # y方向の軸名\n",
        "plt.show()"
      ],
      "metadata": {
        "id": "TMYRC_-7fyky"
      },
      "execution_count": null,
      "outputs": []
    },
    {
      "cell_type": "markdown",
      "source": [
        "第5段階：x は、0 から 1 までの範囲なのに対して、yは0から1.5までの範囲なので、描画する図面の大きさも、縦横に、その比率になるように値を設定する。今回は、 横4, 縦6 とした。"
      ],
      "metadata": {
        "id": "5jUc8D5wg4MA"
      }
    },
    {
      "cell_type": "markdown",
      "source": [
        "【プログラム5206-5】"
      ],
      "metadata": {
        "id": "6dUG9z08MovD"
      }
    },
    {
      "cell_type": "code",
      "source": [
        "# matplotlibというライブラリはグラフの描画をするためのものである。\n",
        "# 実行すると、しばらくメッセージが表示される。\n",
        "import matplotlib.pyplot as plt\n",
        "\n",
        "vtuple = ((0, 0), (1, 0), (1, 1), (0.5, 1.5), (0, 1))\n",
        "\n",
        "tyoutensuu = len(vtuple) # 頂点の個数\n",
        "vx, vy = [], [] # 頂点のx座標と、y座標のリスト（最初は空っぽ）\n",
        "\n",
        "for i in range(tyoutensuu):\n",
        "    vx.append(vtuple[i][0]) # vtuple の各要素の 0 番目を リスト vx に追加する\n",
        "    vy.append(vtuple[i][1]) # vtuple の各要素の 1 番目を リスト vy に追加する\n",
        "\n",
        "# 最後に、元の点に戻るようにする。\n",
        "vx.append(vtuple[0][0])\n",
        "vy.append(vtuple[0][1])\n",
        "\n",
        "plt.figure(figsize=(4,6)) # 描画の大きさは横4, 縦6\n",
        "plt.plot(vx, vy, marker=\"\") # marker=\"\" は、頂点に図形を描かないという意味\n",
        "plt.xlabel(\"x\") # x方向の軸名\n",
        "plt.ylabel(\"y\") # y方向の軸名\n",
        "plt.show()"
      ],
      "metadata": {
        "id": "VaC3huJZiAQs"
      },
      "execution_count": null,
      "outputs": []
    },
    {
      "cell_type": "markdown",
      "source": [
        "## 正多角形"
      ],
      "metadata": {
        "id": "O9CZnzBOwMvX"
      }
    },
    {
      "cell_type": "markdown",
      "source": [
        "上記の応用例を元に、正$n$角形を描くことにする。これから書こうとする $n$ 角形は、次のものとする。\n",
        "\n",
        "* 中心は原点 (0, 0)\n",
        "* 最初の点は (1, 0)\n",
        "* 中心角（一定の角度）\n",
        "\n",
        "なお、Python の三角関数は、1周が 360°ではなく、弧度法（1周で $2\\pi$ ラジアン）で角度を伝える必要がある。したがって、 $n$ 角形の中心角は、$\\theta = \\frac{2\\pi}{n}$ ラジアンである。"
      ],
      "metadata": {
        "id": "cAAfv0a0wO5Q"
      }
    },
    {
      "cell_type": "markdown",
      "source": [
        "(1) 一般角の三角関数（極座標）を利用する場合\n",
        "\n",
        "原点中心で、点$(1, 0)$ を頂点の一つとする $n$ 角形の各点の座標 $(x_{k}, y_{k})$ は、次の式で書くことができる。\n",
        "\n",
        "* $ x_{k} = \\cos k\\theta $\n",
        "* $ y_{k} = \\sin k\\theta$\n",
        "\n",
        "この場合、次のプログラムを作ることができる。"
      ],
      "metadata": {
        "id": "4ZQY8kyFmn2d"
      }
    },
    {
      "cell_type": "markdown",
      "source": [
        "【プログラム5207】"
      ],
      "metadata": {
        "id": "ZKnydaPNMqrO"
      }
    },
    {
      "cell_type": "code",
      "source": [
        "# 一般角の三角関数（極座標）を利用する場合\n",
        "# matplotlibというライブラリはグラフの描画をするためのものである。\n",
        "# 実行すると、しばらくメッセージが表示される。\n",
        "import matplotlib.pyplot as plt\n",
        "import math\n",
        "\n",
        "tyoutensuu = int(input(\"頂点の個数は？\")) # 頂点の個数\n",
        "\n",
        "x, y = 1, 0 # 最初の点\n",
        "vx, vy = [], [] # 頂点のx座標と、y座標のリスト（初期値は空のリスト）\n",
        "tyushinkaku = 2 * math.pi / tyoutensuu # 1周が 2πラジアンであるので、頂点数で割ると中心角になる\n",
        "\n",
        "for k in range(tyoutensuu + 1):\n",
        "    vx.append(math.cos(k * tyushinkaku)) # 新しいx座標を リスト vx に追加する\n",
        "    vy.append(math.sin(k * tyushinkaku)) # 新しいy座標を リスト vy に追加する\n",
        "\n",
        "plt.figure(figsize=(10,10)) # 描画の大きさは横10, 縦10\n",
        "plt.xlim(-1, 1) # x座標の範囲\n",
        "plt.ylim(-1, 1) # y座標の範囲\n",
        "plt.plot(vx, vy, marker=\"\") # marker=\"\" は、頂点に図形を描かないという意味\n",
        "plt.xlabel(\"x\") # x方向の軸名\n",
        "plt.ylabel(\"y\") # y方向の軸名\n",
        "plt.grid(which=\"major\", color=\"black\", alpha=0.5) # 補助線\n",
        "plt.show()"
      ],
      "metadata": {
        "id": "P7weVUPxl34s"
      },
      "execution_count": null,
      "outputs": []
    },
    {
      "cell_type": "markdown",
      "source": [
        "(2) 回転行列（あるいは複素平面での回転変換）を利用して求める場合\n",
        "\n",
        "点$(x_k, y_k)$ を、原点中心に $\\theta $ °回転した点が、$(x_{k+1}, y_{k+1}) $ であるならば、次の式が成り立つ。\n",
        "\n",
        "* $x_{k+1} = x_{k}\\cos \\theta - y_{k}\\sin \\theta$\n",
        "* $y_{k+1} = x_{k}\\sin \\theta + y_{k}\\cos \\theta$\n",
        "\n",
        "この場合、次のプログラムを作ることができる。"
      ],
      "metadata": {
        "id": "uFp_E0c4LYAQ"
      }
    },
    {
      "cell_type": "markdown",
      "source": [
        "【プログラム52-8】"
      ],
      "metadata": {
        "id": "A6gycnhYMr6G"
      }
    },
    {
      "cell_type": "code",
      "source": [
        "# 回転行列（あるいは複素平面での回転変換）を利用して求める場合\n",
        "# matplotlibというライブラリはグラフの描画をするためのものである。\n",
        "# 実行すると、しばらくメッセージが表示される。\n",
        "import matplotlib.pyplot as plt\n",
        "import math\n",
        "\n",
        "tyoutensuu = int(input(\"頂点の個数は？\")) # 頂点の個数\n",
        "\n",
        "x, y = 1, 0 # 最初の点\n",
        "vx, vy = [x], [y] # 頂点のx座標と、y座標のリスト（初期値として、最初の点が入っている）\n",
        "tyushinkaku = 2 * math.pi / tyoutensuu # 1周が 2πラジアンであるので、頂点数で割ると中心角になる\n",
        "\n",
        "for k in range(tyoutensuu):\n",
        "    nx = x * math.cos(tyushinkaku) - y * math.sin(tyushinkaku) # 新しいx座標を求める\n",
        "    ny = x * math.sin(tyushinkaku) + y * math.cos(tyushinkaku) # 新しいy座標を求める\n",
        "    vx.append(nx) # nx を リスト vx に追加する\n",
        "    vy.append(ny) # ny を リスト vy に追加する\n",
        "    x, y = nx, ny # 次の点の座標を、x, y にする。\n",
        "\n",
        "plt.figure(figsize=(10,10)) # 描画の大きさは横10, 縦10\n",
        "plt.xlim(-1, 1) # x座標の範囲\n",
        "plt.ylim(-1, 1) # y座標の範囲\n",
        "plt.plot(vx, vy, marker=\"\") # marker=\"\" は、頂点に図形を描かないという意味\n",
        "plt.xlabel(\"x\") # x方向の軸名\n",
        "plt.ylabel(\"y\") # y方向の軸名\n",
        "plt.grid(which=\"major\", color=\"black\", alpha=0.5) # 補助線\n",
        "plt.show()"
      ],
      "metadata": {
        "id": "zD4VAWmdwLrG"
      },
      "execution_count": null,
      "outputs": []
    },
    {
      "cell_type": "markdown",
      "source": [
        "# 次の教材\n",
        "\n",
        "5.3 統計処理\n",
        "* https://colab.research.google.com/drive/1rHRgOyOn6CgRW4hbrfn6B00SSkRub9Ry"
      ],
      "metadata": {
        "id": "RQ_3bvzz21RT"
      }
    }
  ]
}