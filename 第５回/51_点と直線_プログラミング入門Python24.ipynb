{
  "nbformat": 4,
  "nbformat_minor": 0,
  "metadata": {
    "colab": {
      "provenance": [],
      "collapsed_sections": [
        "WX4sRVO63me5",
        "FnSBdgK-Bwtz"
      ]
    },
    "kernelspec": {
      "name": "python3",
      "display_name": "Python 3"
    }
  },
  "cells": [
    {
      "cell_type": "markdown",
      "source": [
        "# 第5章 図形と統計"
      ],
      "metadata": {
        "id": "mHON3KhHJDNm"
      }
    },
    {
      "cell_type": "markdown",
      "source": [
        " * 左上の「ファイル」を開いて、「ドライブにコピーを保存」をしてください。\n",
        " * 自分のGoogleドライブに、そのファイルが保存されます。ファイル名は「のコピー」が、最後（右端）についています。それを利用して学習・演習を進めて下さい。"
      ],
      "metadata": {
        "id": "lm7oxHNx4rIf"
      }
    },
    {
      "cell_type": "markdown",
      "source": [
        "* 図形の書き方\n",
        "* 基本統計量の計算方法\n",
        "* 箱ひげ図\n",
        "* 相関分析の方法"
      ],
      "metadata": {
        "id": "pknONxnuROGy"
      }
    },
    {
      "cell_type": "markdown",
      "source": [
        "# 5.1 点と直線"
      ],
      "metadata": {
        "id": "ug3p4hhLUA9K"
      }
    },
    {
      "cell_type": "markdown",
      "source": [
        "Python では、図形を描く方法としてよく利用されている matplotlib を利用する。次のプログラムの冒頭のとおりにする。"
      ],
      "metadata": {
        "id": "VttYOkpSUIvH"
      }
    },
    {
      "cell_type": "markdown",
      "source": [
        "【プログラム5101】"
      ],
      "metadata": {
        "id": "oHlAhvF2MIEc"
      }
    },
    {
      "cell_type": "code",
      "source": [
        "# matplotlibというライブラリはグラフの描画をするためのものである\n",
        "# 実行すると、しばらくメッセージが表示される。\n",
        "import matplotlib.pyplot"
      ],
      "metadata": {
        "id": "zlsUEbRAoDfc"
      },
      "execution_count": null,
      "outputs": []
    },
    {
      "cell_type": "markdown",
      "source": [
        "### import モジュール名 as 新しい名前"
      ],
      "metadata": {
        "id": "sUDeUwfzsmjA"
      }
    },
    {
      "cell_type": "markdown",
      "source": [
        "このあとのプログラムで、matplotlib.pyplot と書く代わりに、plt と書いてもいいように、3行目に as という新しい名前の指定を追加する。\n",
        "\n"
      ],
      "metadata": {
        "id": "S4wBVtzEiEP2"
      }
    },
    {
      "cell_type": "markdown",
      "source": [
        "【プログラム5102】"
      ],
      "metadata": {
        "id": "Z7bkPALeML2j"
      }
    },
    {
      "cell_type": "code",
      "source": [
        "# matplotlibというライブラリはグラフの描画をするためのものである\n",
        "# 実行すると、しばらくメッセージが表示される。\n",
        "import matplotlib.pyplot as plt"
      ],
      "metadata": {
        "id": "eorB7zAQbGnm"
      },
      "execution_count": null,
      "outputs": []
    },
    {
      "cell_type": "markdown",
      "source": [
        "この指定をしないと、以降のプログラムの plt と書かれている部分は、すべて、matplotlib.pyplot と書かなければいけない。"
      ],
      "metadata": {
        "id": "vPSDiz4Os7Fh"
      }
    },
    {
      "cell_type": "markdown",
      "source": [
        "## 点と直線"
      ],
      "metadata": {
        "id": "17WN9nYhaSBe"
      }
    },
    {
      "cell_type": "markdown",
      "source": [
        "点を描くときは、2つのタプル（リストでもよい）に頂点（英語で vertex という）のx座標とy座標を、それぞれ並べておき、\n",
        "\n",
        "> plt.scatter(x座標のタプル, y座標のタプル, オプション）\n",
        "\n",
        "で設定し、\n",
        "> plt.show\n",
        "\n",
        "で描画する。実際に描画すると、その大きさは、見やすい適切な大きさに自動的に拡大・縮小される。"
      ],
      "metadata": {
        "id": "qPYrhzBiap1e"
      }
    },
    {
      "cell_type": "markdown",
      "source": [
        "【プログラム5103】"
      ],
      "metadata": {
        "id": "7lGoQ7x8MNWo"
      }
    },
    {
      "cell_type": "code",
      "source": [
        "# matplotlibというライブラリはグラフの描画をするためのものである\n",
        "# 実行すると、しばらくメッセージが表示される。\n",
        "import matplotlib.pyplot as plt\n",
        "\n",
        "# 2つのタプル（リストでもよい）を用意する\n",
        "vx = (1, 2, 3)\n",
        "vy = (2, 5, 4)\n",
        "\n",
        "plt.scatter(vx, vy) # 点を打つのは scatter\n",
        "plt.show()"
      ],
      "metadata": {
        "id": "3cwPZMwIaV5O"
      },
      "execution_count": null,
      "outputs": []
    },
    {
      "cell_type": "markdown",
      "source": [
        "直線を描くときは、scatterではなく plot を呼び出す。"
      ],
      "metadata": {
        "id": "ijcaPdW6beff"
      }
    },
    {
      "cell_type": "markdown",
      "source": [
        "【プログラム5104】"
      ],
      "metadata": {
        "id": "zhGMkdmDMOb5"
      }
    },
    {
      "cell_type": "code",
      "source": [
        "# matplotlibというライブラリはグラフの描画をするためのものである\n",
        "# 実行すると、しばらくメッセージが表示される。\n",
        "import matplotlib.pyplot as plt\n",
        "\n",
        "# 2つのタプル（リストでもよい）を用意する\n",
        "vx = (1, 2, 3)\n",
        "vy = (2, 5, 4)\n",
        "\n",
        "plt.plot(vx, vy) # 線を引くのは plot\n",
        "plt.show()"
      ],
      "metadata": {
        "id": "WXyj8ZEXbjQ9"
      },
      "execution_count": null,
      "outputs": []
    },
    {
      "cell_type": "markdown",
      "metadata": {
        "id": "At3g_McYcJR1"
      },
      "source": [
        "##散布図"
      ]
    },
    {
      "cell_type": "markdown",
      "source": [
        "点を使って描くことができる図である散布図を表示させる方法を以下に示す。\n",
        "これは気温とある製品の売上の関係を表すものである。"
      ],
      "metadata": {
        "id": "S2yJD5j_UeTF"
      }
    },
    {
      "cell_type": "markdown",
      "source": [
        "【プログラム5105】"
      ],
      "metadata": {
        "id": "j4rvDu1tMPma"
      }
    },
    {
      "cell_type": "code",
      "metadata": {
        "id": "JuhCzkbVjdPo"
      },
      "source": [
        "# matplotlibというライブラリはグラフの描画をするためのものである\n",
        "# 実行すると、しばらくメッセージが表示される。\n",
        "import matplotlib.pyplot as plt\n",
        "\n",
        "# 長さが等しい2つのタプルを用意する\n",
        "temperature = (21, 22, 24, 24, 27, 28, 29,\n",
        "               30, 32, 33, 33, 33, 35, 35, 37)\n",
        "sales = (4.3, 4.5, 4.3, 5.3, 4.9, 5.2, 5.6,\n",
        "         5, 5.7, 5.2, 5.9, 6.2, 6, 6.1, 7.1)\n",
        "\n",
        "plt.scatter(temperature, sales, marker=\"o\", color=\"brown\") # marker = \"o\" は、各点を丸で表すという設定。色は茶。\n",
        "plt.show()"
      ],
      "execution_count": null,
      "outputs": []
    },
    {
      "cell_type": "markdown",
      "source": [
        "このままではわかりにくいので、軸の名前を設定する。このとき、Pythonの標準状態では、日本語の漢字を取り扱うグラフを描くことができないので、別途、5行目と6行目でモジュールを読み込むようにしている。"
      ],
      "metadata": {
        "id": "cW1IbjXkjjye"
      }
    },
    {
      "cell_type": "markdown",
      "source": [
        "【プログラム5106】"
      ],
      "metadata": {
        "id": "7qNc8utfMRVE"
      }
    },
    {
      "cell_type": "code",
      "metadata": {
        "id": "99qilkBlcIvO"
      },
      "source": [
        "# matplotlibというライブラリはグラフの描画をするためのものである\n",
        "# 実行すると、しばらくメッセージが表示される。\n",
        "import matplotlib.pyplot as plt\n",
        "# japanize-matplotlib は、matplotlib のグラフで日本語の文字を使うためのものである。\n",
        "!pip install japanize-matplotlib\n",
        "import japanize_matplotlib\n",
        "\n",
        "# 長さが等しい2つのタプルを用意する\n",
        "temperature = (21, 22, 24, 24, 27, 28, 29,\n",
        "               30, 32, 33, 33, 33, 35, 35, 37)\n",
        "sales = (4.3, 4.5, 4.3, 5.3, 4.9, 5.2, 5.6,\n",
        "         5, 5.7, 5.2, 5.9, 6.2, 6, 6.1, 7.1)\n",
        "\n",
        "plt.scatter(temperature, sales, marker=\"x\", color=\"blue\") # marker = \"x\" は、各点をバツで表すという設定\n",
        "plt.xlabel(\"気温（度）\") # 横軸の名前\n",
        "plt.ylabel(\"売上（万円）\") # 縦軸の名前\n",
        "plt.show()"
      ],
      "execution_count": null,
      "outputs": []
    },
    {
      "cell_type": "markdown",
      "source": [
        "## 単純な折れ線グラフ"
      ],
      "metadata": {
        "id": "jeEEsHAbaMOA"
      }
    },
    {
      "cell_type": "markdown",
      "source": [
        "次のプログラムは、yの値が、0, 0, 1, 1.5, 1, 0 と変化するグラフである。\n",
        "なお、xの値が指定されていないので 0, 1, 2, 3, 4, 5 と仮定（暗黙の了解）されている。"
      ],
      "metadata": {
        "id": "XcN0H439aR73"
      }
    },
    {
      "cell_type": "markdown",
      "source": [
        "【プログラム5107】"
      ],
      "metadata": {
        "id": "V_MtcKZhMSdy"
      }
    },
    {
      "cell_type": "code",
      "source": [
        "# matplotlibというライブラリはグラフの描画をするためのものである。\n",
        "# 実行すると、しばらくメッセージが表示される。\n",
        "import matplotlib.pyplot as plt\n",
        "\n",
        "y = (0, 0, 1, 1.5, 1, 0)\n",
        "\n",
        "plt.plot(y, marker=\"^\") # marker = \"^\" は、各点を三角形で表すという設定\n",
        "plt.xlabel(\"X\")\n",
        "plt.ylabel(\"Y\")\n",
        "plt.show()"
      ],
      "metadata": {
        "id": "4xF9oah8aCT5"
      },
      "execution_count": null,
      "outputs": []
    },
    {
      "cell_type": "markdown",
      "metadata": {
        "id": "ARpjCrBjY8Yn"
      },
      "source": [
        "##折れ線グラフ"
      ]
    },
    {
      "cell_type": "markdown",
      "source": [
        "線を使って描くことができる図である折れ線グラフを表示させる方法を以下に示す。\n",
        "これは月ごとの気温の変化を表すグラフである。"
      ],
      "metadata": {
        "id": "f0FlwUh_W7MD"
      }
    },
    {
      "cell_type": "markdown",
      "source": [
        "【プログラム5108】"
      ],
      "metadata": {
        "id": "yghCM-OuMUCx"
      }
    },
    {
      "cell_type": "code",
      "metadata": {
        "id": "QxiJ8nZGZ-nD"
      },
      "source": [
        "# matplotlibというライブラリはグラフの描画をするためのものである。\n",
        "# 実行すると、しばらくメッセージが表示される。\n",
        "import matplotlib.pyplot as plt\n",
        "# japanize-matplotlib は、matplotlib のグラフで日本語の文字を使うためのものである。\n",
        "!pip install japanize-matplotlib\n",
        "import japanize_matplotlib\n",
        "\n",
        "month = (1, 2, 3, 4, 5, 6, 7, 8, 9, 10, 11, 12)\n",
        "temperature = (5, 6, 10, 16, 21, 23, 27, 27, 23, 17, 13, 8)\n",
        "\n",
        "plt.plot(month, temperature, marker=\"D\", color=\"green\") # marker = \"D\" は、各点を45度傾いた四角形（ダイヤ型）で表すという設定\n",
        "plt.xlabel(\"月\")\n",
        "plt.ylabel(\"気温（度）\")\n",
        "plt.show()"
      ],
      "execution_count": null,
      "outputs": []
    },
    {
      "cell_type": "markdown",
      "metadata": {
        "id": "JjCmrtzTYhbt"
      },
      "source": [
        "##棒グラフ"
      ]
    },
    {
      "cell_type": "markdown",
      "source": [
        "棒グラフを表示させる方法を以下に示す。これは果物の値段を表す棒グラフである。"
      ],
      "metadata": {
        "id": "4VWsmV2MXUsX"
      }
    },
    {
      "cell_type": "markdown",
      "source": [
        "【プログラム5109】"
      ],
      "metadata": {
        "id": "qTPqZ1CiMVfd"
      }
    },
    {
      "cell_type": "code",
      "metadata": {
        "id": "zaqakgRLfBlz"
      },
      "source": [
        "# matplotlibというライブラリはグラフの描画をするためのものである。\n",
        "# 実行すると、しばらくメッセージが表示される。\n",
        "import matplotlib.pyplot as plt\n",
        "# japanize-matplotlib は、matplotlib のグラフで日本語の文字を使うためのものである。\n",
        "!pip install japanize-matplotlib\n",
        "import japanize_matplotlib\n",
        "\n",
        "fruit = ('りんご', 'みかん', 'ぶどう')\n",
        "price = (100, 40, 300)\n",
        "colors = ('red', 'orange', 'magenta')\n",
        "\n",
        "plt.bar(fruit, price, color=colors) # 棒グラフは bar\n",
        "plt.xlabel(\"果物\") # 横軸の名前\n",
        "plt.ylabel(\"値段（円）\") # 縦軸の名前\n",
        "plt.show()"
      ],
      "execution_count": null,
      "outputs": []
    },
    {
      "cell_type": "markdown",
      "metadata": {
        "id": "7rqZa-LZY0D2"
      },
      "source": [
        "* 横軸は果物の名前、縦軸は値段とする。\n",
        "* plt.bar で棒グラフを描く。\n",
        "  * color= で色を指定するタプル colors を設定する。（しなくてもよい。）"
      ]
    },
    {
      "cell_type": "markdown",
      "source": [
        "## ヒストグラム"
      ],
      "metadata": {
        "id": "zBANyHPTra8P"
      }
    },
    {
      "cell_type": "markdown",
      "source": [
        "ヒストグラムは度数分析によく利用されるグラフである。データとして、2022年4月の千葉市の最高気温とした。"
      ],
      "metadata": {
        "id": "nwtxPfKArdNi"
      }
    },
    {
      "cell_type": "markdown",
      "source": [
        "【プログラム5110】"
      ],
      "metadata": {
        "id": "2YcbG1mGMWX9"
      }
    },
    {
      "cell_type": "code",
      "source": [
        "# matplotlibというライブラリはグラフの描画をするためのものである。\n",
        "# 実行すると、しばらくメッセージが表示される。\n",
        "import matplotlib.pyplot as plt\n",
        "# japanize-matplotlib は、matplotlib のグラフで日本語の文字を使うためのものである。\n",
        "!pip install japanize-matplotlib\n",
        "import japanize_matplotlib\n",
        "\n",
        "htemp = (11.1, 12.7, 12.6, 11.7, 16.7, 20.1, 17.7,\n",
        "        20.0, 22.0, 24.5, 22.3, 22.3, 23.8, 20.4,\n",
        "        11.8, 18.2, 16.9, 19.5, 19.2, 15.1, 20.2,\n",
        "        24.0, 26.6, 20.7, 25.9, 24.1, 24.3, 18.9,\n",
        "        16.6, 16.9)\n",
        "\n",
        "plt.hist(htemp, color=\"gray\", bins=8, range=(10, 35)) # range=(s, e) とすると、s から e の値のヒストグラムを作る\n",
        "plt.title(\"千葉市の最高温度の日数\") # グラフのタイトル\n",
        "plt.xlabel(\"温度\") # 横軸の名前\n",
        "plt.ylabel(\"日数\") # 縦軸の名前\n",
        "plt.show()"
      ],
      "metadata": {
        "id": "kHmpC62Prl9A"
      },
      "execution_count": null,
      "outputs": []
    },
    {
      "cell_type": "markdown",
      "source": [
        "### 確認問題"
      ],
      "metadata": {
        "id": "37IyQCnLs2iz"
      }
    },
    {
      "cell_type": "markdown",
      "source": [
        "1. 14行目の bins や range の値を変化させてみて、どのようなグラフになるか、確認せよ。\n",
        "2. ヒストグラムの書き方には様々なオプションがある。調べてみよ。"
      ],
      "metadata": {
        "id": "GyFwc6Q5s4MG"
      }
    },
    {
      "cell_type": "markdown",
      "source": [
        "# 次の教材\n",
        "\n",
        "5.2 数学的なグラフと図\n",
        "* https://colab.research.google.com/drive/1gc7QpvCDmY1gTLG9sDIJKIVWXYX2Zhbv"
      ],
      "metadata": {
        "id": "RQ_3bvzz21RT"
      }
    }
  ]
}