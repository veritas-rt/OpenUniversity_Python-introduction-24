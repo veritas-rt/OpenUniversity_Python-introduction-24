{
  "nbformat": 4,
  "nbformat_minor": 0,
  "metadata": {
    "colab": {
      "provenance": [],
      "collapsed_sections": [
        "WX4sRVO63me5",
        "FnSBdgK-Bwtz"
      ]
    },
    "kernelspec": {
      "name": "python3",
      "display_name": "Python 3"
    }
  },
  "cells": [
    {
      "cell_type": "markdown",
      "source": [
        "# 第5章 図形と統計"
      ],
      "metadata": {
        "id": "mHON3KhHJDNm"
      }
    },
    {
      "cell_type": "markdown",
      "source": [
        " * 左上の「ファイル」を開いて、「ドライブにコピーを保存」をしてください。\n",
        " * 自分のGoogleドライブに、そのファイルが保存されます。ファイル名は「のコピー」が、最後（右端）についています。それを利用して学習・演習を進めて下さい。"
      ],
      "metadata": {
        "id": "lm7oxHNx4rIf"
      }
    },
    {
      "cell_type": "markdown",
      "source": [
        "# 5.4 相関"
      ],
      "metadata": {
        "id": "uNjtEvncTRoQ"
      }
    },
    {
      "cell_type": "markdown",
      "source": [
        "## 相関係数"
      ],
      "metadata": {
        "id": "aQHeN2XwLfb1"
      }
    },
    {
      "cell_type": "markdown",
      "metadata": {
        "id": "OrFl13CLYikO"
      },
      "source": [
        "例えば、10人のグループの出席番号順のテストの点が 10, 30, 50, 60, 70, 70, 80, 80, 90, 100 であり、レポートの点が 3, 5, 6, 7, 8, 7, 9, 8, 9, 10 であったとする。これは、どのような関係にあるだろうか。\n",
        "\n",
        "まずは図示させる。matplotlib を利用する。\n"
      ]
    },
    {
      "cell_type": "markdown",
      "source": [
        "【プログラム5401】"
      ],
      "metadata": {
        "id": "MQ_Sjyj-YPgf"
      }
    },
    {
      "cell_type": "code",
      "metadata": {
        "id": "VkNWJB8JTc5r"
      },
      "source": [
        "# モジュール matplotlib は、図示のときに用いる\n",
        "import matplotlib.pyplot as plt\n",
        "\n",
        "testscore = (10, 30, 50, 60, 70, 70, 80, 80, 90, 100)\n",
        "reportscore = (3, 5, 6, 7, 8, 7, 9, 8, 9, 10)\n",
        "\n",
        "# pyplot.scatter は、散布図を描く\n",
        "plt.scatter(testscore, reportscore)"
      ],
      "execution_count": null,
      "outputs": []
    },
    {
      "cell_type": "markdown",
      "metadata": {
        "id": "r0rUAANAcsyK"
      },
      "source": [
        "グラフからは正の相関があるだろうという予想がつく。\n",
        "相関係数を求める。"
      ]
    },
    {
      "cell_type": "markdown",
      "source": [
        "【プログラム5402】"
      ],
      "metadata": {
        "id": "VkxCTsK4YTD2"
      }
    },
    {
      "cell_type": "code",
      "metadata": {
        "id": "dEOT0vXmcJuy"
      },
      "source": [
        "# numpy の相関係数を求める関数を利用する\n",
        "import numpy as np\n",
        "np.corrcoef(testscore, reportscore)"
      ],
      "execution_count": null,
      "outputs": []
    },
    {
      "cell_type": "markdown",
      "source": [
        "相関係数は2行2列の表の形で得られる。"
      ],
      "metadata": {
        "id": "Gaz_nctyPHCF"
      }
    },
    {
      "cell_type": "markdown",
      "source": [
        "### 確認問題　（確認問題の正答はありません。授業中に提示します）"
      ],
      "metadata": {
        "id": "H9aweAuzkY_n"
      }
    },
    {
      "cell_type": "markdown",
      "metadata": {
        "id": "d3Nqai5hOFI8"
      },
      "source": [
        "気象庁より取得した千葉市の2022年4月の1ヶ月の最高気温と日照時間のデータを用いて、散布図を書き、相関係数を求めよ。"
      ]
    },
    {
      "cell_type": "code",
      "metadata": {
        "id": "ArnNNrdtUKTJ"
      },
      "source": [
        "# モジュール matplotlib は、図示のときに用いる\n",
        "import matplotlib.pyplot as plt\n",
        "import numpy as np\n",
        "\n",
        "htemp = (11.1, 12.7, 12.6, 11.7, 16.7, 20.1, 17.7,\n",
        "        20.0, 22.0, 24.5, 22.3, 22.3, 23.8, 20.4,\n",
        "        11.8, 18.2, 16.9, 19.5, 19.2, 15.1, 20.2,\n",
        "        24.0, 26.6, 20.7, 25.9, 24.1, 24.3, 18.9,\n",
        "        16.6, 16.6)\n",
        "\n",
        "stime = (11.9, 12.4,  7.3,  1.9, 7.3,  0.0, 12.8, 11.0,  2.3,  4.2,\n",
        "          8.9,  3.9,  9.8, 12.7, 6.5,  0.0, 12.7,  0.0,  0.0,  0.0,\n",
        "          0.0,  0.4,  2.7,  8.3, 7.1,  0.2,  3.7,  4.8, 12.6,  9.5,\n",
        "        )\n",
        "\n",
        "# 以下各自"
      ],
      "execution_count": null,
      "outputs": []
    },
    {
      "cell_type": "markdown",
      "source": [
        "## seabornを利用した相関分析"
      ],
      "metadata": {
        "id": "MXa-FAobUAhJ"
      }
    },
    {
      "cell_type": "markdown",
      "source": [
        "箱ひげ図は、それぞれの項目の分布を知るために有効であるが、それぞれの項目の関連はわからない。\n",
        "いま、もとのデータが出席番号順であるとして、例えば、「数学が得意な生徒は英語も得意か？」「数学が得意な生徒は情報も得意か？」「英語が得意な生徒は情報も得意か？」ということを知るためには、それぞれの相関係数を求める必要がある。\n",
        "\n",
        "Python では、このような複数のデータの相関を求め、図示するために、seaborn というモジュールがあり、機能として、 corr という関数と、ヒートマップ、散布図行列という機能がある。また、pandas というモジュールはデータの処理を行うことができる。"
      ],
      "metadata": {
        "id": "08eivlsQUDh6"
      }
    },
    {
      "cell_type": "markdown",
      "source": [
        "【プログラム5403】"
      ],
      "metadata": {
        "id": "J5E4GAYIYUmi"
      }
    },
    {
      "cell_type": "code",
      "source": [
        "# matplotlibというライブラリはグラフの描画をするためのものである。\n",
        "# 実行すると、しばらくメッセージが表示される。\n",
        "import matplotlib.pyplot as plt\n",
        "# japanize-matplotlib は、matplotlib のグラフで日本語の文字を使うためのものである。\n",
        "!pip install japanize-matplotlib\n",
        "import japanize_matplotlib\n",
        "# seaborn は相関分析に用いる\n",
        "import seaborn as sns\n",
        "# pandas はデータフレームに用いる\n",
        "import pandas as pd\n",
        "\n",
        "# 科目名\n",
        "kamokumei_ja = ('数学', '英語', '情報')\n",
        "\n",
        "# 一人ひとりの、数学、英語、情報の 得点\n",
        "scores = (\n",
        "\t\t(77, 82, 90),\n",
        "    \t(92, 75, 90),\n",
        "        (12, 40, 20),\n",
        "        (27, 73, 22),\n",
        "        (84, 65, 25),\n",
        "        (95, 100, 81),\n",
        "        (28, 78, 66),\n",
        "        (60, 99, 78),\n",
        "        (38, 71, 45),\n",
        "        (6, 83, 100)\n",
        ")\n",
        "\n",
        "# データフレームを定義\n",
        "df = pd.DataFrame(scores, columns = kamokumei_ja)\n",
        "print(df)\n",
        "\n",
        "# 相関係数を表示\n",
        "print(df.corr(method = 'pearson'))\n",
        "\n",
        "# ヒートマップを表示\n",
        "corr_mat = df.corr(method = 'pearson')\n",
        "sns.heatmap(\n",
        "\tcorr_mat,\n",
        "\tcbar = True,\n",
        "\tsquare = True,\n",
        "\tvmin = -1.0,\n",
        "\tvmax =  1.0,\n",
        "\tcenter = 0,\n",
        "\tannot = True,\n",
        "\tannot_kws={'size':15},\n",
        "\tfmt='.2f',\n",
        "\txticklabels = corr_mat.columns.values,\n",
        "\tyticklabels = corr_mat.columns.values,\n",
        ")\n",
        "\n",
        "# 散布図行列を表示\n",
        "sns.pairplot(df)"
      ],
      "metadata": {
        "id": "jflnPaKC6URg"
      },
      "execution_count": null,
      "outputs": []
    },
    {
      "cell_type": "markdown",
      "source": [
        "元のデータが、受験者ごとのリストではなく、科目ごとのリストになっている場合は、転置（行と列を入れ替える）をすることでデータフレームを作ることができる。次のプログラムの24行目で、転置をしている。"
      ],
      "metadata": {
        "id": "YuJWvEug-sSK"
      }
    },
    {
      "cell_type": "markdown",
      "source": [
        "【プログラム5404】"
      ],
      "metadata": {
        "id": "S8J9y5RnYWGr"
      }
    },
    {
      "cell_type": "code",
      "source": [
        "# matplotlibというライブラリはグラフの描画をするためのものである。\n",
        "# 実行すると、しばらくメッセージが表示される。\n",
        "import matplotlib.pyplot as plt\n",
        "# japanize-matplotlib は、matplotlib のグラフで日本語の文字を使うためのものである。\n",
        "!pip install japanize-matplotlib\n",
        "import japanize_matplotlib\n",
        "# seaborn は相関分析に用いる\n",
        "import seaborn as sns\n",
        "# pandas はデータフレームに用いる\n",
        "import pandas as pd\n",
        "\n",
        "# 数学の点数\n",
        "math = (77, 92, 12, 27, 84, 95, 28, 60, 38, 6)\n",
        "# 英語の点数\n",
        "english = (82, 75, 40, 73, 65, 100, 78, 99, 71, 83)\n",
        "# 情報の点数\n",
        "informatics = (90, 90, 20, 22, 25, 81, 66, 78, 45, 100)\n",
        "\n",
        "# 科目名\n",
        "kamokumei = (math, english, informatics)\n",
        "kamokumei_ja = ('数学', '英語', '情報')\n",
        "\n",
        "# 元のデータを、「データフレーム」にする。このとき、行列の行と列を入れ替えるために、最後に\".T\"を付けている。\n",
        "df = pd.DataFrame(kamokumei, index = kamokumei_ja).T\n",
        "\n",
        "# データフレームを表示\n",
        "print(df)\n",
        "\n",
        "# 相関係数を表示\n",
        "print(df.corr(method = 'pearson'))\n",
        "\n",
        "# ヒートマップを表示\n",
        "corr_mat = df.corr(method = 'pearson')\n",
        "sns.heatmap(\n",
        "\tcorr_mat,\n",
        "\tcbar = True,\n",
        "\tsquare = True,\n",
        "\tvmin = -1.0,\n",
        "\tvmax =  1.0,\n",
        "\tcenter = 0,\n",
        "\tannot = True,\n",
        "\tannot_kws={'size':15},\n",
        "\tfmt='.2f',\n",
        "\txticklabels = corr_mat.columns.values,\n",
        "\tyticklabels = corr_mat.columns.values,\n",
        ")\n",
        "\n",
        "# 散布図行列を表示\n",
        "sns.pairplot(df)"
      ],
      "metadata": {
        "id": "lAb0HiUoL0tI"
      },
      "execution_count": null,
      "outputs": []
    },
    {
      "cell_type": "markdown",
      "source": [
        "### 確認問題　（確認問題の正答はありません。授業中に提示します）"
      ],
      "metadata": {
        "id": "AYGuPgUAVKYu"
      }
    },
    {
      "cell_type": "markdown",
      "source": [
        "1. 上記のプログラムを実行して、わかったことを述べよ。\n",
        "2. 上記のプログラムに追記して、例えば、物理の点数を加えて考察せよ。物理の点数として、以下のものを用いてもよいが、ダミーなのでいじってもかまわない。"
      ],
      "metadata": {
        "id": "mo01f6QnVM_O"
      }
    },
    {
      "cell_type": "code",
      "source": [
        "physics = (63, 79, 88, 6, 45, 26, 80, 82, 11, 86)"
      ],
      "metadata": {
        "id": "s-XrQ-zmXu7G"
      },
      "execution_count": null,
      "outputs": []
    },
    {
      "cell_type": "markdown",
      "source": [
        "## 研究問題（解答はありません。）"
      ],
      "metadata": {
        "id": "PzHA2_c0YH_x"
      }
    },
    {
      "cell_type": "markdown",
      "source": [
        "自らの周りのデータを、このようにして分析して、様々なことを発見しなさい。"
      ],
      "metadata": {
        "id": "JxiafwVAYNdx"
      }
    },
    {
      "cell_type": "markdown",
      "source": [
        "## データ分析のサンプル"
      ],
      "metadata": {
        "id": "iGUuuNEEVRzW"
      }
    },
    {
      "cell_type": "markdown",
      "source": [
        "Python のモジュール seaborn には、オーストラリアによる「ペンギン」の調査データが、サンプルデータとして提供されている。\n",
        "* ペンギンの種類 species\n",
        " * Gentoo(ジェンツーペンギン)\n",
        " * Chinstrap(ヒゲペンギン)\n",
        " * Adelie(アデリーペンギン)\n",
        "* island 島\n",
        "* bill_length（くちばしの長さ）, bill_depth(くちばしの太さ), flipper_length（翼の長さ）\n",
        "* bosy_mass(体重), sex（性別）"
      ],
      "metadata": {
        "id": "swXzXQQDVXmP"
      }
    },
    {
      "cell_type": "markdown",
      "source": [
        "【プログラム5405】"
      ],
      "metadata": {
        "id": "FWz7iNxMYYQ4"
      }
    },
    {
      "cell_type": "code",
      "source": [
        "# seaborn は相関分析に用いる\n",
        "import seaborn as sns\n",
        "# pandas はデータフレームに用いる\n",
        "import pandas as pd\n",
        "\n",
        "# データフレーム df を定義する\n",
        "df = sns.load_dataset('penguins')\n",
        "\n",
        "# データ数を表示\n",
        "print(len(df))\n",
        "print(\"\")\n",
        "\n",
        "# データの冒頭5件を表示\n",
        "print(df.head(5))\n",
        "\n",
        "# 散布図行列を表示\n",
        "sns.pairplot(df, hue='species')"
      ],
      "metadata": {
        "id": "BQ6LaEHIMyax"
      },
      "execution_count": null,
      "outputs": []
    },
    {
      "cell_type": "markdown",
      "source": [
        "### 確認問題　（確認問題の正答はありません。授業中に提示します）"
      ],
      "metadata": {
        "id": "XJ0rG14GWhDG"
      }
    },
    {
      "cell_type": "markdown",
      "source": [
        "上記のデータからわかったことを述べよ。"
      ],
      "metadata": {
        "id": "BOgJzEb5WizO"
      }
    }
  ]
}