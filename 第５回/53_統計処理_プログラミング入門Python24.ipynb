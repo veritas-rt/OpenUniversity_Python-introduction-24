{
  "nbformat": 4,
  "nbformat_minor": 0,
  "metadata": {
    "colab": {
      "provenance": [],
      "collapsed_sections": [
        "WX4sRVO63me5",
        "FnSBdgK-Bwtz"
      ]
    },
    "kernelspec": {
      "name": "python3",
      "display_name": "Python 3"
    }
  },
  "cells": [
    {
      "cell_type": "markdown",
      "source": [
        "# 第5章 図形と統計"
      ],
      "metadata": {
        "id": "mHON3KhHJDNm"
      }
    },
    {
      "cell_type": "markdown",
      "source": [
        " * 左上の「ファイル」を開いて、「ドライブにコピーを保存」をしてください。\n",
        " * 自分のGoogleドライブに、そのファイルが保存されます。ファイル名は「のコピー」が、最後（右端）についています。それを利用して学習・演習を進めて下さい。"
      ],
      "metadata": {
        "id": "lm7oxHNx4rIf"
      }
    },
    {
      "cell_type": "markdown",
      "metadata": {
        "id": "hOZ8y83ZK-cN"
      },
      "source": [
        "# 5.3 統計処理"
      ]
    },
    {
      "cell_type": "markdown",
      "metadata": {
        "id": "Yi_ben4Ww8qx"
      },
      "source": [
        "統計処理では、NumPyを利用する。最初に、import 文で、NumPy を np という名前で利用できるようにしておく。（このあとのプログラム、すべて、これを前提で動く。）"
      ]
    },
    {
      "cell_type": "markdown",
      "source": [
        "【プログラム5301】"
      ],
      "metadata": {
        "id": "Cf8_G90yMwdy"
      }
    },
    {
      "cell_type": "code",
      "metadata": {
        "id": "Qe3rtsORNv88"
      },
      "source": [
        "# まず最初に、この行を実行しておく\n",
        "import numpy as np"
      ],
      "execution_count": null,
      "outputs": []
    },
    {
      "cell_type": "markdown",
      "metadata": {
        "id": "ysC_XkuuO2vt"
      },
      "source": [
        "プログラムの挙動を確認しやすいように、データも用意しておく。ここでは、 5 を 2 つ並べた。\n",
        "\n"
      ]
    },
    {
      "cell_type": "markdown",
      "source": [
        "【プログラム5302】"
      ],
      "metadata": {
        "id": "J2vuEJuZMzd9"
      }
    },
    {
      "cell_type": "code",
      "metadata": {
        "id": "JO1pQVU0O8Ko"
      },
      "source": [
        "# 次の行も実行しておく\n",
        "a = (1, 2, 3, 4, 5, 5, 6, 7, 8, 9, 10)"
      ],
      "execution_count": null,
      "outputs": []
    },
    {
      "cell_type": "markdown",
      "metadata": {
        "id": "OEop8pCcNyZs"
      },
      "source": [
        "##基本的な関数\n",
        "いくつかの基本的な関数について、実行しながら確認する。"
      ]
    },
    {
      "cell_type": "markdown",
      "metadata": {
        "id": "vhS_SPxmP0fu"
      },
      "source": [
        "###最大値と最小値"
      ]
    },
    {
      "cell_type": "markdown",
      "source": [
        "【プログラム5303】"
      ],
      "metadata": {
        "id": "WzhJy9NUM1HI"
      }
    },
    {
      "cell_type": "code",
      "metadata": {
        "id": "RdBTSm9uQBp-"
      },
      "source": [
        "print(np.max(a))"
      ],
      "execution_count": null,
      "outputs": []
    },
    {
      "cell_type": "markdown",
      "source": [
        "【プログラム5304】"
      ],
      "metadata": {
        "id": "5IYY361pM2iE"
      }
    },
    {
      "cell_type": "code",
      "metadata": {
        "id": "hVDQms4dQD-K"
      },
      "source": [
        "print(np.min(a))"
      ],
      "execution_count": null,
      "outputs": []
    },
    {
      "cell_type": "markdown",
      "metadata": {
        "id": "5qVU1alzQjgw"
      },
      "source": [
        "###和"
      ]
    },
    {
      "cell_type": "markdown",
      "source": [
        "【プログラム5305】"
      ],
      "metadata": {
        "id": "N5Q1wsGlM3hk"
      }
    },
    {
      "cell_type": "code",
      "metadata": {
        "id": "lWYTXgHOQiVh"
      },
      "source": [
        "print(np.sum(a))"
      ],
      "execution_count": null,
      "outputs": []
    },
    {
      "cell_type": "markdown",
      "metadata": {
        "id": "_wfeM7YiXneu"
      },
      "source": [
        "###平均と中央値"
      ]
    },
    {
      "cell_type": "markdown",
      "source": [
        "【プログラム5306】"
      ],
      "metadata": {
        "id": "jcCvAFafM4fy"
      }
    },
    {
      "cell_type": "code",
      "metadata": {
        "id": "Ucl8T6KaP1F3"
      },
      "source": [
        "print(np.mean(a))"
      ],
      "execution_count": null,
      "outputs": []
    },
    {
      "cell_type": "markdown",
      "source": [
        "【プログラム5307】"
      ],
      "metadata": {
        "id": "uZxgnvw1M5kR"
      }
    },
    {
      "cell_type": "code",
      "metadata": {
        "id": "1SnJgDg3W4E1"
      },
      "source": [
        "print(np.median(a))"
      ],
      "execution_count": null,
      "outputs": []
    },
    {
      "cell_type": "markdown",
      "source": [
        "### 分散と標準偏差"
      ],
      "metadata": {
        "id": "UMO3WR7z6yCX"
      }
    },
    {
      "cell_type": "markdown",
      "source": [
        "【プログラム5308】"
      ],
      "metadata": {
        "id": "LxppjgfdM66S"
      }
    },
    {
      "cell_type": "code",
      "source": [
        "# 分散は、var を用いる\n",
        "print(np.var(a))"
      ],
      "metadata": {
        "id": "V4M6nkWO60fC"
      },
      "execution_count": null,
      "outputs": []
    },
    {
      "cell_type": "markdown",
      "source": [
        "【プログラム5309】"
      ],
      "metadata": {
        "id": "KMffapdXM748"
      }
    },
    {
      "cell_type": "code",
      "source": [
        "# 標準偏差は、std を用いる\n",
        "print(np.std(a))"
      ],
      "metadata": {
        "id": "IMT3zLbn7Ajx"
      },
      "execution_count": null,
      "outputs": []
    },
    {
      "cell_type": "markdown",
      "source": [
        "### 確認問題　（確認問題の正答はありません。授業中に提示します）"
      ],
      "metadata": {
        "id": "Bv2pJnlO4mOd"
      }
    },
    {
      "cell_type": "markdown",
      "source": [
        "乱数を使ったデータを利用して、それらのデータの最大値、最小値、和、平均、中央値を求めよ。"
      ],
      "metadata": {
        "id": "IwtZJkQ54pw1"
      }
    },
    {
      "cell_type": "code",
      "source": [
        "import numpy as np\n",
        "import random as rd #動作テスト用に乱数ライブラリを使うので、先に宣言しておく\n",
        "min_r, max_r = 0, 999\n",
        "\n",
        "# データの個数は 10個以上 20個以下とする\n",
        "kosu = rd.randint(10, 20)\n",
        "\n",
        "# 乱数 randint で定まった値をリストのそれぞれに入れる\n",
        "narabi = [rd.randint(min_r, max_r) for _ in range(kosu)]\n",
        "\n",
        "# 以下各自"
      ],
      "metadata": {
        "id": "31zevzT34oaS"
      },
      "execution_count": null,
      "outputs": []
    },
    {
      "cell_type": "markdown",
      "metadata": {
        "id": "J_-WgAxZYJ2N"
      },
      "source": [
        "##データの順位\n"
      ]
    },
    {
      "cell_type": "markdown",
      "source": [
        "例えば、あるグループで実施した50m走の時間を fiftymetertime というタプルに代入しておく。このとき、それぞれの順位を知る方法として、 scipy.stats というパッケージにある rankdata というモジュールを利用する。\n",
        "\n",
        "同じデータが複数ある場合は、順位は平均で表される。（例えば、4位が2人なら、4.5位となる。）"
      ],
      "metadata": {
        "id": "LgguUt4SBgIB"
      }
    },
    {
      "cell_type": "markdown",
      "source": [
        "【プログラム5310】"
      ],
      "metadata": {
        "id": "_uHgnMhkM-Sb"
      }
    },
    {
      "cell_type": "code",
      "metadata": {
        "id": "aehSl7KwcgU4"
      },
      "source": [
        "# rankdata というモジュールを利用するが、それの在り処 scipy.stat も指定している\n",
        "from scipy.stats import rankdata\n",
        "\n",
        "fiftymetertime = (\n",
        "    6.21, 8.19, 5.99, 7.15, 8.20, 7.22, 7.15, 7.57, 7.90, 8.23, 6.25, 9.18\n",
        "    )\n",
        "\n",
        "print(rankdata(fiftymetertime))"
      ],
      "execution_count": null,
      "outputs": []
    },
    {
      "cell_type": "markdown",
      "metadata": {
        "id": "ywWyar8jaPKb"
      },
      "source": [
        "特定のタイムが何位に相当するかも調べることができる。\n",
        "例えば5.99が何位に相当するか知りたいならば、左から3番目なので以下のxの値に3を代入すると、何位か表示できる。xの値を変えれば、別のタイムの順位についても知ることができる。"
      ]
    },
    {
      "cell_type": "markdown",
      "source": [
        "【プログラム5311】"
      ],
      "metadata": {
        "id": "Eac3B4kGM_1l"
      }
    },
    {
      "cell_type": "code",
      "metadata": {
        "id": "Nth2Y6Q_ZHJu"
      },
      "source": [
        "# rankdata というモジュールを利用するが、それの在り処 scipy.stat も指定している\n",
        "from scipy.stats import rankdata\n",
        "\n",
        "x = 3\n",
        "\n",
        "fiftymetertime = (\n",
        "    6.21, 8.19, 5.99, 7.15, 8.20, 7.22, 7.15, 7.57, 7.90, 8.23, 6.25, 9.18\n",
        "    )\n",
        "\n",
        "jun_i = rankdata(fiftymetertime)\n",
        "\n",
        "print(\"タイムは\", fiftymetertime[x - 1])\n",
        "print(\"順位は\", jun_i[x - 1])"
      ],
      "execution_count": null,
      "outputs": []
    },
    {
      "cell_type": "markdown",
      "source": [
        "## 箱ひげ図"
      ],
      "metadata": {
        "id": "VRkPrJA2T8C5"
      }
    },
    {
      "cell_type": "markdown",
      "source": [
        "箱ひげ図は、統計的なデータを分析するときに、よく利用される図の一つである。Pythonでは、boxplot を利用することで、簡単に箱ひげ図を描くことができる。\n",
        "\n",
        "ここでは、数学、英語、情報の各教科の試験の点数が、タプル（リストでも可）に並んでいると仮定して、その分布の箱ひげ図を描いている。"
      ],
      "metadata": {
        "id": "Ro51dcjJTXzK"
      }
    },
    {
      "cell_type": "markdown",
      "source": [
        "【プログラム5312】"
      ],
      "metadata": {
        "id": "KI5ZPYG5NAyD"
      }
    },
    {
      "cell_type": "code",
      "execution_count": null,
      "metadata": {
        "id": "4OYua4fcIbfb"
      },
      "outputs": [],
      "source": [
        "# matplotlibというライブラリはグラフの描画をするためのものである。\n",
        "# 実行すると、しばらくメッセージが表示される。\n",
        "import matplotlib.pyplot as plt\n",
        "# japanize-matplotlib は、matplotlib のグラフで日本語の文字を使うためのものである。\n",
        "!pip install japanize-matplotlib\n",
        "import japanize_matplotlib\n",
        "\n",
        "# 数学の点数\n",
        "math = (77, 92, 12, 27, 64, 45, 28, 20, 38, 26)\n",
        "# 英語の点数\n",
        "english = (82, 75, 40, 73, 65, 100, 78, 99, 71, 83)\n",
        "# 情報の点数\n",
        "informatics = (30, 90, 20, 22, 45, 81, 66, 78, 45, 100)\n",
        "\n",
        "kamokumei_en = (math, english, informatics)\n",
        "kamokumei_ja = ('数学', '英語', '情報')\n",
        "\n",
        "# 箱ひげ図\n",
        "fig, ax = plt.subplots()\n",
        "\n",
        "bp = ax.boxplot(kamokumei_en)\n",
        "ax.set_xticklabels(kamokumei_ja)\n",
        "\n",
        "plt.title('得点')\n",
        "plt.grid()\n",
        "plt.show()"
      ]
    },
    {
      "cell_type": "markdown",
      "source": [
        "### 研究問題　（確認問題の正答はありません。授業中に提示します）"
      ],
      "metadata": {
        "id": "OsDNGFtB6FKS"
      }
    },
    {
      "cell_type": "markdown",
      "source": [
        "生徒一人ひとりの、数学、英語、情報の点数が、次の形式で得られているとする。このとき、各教科の得点の箱ひげ図を作成せよ。"
      ],
      "metadata": {
        "id": "uKD6IpeA6G-8"
      }
    },
    {
      "cell_type": "code",
      "source": [
        "# 一人ひとりの、数学、英語、情報の 得点\n",
        "scores = (\n",
        "    (77, 82, 90),\n",
        "    (92, 75, 90),\n",
        "    (12, 40, 20),\n",
        "    (27, 73, 22),\n",
        "    (84, 65, 45),\n",
        "    (95, 100, 81),\n",
        "    (28, 78, 66),\n",
        "    (60, 99, 78),\n",
        "    (38, 71, 45),\n",
        "    (6, 83, 100)\n",
        "    )"
      ],
      "metadata": {
        "id": "gJl8qr4C6PlQ"
      },
      "execution_count": null,
      "outputs": []
    },
    {
      "cell_type": "markdown",
      "source": [
        "# 次の教材\n",
        "\n",
        "5.4 相関\n",
        "* https://colab.research.google.com/drive/1JCySqKP64kd-w3EkXbBg0eH95vw7xV7q"
      ],
      "metadata": {
        "id": "QpTjzevQNJgL"
      }
    }
  ]
}