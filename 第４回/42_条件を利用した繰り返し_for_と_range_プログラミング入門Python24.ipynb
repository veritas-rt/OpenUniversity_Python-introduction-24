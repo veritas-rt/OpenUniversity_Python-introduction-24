{
  "nbformat": 4,
  "nbformat_minor": 0,
  "metadata": {
    "colab": {
      "provenance": [],
      "collapsed_sections": [
        "WX4sRVO63me5",
        "FnSBdgK-Bwtz"
      ]
    },
    "kernelspec": {
      "name": "python3",
      "display_name": "Python 3"
    }
  },
  "cells": [
    {
      "cell_type": "markdown",
      "source": [
        "# 第4章 繰り返し、インデントスタイル、乱数"
      ],
      "metadata": {
        "id": "7SWNgBsl_LPC"
      }
    },
    {
      "cell_type": "markdown",
      "source": [
        " * 左上の「ファイル」を開いて、「ドライブにコピーを保存」をしてください。\n",
        " * 自分のGoogleドライブに、そのファイルが保存されます。ファイル名は「のコピー」が、最後（右端）についています。それを利用して学習・演習を進めて下さい。"
      ],
      "metadata": {
        "id": "lm7oxHNx4rIf"
      }
    },
    {
      "cell_type": "markdown",
      "metadata": {
        "id": "8P88uIOzvNAo"
      },
      "source": [
        "# 4.2 条件を利用した繰り返し for と range"
      ]
    },
    {
      "cell_type": "markdown",
      "metadata": {
        "id": "0PRARGTf8__2"
      },
      "source": [
        "同じことを複数回行うプログラムを考える。次のプログラムは、for を使わずに、文字列 \"*\" を5回表示して、最後に空列を表示して改行する。"
      ]
    },
    {
      "cell_type": "markdown",
      "source": [
        "【プログラム4201】"
      ],
      "metadata": {
        "id": "nKMKo_QPyGwO"
      }
    },
    {
      "cell_type": "code",
      "metadata": {
        "id": "LAaJqlAR8u4U"
      },
      "source": [
        "print(\"*\", end=\"\") # * を表示して改行しない\n",
        "print(\"*\", end=\"\") # * を表示して改行しない\n",
        "print(\"*\", end=\"\") # * を表示して改行しない\n",
        "print(\"*\", end=\"\") # * を表示して改行しない\n",
        "print(\"*\", end=\"\") # * を表示して改行しない\n",
        "print(\"\") # 改行する"
      ],
      "execution_count": null,
      "outputs": []
    },
    {
      "cell_type": "markdown",
      "source": [
        "上のプログラムの1行目から5行目は、同じ作業の繰り返しである。これを、 for を利用して記述することができる。\n",
        "\n",
        "まず、for を使う行は次のとおりになる。"
      ],
      "metadata": {
        "id": "3sg-q0SUfmlI"
      }
    },
    {
      "cell_type": "markdown",
      "source": [
        "> for i in range(5):"
      ],
      "metadata": {
        "id": "jqTTmh7Jg4mQ"
      }
    },
    {
      "cell_type": "markdown",
      "source": [
        "* 繰り返し回数を数える変数名に i を利用した。これは、「添字」の英語 index （インデックス）の頭文字である。\n",
        "  * i でなくてもいい。\n",
        "* 繰り返し回数を指定する range\n",
        "\n",
        "range(5) と書くと、i=0, 1, 2, 3, 4 と、合計で5回繰り返すことになる。この range をイテレーター（イテラブルオブジェクト）という。(iterator、繰り返し）"
      ],
      "metadata": {
        "id": "i0tqsjupgE5U"
      }
    },
    {
      "cell_type": "markdown",
      "source": [
        "【プログラム4202】"
      ],
      "metadata": {
        "id": "HlbAIeXlyJAs"
      }
    },
    {
      "cell_type": "code",
      "metadata": {
        "id": "wLp51ASx9P1B"
      },
      "source": [
        "# range を使った繰り返し\n",
        "for i in range(5):\n",
        "    print(\"*\", end=\"\")\n",
        "print(\"\")"
      ],
      "execution_count": null,
      "outputs": []
    },
    {
      "cell_type": "markdown",
      "source": [
        "なお、 range の型は、「レンジ型」となる。"
      ],
      "metadata": {
        "id": "xaN10CpGCP_m"
      }
    },
    {
      "cell_type": "markdown",
      "source": [
        "【プログラム4203】"
      ],
      "metadata": {
        "id": "9zUROZT8yJ8W"
      }
    },
    {
      "cell_type": "code",
      "source": [
        "a = range(10)\n",
        "print(type(a))"
      ],
      "metadata": {
        "id": "IA9DEuC_CTRe"
      },
      "execution_count": null,
      "outputs": []
    },
    {
      "cell_type": "markdown",
      "source": [
        "### カウンター（計数用変数）の利用"
      ],
      "metadata": {
        "id": "8DcsUuJImE0P"
      }
    },
    {
      "cell_type": "markdown",
      "metadata": {
        "id": "C0i5iq6twxMd"
      },
      "source": [
        "for で利用する変数は、ブロックの中で利用することができる。（ブロックの外でも利用できるが、推奨されない。）\n",
        "\n",
        "* 1行目：for のあとに変数名を書くと、その変数にさまざまな値を代入して、直後のブロック全体を実行する。 range(7) は、 0 から 6 までの 7 個の数を表している。"
      ]
    },
    {
      "cell_type": "markdown",
      "source": [
        "【プログラム4204】"
      ],
      "metadata": {
        "id": "Olhu-4cTyLBX"
      }
    },
    {
      "cell_type": "code",
      "metadata": {
        "id": "yFzFAM61vnGv"
      },
      "source": [
        "for i in range(7):\n",
        "    print(i)"
      ],
      "execution_count": null,
      "outputs": []
    },
    {
      "cell_type": "markdown",
      "source": [
        "for のあとの変数名を、ブロックの外で利用しにくいように、あえて、特別な名前の変数名にすることがある。"
      ],
      "metadata": {
        "id": "jDg9Cbj7mLxY"
      }
    },
    {
      "cell_type": "markdown",
      "source": [
        "【プログラム4205】"
      ],
      "metadata": {
        "id": "TQW3dilgyL4D"
      }
    },
    {
      "cell_type": "code",
      "source": [
        "for _ in range(7): # アンダースコア _ という名前の変数を利用している\n",
        "    print(\"ohayo\")"
      ],
      "metadata": {
        "id": "zqTg8ZQbmUKW"
      },
      "execution_count": null,
      "outputs": []
    },
    {
      "cell_type": "markdown",
      "source": [
        "## ブロックと、range"
      ],
      "metadata": {
        "id": "x5C905Zij-4v"
      }
    },
    {
      "cell_type": "markdown",
      "metadata": {
        "id": "LvxHy7Zcz8uH"
      },
      "source": [
        "次のプログラムでは、ブロックは2行目のみである。\n",
        "\n",
        "* 1行目の for で繰返し実行される命令が、2行目のみである。\n",
        "* 2行目は3回実行されるが、3行目は1回しか実行されない。\n",
        "* （C言語に慣れている人への注意）3行目の「おやすみ」の右に表示される値は、C言語などと違う。"
      ]
    },
    {
      "cell_type": "markdown",
      "source": [
        "【プログラム4206】"
      ],
      "metadata": {
        "id": "aJXd8z8fyM3M"
      }
    },
    {
      "cell_type": "code",
      "metadata": {
        "id": "VSEGzbEo0CN7"
      },
      "source": [
        "for i in range(3):\n",
        "    print(\"おはよう\", i)\n",
        "print(\"おやすみ\", i)"
      ],
      "execution_count": null,
      "outputs": []
    },
    {
      "cell_type": "markdown",
      "metadata": {
        "id": "KOE2jKaXy3eW"
      },
      "source": [
        "次のプログラムでは、2行目と3行目がブロックとなる。\n",
        "* 1行目の for で繰返し実行される命令が、2行目と3行目であり、ともに 3回実行される。"
      ]
    },
    {
      "cell_type": "markdown",
      "source": [
        "【プログラム4207】"
      ],
      "metadata": {
        "id": "j9KOgzamyOBz"
      }
    },
    {
      "cell_type": "code",
      "metadata": {
        "id": "wxGuOGfsy9ZB"
      },
      "source": [
        "for i in range(3):\n",
        "    print(\"おはよう\", i)\n",
        "    print(\"おやすみ\", i)"
      ],
      "execution_count": null,
      "outputs": []
    },
    {
      "cell_type": "markdown",
      "source": [
        "なお、ブロックの中にあるコメント行と空行は無視されるので気軽に使ってよい。"
      ],
      "metadata": {
        "id": "h0_PsVMOGr6q"
      }
    },
    {
      "cell_type": "markdown",
      "source": [
        "【プログラム4208】"
      ],
      "metadata": {
        "id": "tHSuIMmXyPJK"
      }
    },
    {
      "cell_type": "code",
      "metadata": {
        "id": "5j0Fvwy2w8Fi"
      },
      "source": [
        "for i in range(3):\n",
        "    print(\"おはよう\", i)\n",
        "# 昼\n",
        "    print(\"こんにちは\", i)\n",
        "\n",
        "    print(\"おやすみ\", i)"
      ],
      "execution_count": null,
      "outputs": []
    },
    {
      "cell_type": "markdown",
      "source": [
        "### 確認問題　（確認問題の正答はありません。授業中に提示します）"
      ],
      "metadata": {
        "id": "SXJ63xCpw6o5"
      }
    },
    {
      "cell_type": "markdown",
      "source": [
        "次のように表示するように、その下のプログラムを改造せよ。\n",
        "> おはよう<br>\n",
        "> おはよう<br>\n",
        "> おはよう<br>\n",
        "> おやすみ<br>\n",
        "> おやすみ<br>\n",
        "> おやすみ\n"
      ],
      "metadata": {
        "id": "c5WDsEIGVFg3"
      }
    },
    {
      "cell_type": "code",
      "source": [
        "for i in range(3):\n",
        "    print(\"おはよう\")\n",
        "    print(\"おやすみ\")"
      ],
      "metadata": {
        "id": "KC3PpjhWVUE3"
      },
      "execution_count": null,
      "outputs": []
    },
    {
      "cell_type": "markdown",
      "source": [
        "## ネスト と range"
      ],
      "metadata": {
        "id": "GPTV0rJwslHA"
      }
    },
    {
      "cell_type": "markdown",
      "source": [
        "次のプログラムは、すでに示したプログラムの再掲である。"
      ],
      "metadata": {
        "id": "Lond3kUKkFYP"
      }
    },
    {
      "cell_type": "markdown",
      "source": [
        "【プログラム4209】"
      ],
      "metadata": {
        "id": "TmCkSnQayQKi"
      }
    },
    {
      "cell_type": "code",
      "metadata": {
        "id": "Hdykj-9HkBiH"
      },
      "source": [
        "# range を使った繰り返し\n",
        "for i in range(5):\n",
        "    print(\"*\", end=\"\")\n",
        "print(\"\")"
      ],
      "execution_count": null,
      "outputs": []
    },
    {
      "cell_type": "markdown",
      "metadata": {
        "id": "50Qy8Zdi9vXV"
      },
      "source": [
        "これ全体をひとつのブロックとして捉え、それを5回繰り返すと、正方形状に文字を並べることができる。つまり、j=0,1,2,3,4 の合計5回、上のプログラムを実行する。次のプログラムの3行目から6行目は、上のプログラムの1行目から4行目が、すべて、4文字分、字下げされたものになる。"
      ]
    },
    {
      "cell_type": "markdown",
      "source": [
        "【プログラム4210】"
      ],
      "metadata": {
        "id": "3D_Eq4mJyRJ0"
      }
    },
    {
      "cell_type": "code",
      "metadata": {
        "id": "0CZcb7xG93lV"
      },
      "source": [
        "# range を使った繰り返し\n",
        "for j in range(5):\n",
        "    # range を使った繰り返し\n",
        "    for i in range(5):\n",
        "        print(\"*\", end=\"\")\n",
        "    print(\"\")"
      ],
      "execution_count": null,
      "outputs": []
    },
    {
      "cell_type": "markdown",
      "source": [
        "## ブロックのネストの際の字下げ文字数"
      ],
      "metadata": {
        "id": "RcUH4aNbs2xs"
      }
    },
    {
      "cell_type": "markdown",
      "source": [
        "ブロックのなかにブロックを入れるときは、インデントを大きくする。\n",
        "\n",
        "通常は、「4文字、8文字、12文字、16文字」と字下げするが、「2文字、4文字、6文字、8文字」と字下げしていく人もいる。（「8文字、16文字、24文字」と字下げする人もいる。）"
      ],
      "metadata": {
        "id": "vW3Gjl2Ws2xu"
      }
    },
    {
      "cell_type": "markdown",
      "source": [
        "【プログラム4211】"
      ],
      "metadata": {
        "id": "RfNeh6zkySrf"
      }
    },
    {
      "cell_type": "code",
      "source": [
        "for i in range(3):\n",
        "  for j in range(3):\n",
        "    for k in range(3):\n",
        "      print(i, j, k)"
      ],
      "metadata": {
        "id": "y5lzHmIWs2xu"
      },
      "execution_count": null,
      "outputs": []
    },
    {
      "cell_type": "markdown",
      "source": [
        "【プログラム4212】"
      ],
      "metadata": {
        "id": "EmpuA1T0yT7_"
      }
    },
    {
      "cell_type": "code",
      "source": [
        "for i in range(3):\n",
        "    for j in range(3):\n",
        "        for k in range(3):\n",
        "            print(i, j, k)"
      ],
      "metadata": {
        "id": "KvjWHBo0s2xu"
      },
      "execution_count": null,
      "outputs": []
    },
    {
      "cell_type": "markdown",
      "source": [
        "【プログラム4213】"
      ],
      "metadata": {
        "id": "Era_1QbNyU_4"
      }
    },
    {
      "cell_type": "code",
      "source": [
        "for i in range(3):\n",
        "        for j in range(3):\n",
        "                for k in range(3):\n",
        "                        print(i, j, k)"
      ],
      "metadata": {
        "id": "4XVmXAsJs2xu"
      },
      "execution_count": null,
      "outputs": []
    },
    {
      "cell_type": "markdown",
      "metadata": {
        "id": "s4WwlPSbs2xu"
      },
      "source": [
        "### 確認問題"
      ]
    },
    {
      "cell_type": "markdown",
      "metadata": {
        "id": "a1ouP65_s2xu"
      },
      "source": [
        "(1) 次のプログラムはどのように動作するか。よく考えた上で、実行してみて、そのとおりになったかどうかを確認せよ。"
      ]
    },
    {
      "cell_type": "code",
      "metadata": {
        "id": "LQe5MoFOs2xv"
      },
      "source": [
        "for j in range(10):\n",
        "    for i in range(j):\n",
        "        print('a', end=\"\")\n",
        "    print(\"\")"
      ],
      "execution_count": null,
      "outputs": []
    },
    {
      "cell_type": "markdown",
      "metadata": {
        "id": "dlPNDmIds2xv"
      },
      "source": [
        "(2) 次のプログラムはどのように動作するか。よく考えた上で、実行してみて、そのとおりになったかどうかを確認せよ。"
      ]
    },
    {
      "cell_type": "code",
      "metadata": {
        "id": "3CLs-WG9s2xv"
      },
      "source": [
        "for j in range(10):\n",
        "    for i in range(j * j):\n",
        "        print('a', end=\"\")\n",
        "    print(\"\")"
      ],
      "execution_count": null,
      "outputs": []
    },
    {
      "cell_type": "markdown",
      "source": [
        "### 確認問題　（確認問題の正答はありません。授業中に提示します）"
      ],
      "metadata": {
        "id": "KYgrvPqml_P0"
      }
    },
    {
      "cell_type": "markdown",
      "source": [
        "次のプログラムを見て、どのように表示されるか予想してから、実行して確認せよ。"
      ],
      "metadata": {
        "id": "GQnD_yBes4ey"
      }
    },
    {
      "cell_type": "code",
      "source": [
        "for j in range(5):\n",
        "    for i in range(5):\n",
        "        print(i + j, \" \", end=\"\")\n",
        "    print(\"\")"
      ],
      "metadata": {
        "id": "IOOv0JaXs9aL"
      },
      "execution_count": null,
      "outputs": []
    },
    {
      "cell_type": "markdown",
      "source": [
        "# 次の教材\n",
        "4.3 range のバリエーション\n",
        "* https://colab.research.google.com/drive/1U9tBFSVUdJRMFNJ2EjbR9MYhhOELlKO6"
      ],
      "metadata": {
        "id": "VjCAVv72VCz4"
      }
    }
  ]
}