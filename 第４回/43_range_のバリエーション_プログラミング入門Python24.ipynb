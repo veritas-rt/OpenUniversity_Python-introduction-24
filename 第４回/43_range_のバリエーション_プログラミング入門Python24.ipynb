{
  "nbformat": 4,
  "nbformat_minor": 0,
  "metadata": {
    "colab": {
      "provenance": [],
      "collapsed_sections": [
        "WX4sRVO63me5",
        "FnSBdgK-Bwtz"
      ]
    },
    "kernelspec": {
      "name": "python3",
      "display_name": "Python 3"
    }
  },
  "cells": [
    {
      "cell_type": "markdown",
      "source": [
        "# 第4章 繰り返し、インデントスタイル、乱数"
      ],
      "metadata": {
        "id": "ONuCp9h5_MmR"
      }
    },
    {
      "cell_type": "markdown",
      "source": [
        " * 左上の「ファイル」を開いて、「ドライブにコピーを保存」をしてください。\n",
        " * 自分のGoogleドライブに、そのファイルが保存されます。ファイル名は「のコピー」が、最後（右端）についています。それを利用して学習・演習を進めて下さい。"
      ],
      "metadata": {
        "id": "lm7oxHNx4rIf"
      }
    },
    {
      "cell_type": "markdown",
      "source": [
        "# 4.3 range のバリエーション"
      ],
      "metadata": {
        "id": "qemqx5vZQrQb"
      }
    },
    {
      "cell_type": "markdown",
      "source": [
        "range には、次の3種類のバリエーションがある。"
      ],
      "metadata": {
        "id": "iqN4A-5igntd"
      }
    },
    {
      "cell_type": "markdown",
      "source": [
        "### range(n）"
      ],
      "metadata": {
        "id": "rFcxbFkorG2x"
      }
    },
    {
      "cell_type": "markdown",
      "source": [
        "0から、その数の直前の n-1 まで1ずつ増えていく。"
      ],
      "metadata": {
        "id": "5KWnzorPrZC3"
      }
    },
    {
      "cell_type": "markdown",
      "source": [
        "【プログラム4301】"
      ],
      "metadata": {
        "id": "vv6mVjE-yZCz"
      }
    },
    {
      "cell_type": "code",
      "source": [
        "for i in range(10):\n",
        "    print(i)"
      ],
      "metadata": {
        "id": "Eft5IYVlrQno"
      },
      "execution_count": null,
      "outputs": []
    },
    {
      "cell_type": "markdown",
      "source": [
        "### range(s, e）"
      ],
      "metadata": {
        "id": "S5LWbNbcrM2_"
      }
    },
    {
      "cell_type": "markdown",
      "metadata": {
        "id": "B5W138uDxKro"
      },
      "source": [
        "s から、e-1 まで1ずつ増えていく。"
      ]
    },
    {
      "cell_type": "markdown",
      "source": [
        "【プログラム4302】"
      ],
      "metadata": {
        "id": "47T1Geljya2I"
      }
    },
    {
      "cell_type": "code",
      "metadata": {
        "id": "EBJn-TTmww3k"
      },
      "source": [
        "for i in range(1, 11):\n",
        "    print(i)"
      ],
      "execution_count": null,
      "outputs": []
    },
    {
      "cell_type": "markdown",
      "source": [
        "【プログラム4303】"
      ],
      "metadata": {
        "id": "qMrDD1cKyb7H"
      }
    },
    {
      "cell_type": "code",
      "source": [
        "for x in range(3, 11):\n",
        "    print(x)"
      ],
      "metadata": {
        "id": "r3RUWdaJRaH3"
      },
      "execution_count": null,
      "outputs": []
    },
    {
      "cell_type": "markdown",
      "metadata": {
        "id": "s4WwlPSbs2xu"
      },
      "source": [
        "### 確認問題"
      ]
    },
    {
      "cell_type": "markdown",
      "metadata": {
        "id": "nrd1U6Pps2xv"
      },
      "source": [
        "(1) 次のプログラムを実行すると何が表示されるか。実行せずに考えて、その後、実行して確認せよ。\n"
      ]
    },
    {
      "cell_type": "code",
      "metadata": {
        "id": "IqdtPl8is2xv"
      },
      "source": [
        "for i in range(1, 10):\n",
        "    for j in range(1, 10):\n",
        "        v = i * j\n",
        "        print(v, \" \", end=\"\")\n",
        "    print(\"\")"
      ],
      "execution_count": null,
      "outputs": []
    },
    {
      "cell_type": "markdown",
      "metadata": {
        "id": "g_HXup1ks2xw"
      },
      "source": [
        "(2) 次のプログラムは、先のプログラムの改良型である。どのように改良されたか。実行せずに考えて、その後、実行して確認せよ。"
      ]
    },
    {
      "cell_type": "code",
      "metadata": {
        "id": "poWbwnKSs2xw"
      },
      "source": [
        "for i in range(1, 10):\n",
        "    for j in range(1, 10):\n",
        "        v = i * j\n",
        "        if v < 10:\n",
        "            print(\"_\", end=\"\")\n",
        "        print(v, \" \", end=\"\")\n",
        "    print(\"\")"
      ],
      "execution_count": null,
      "outputs": []
    },
    {
      "cell_type": "markdown",
      "source": [
        "### range(s, e, d)"
      ],
      "metadata": {
        "id": "XHzSN9UGrlH7"
      }
    },
    {
      "cell_type": "markdown",
      "metadata": {
        "id": "f13H-Lvijn9b"
      },
      "source": [
        "s から、 s+d, s+2d, s+3d, と変化していく。（dが正なら増加、dが負なら減少。） e の上を通り過ぎないように止まる。"
      ]
    },
    {
      "cell_type": "markdown",
      "source": [
        "【プログラム4304】"
      ],
      "metadata": {
        "id": "umhkNKPFyes-"
      }
    },
    {
      "cell_type": "code",
      "source": [
        "for k in range(5, 12, 3):\n",
        "    print(k)"
      ],
      "metadata": {
        "id": "_tfF_5NGPQ-9"
      },
      "execution_count": null,
      "outputs": []
    },
    {
      "cell_type": "markdown",
      "source": [
        "【プログラム4305】"
      ],
      "metadata": {
        "id": "ZOevpdeGyfir"
      }
    },
    {
      "cell_type": "code",
      "metadata": {
        "id": "GUxsAj2Eja-L"
      },
      "source": [
        "for i in range(10, 0, -1):\n",
        "    print(i)"
      ],
      "execution_count": null,
      "outputs": []
    },
    {
      "cell_type": "markdown",
      "source": [
        "【プログラム4306】"
      ],
      "metadata": {
        "id": "iLQ0ciuPygbf"
      }
    },
    {
      "cell_type": "code",
      "source": [
        "for x in range(10, 0, -4):\n",
        "    print(x)"
      ],
      "metadata": {
        "id": "DkupRzkfR2ws"
      },
      "execution_count": null,
      "outputs": []
    },
    {
      "cell_type": "markdown",
      "source": [
        "### range からタプルやリストを作る"
      ],
      "metadata": {
        "id": "i7MOX0tpy8Fh"
      }
    },
    {
      "cell_type": "markdown",
      "source": [
        "rangeから、タプルやリストを作ることができる。"
      ],
      "metadata": {
        "id": "95poZw49zXtv"
      }
    },
    {
      "cell_type": "markdown",
      "source": [
        "【プログラム4307】"
      ],
      "metadata": {
        "id": "xiPoNocgyhoP"
      }
    },
    {
      "cell_type": "code",
      "source": [
        "menya = tuple(range(2, 9))\n",
        "print(menya)"
      ],
      "metadata": {
        "id": "kHsiCo6qy_3l"
      },
      "execution_count": null,
      "outputs": []
    },
    {
      "cell_type": "markdown",
      "source": [
        "【プログラム4308】"
      ],
      "metadata": {
        "id": "v6vlAb7lyio4"
      }
    },
    {
      "cell_type": "code",
      "source": [
        "konote = list(range(100, 80, -3))\n",
        "print(konote)"
      ],
      "metadata": {
        "id": "83Z4Y1atzi2T"
      },
      "execution_count": null,
      "outputs": []
    },
    {
      "cell_type": "markdown",
      "source": [
        "## 練習問題（練習問題の正答は、別の[シート](https://colab.research.google.com/drive/1ukN_JUlX5E5K54vzPGJ27XtM3xgidmyn)にあります。）"
      ],
      "metadata": {
        "id": "FGWusM-2Z36W"
      }
    },
    {
      "cell_type": "markdown",
      "source": [
        "【問題】1 から 100 までの数のうち、7 の倍数をすべて表示するプログラムを作れ。"
      ],
      "metadata": {
        "id": "WxFxjUo3r2Ru"
      }
    },
    {
      "cell_type": "code",
      "source": [],
      "metadata": {
        "id": "11XOdQGesBRX"
      },
      "execution_count": null,
      "outputs": []
    },
    {
      "cell_type": "markdown",
      "source": [
        "# 次の教材\n",
        "\n",
        "4.4 繰り返し回数を変化させる\n",
        "* https://colab.research.google.com/drive/1S45mrok8aVfIknHT7V86S_XZC1fWUdkM"
      ],
      "metadata": {
        "id": "2m1xo-4WVOm1"
      }
    }
  ]
}