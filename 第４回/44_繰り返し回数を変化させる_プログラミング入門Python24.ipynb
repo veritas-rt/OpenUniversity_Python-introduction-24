{
  "nbformat": 4,
  "nbformat_minor": 0,
  "metadata": {
    "colab": {
      "provenance": [],
      "collapsed_sections": [
        "WX4sRVO63me5",
        "FnSBdgK-Bwtz"
      ]
    },
    "kernelspec": {
      "name": "python3",
      "display_name": "Python 3"
    }
  },
  "cells": [
    {
      "cell_type": "markdown",
      "source": [
        "# 第4章 繰り返し、インデントスタイル、乱数"
      ],
      "metadata": {
        "id": "gFdzAZqv_Nri"
      }
    },
    {
      "cell_type": "markdown",
      "source": [
        " * 左上の「ファイル」を開いて、「ドライブにコピーを保存」をしてください。\n",
        " * 自分のGoogleドライブに、そのファイルが保存されます。ファイル名は「のコピー」が、最後（右端）についています。それを利用して学習・演習を進めて下さい。"
      ],
      "metadata": {
        "id": "lm7oxHNx4rIf"
      }
    },
    {
      "cell_type": "markdown",
      "source": [
        "# 4.4 繰り返し回数を変化させる"
      ],
      "metadata": {
        "id": "CZwBRVcit2Z6"
      }
    },
    {
      "cell_type": "markdown",
      "metadata": {
        "id": "aB1RJ0590XXM"
      },
      "source": [
        "数を入力して、その回数計算するプログラムを考える。\n",
        "* まず、入力されるのは数字の列であるから、必ず文字列である。したがって、それを回数に変化する必要がある。\n",
        "* 回数がわかったら、rangeで、その回数を利用した繰り返しを行う。\n"
      ]
    },
    {
      "cell_type": "markdown",
      "source": [
        "【プログラム4401】"
      ],
      "metadata": {
        "id": "jsgEAXsOyn1M"
      }
    },
    {
      "cell_type": "code",
      "source": [
        "n = int(input(\"n?\"))\n",
        "for i in range(n):\n",
        "    print(i)"
      ],
      "metadata": {
        "id": "vYVzSFS_Wlol"
      },
      "execution_count": null,
      "outputs": []
    },
    {
      "cell_type": "markdown",
      "source": [
        "上記の例を利用して、1からnまでの和を、変数 s に求めるプログラムを作ることができる。"
      ],
      "metadata": {
        "id": "wed6YLw6W1lW"
      }
    },
    {
      "cell_type": "markdown",
      "metadata": {
        "id": "wVFIfX2M0u46"
      },
      "source": [
        "次のプログラムの解説\n",
        "* 2行目：input は文字列を入力結果としている。これを数に変換する必要がある。関数 int は、入力された数字列を整数に変換する。\n",
        "* 4行目は、「sの値を i 増加させる」という命令である。「 s = s + i 」と計算結果は同じ。"
      ]
    },
    {
      "cell_type": "markdown",
      "source": [
        "【プログラム4402】"
      ],
      "metadata": {
        "id": "nozV9a0fyqdl"
      }
    },
    {
      "cell_type": "code",
      "metadata": {
        "id": "egB5WMVB0aPL"
      },
      "source": [
        "s = 0\n",
        "n = int(input('n?'))\n",
        "for i in range(n + 1):\n",
        "    s += i\n",
        "print('s=', s)"
      ],
      "execution_count": null,
      "outputs": []
    },
    {
      "cell_type": "markdown",
      "metadata": {
        "id": "45Xa9l3vx30o"
      },
      "source": [
        "### 繰返しながら途中を表示"
      ]
    },
    {
      "cell_type": "markdown",
      "metadata": {
        "id": "JqfyS8lynzqq"
      },
      "source": [
        "次のプログラムは途中経過も表示している。"
      ]
    },
    {
      "cell_type": "markdown",
      "source": [
        "【プログラム4403】"
      ],
      "metadata": {
        "id": "Mhk3lDuQyriH"
      }
    },
    {
      "cell_type": "code",
      "metadata": {
        "id": "pNC1Z9TDnv8t"
      },
      "source": [
        "s = 0\n",
        "n = int(input('n?'))\n",
        "for i in range(n + 1):\n",
        "    s += i\n",
        "    print('s=', s)"
      ],
      "execution_count": null,
      "outputs": []
    },
    {
      "cell_type": "markdown",
      "source": [
        "# 次の教材\n",
        "\n",
        "4.5 インデントスタイル\n",
        "* https://colab.research.google.com/drive/1wt2nR3_4OuCKG0CjJx-Yd-JwXD0Gn_C4"
      ],
      "metadata": {
        "id": "AE42VNnvVX9y"
      }
    }
  ]
}