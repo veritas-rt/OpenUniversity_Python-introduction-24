{
  "nbformat": 4,
  "nbformat_minor": 0,
  "metadata": {
    "colab": {
      "provenance": [],
      "collapsed_sections": [
        "WX4sRVO63me5",
        "FnSBdgK-Bwtz"
      ]
    },
    "kernelspec": {
      "name": "python3",
      "display_name": "Python 3"
    }
  },
  "cells": [
    {
      "cell_type": "markdown",
      "source": [
        "# 第4章 繰り返し、インデントスタイル、乱数"
      ],
      "metadata": {
        "id": "mHON3KhHJDNm"
      }
    },
    {
      "cell_type": "markdown",
      "source": [
        " * 左上の「ファイル」を開いて、「ドライブにコピーを保存」をしてください。\n",
        " * 自分のGoogleドライブに、そのファイルが保存されます。ファイル名は「のコピー」が、最後（右端）についています。それを利用して学習・演習を進めて下さい。"
      ],
      "metadata": {
        "id": "lm7oxHNx4rIf"
      }
    },
    {
      "cell_type": "markdown",
      "source": [
        "* for とタプルやリストをつかった繰り返し。\n",
        "* for と range を使った繰り返し。\n",
        "* インデントスタイル、多次元のタプル・リスト。\n",
        "* 乱数の考え方や、利用方法。"
      ],
      "metadata": {
        "id": "dbUMpRIX8ibJ"
      }
    },
    {
      "cell_type": "markdown",
      "source": [
        "# 4.1 条件を利用した繰り返し for"
      ],
      "metadata": {
        "id": "BhH6mow1Agb1"
      }
    },
    {
      "cell_type": "markdown",
      "source": [
        "## for とタプル・リストを利用した繰り返し"
      ],
      "metadata": {
        "id": "ahSMCOLOmrjP"
      }
    },
    {
      "cell_type": "markdown",
      "source": [
        "Python では、\n",
        "\n",
        "> for 変数名 in タプルあるいはリスト:\n",
        "\n",
        "という書き方を用いて繰り返しを行うことができる。\n",
        "\n",
        "* forの行の右端には、: （コロン）を書く。\n",
        "* 変数名は、この繰り返しのために利用する変数名となる。他で使われていない変数名を利用することが推奨される。\n",
        "* タプルあるいはリストの要素が、変数名に順番に代入されて、ブロックの中が実行される。"
      ],
      "metadata": {
        "id": "_EF4klaUcc_v"
      }
    },
    {
      "cell_type": "markdown",
      "source": [
        "次のプログラムは、トランプのカードの種類（スートという）をすべて表示する。"
      ],
      "metadata": {
        "id": "_xefZxVnY2t9"
      }
    },
    {
      "cell_type": "markdown",
      "source": [
        "【プログラム4101】"
      ],
      "metadata": {
        "id": "sIrfOWTuxIPa"
      }
    },
    {
      "cell_type": "code",
      "source": [
        "# タプルを利用した繰り返し\n",
        "for suit in (\"スペード\", \"ハート\", \"ダイヤ\", \"クラブ\"):\n",
        "    print(suit)"
      ],
      "metadata": {
        "id": "yThSfUs-dHGO"
      },
      "execution_count": null,
      "outputs": []
    },
    {
      "cell_type": "markdown",
      "source": [
        "繰り返しのタプルを別に定義してもよい。"
      ],
      "metadata": {
        "id": "bcSBtMQAacfP"
      }
    },
    {
      "cell_type": "markdown",
      "source": [
        "【プログラム4102】"
      ],
      "metadata": {
        "id": "isbokghuxK7Q"
      }
    },
    {
      "cell_type": "code",
      "source": [
        "# タプルを利用した繰り返し\n",
        "colors = (\"Midori\", \"Kiiro\", \"Aka\")\n",
        "\n",
        "for color in colors:\n",
        "    print(color)"
      ],
      "metadata": {
        "id": "gCNbzRCZ0f7x"
      },
      "execution_count": null,
      "outputs": []
    },
    {
      "cell_type": "markdown",
      "source": [
        "繰り返しにはリストを利用することもできる。"
      ],
      "metadata": {
        "id": "alWKekgeY5vu"
      }
    },
    {
      "cell_type": "markdown",
      "source": [
        "【プログラム4103】"
      ],
      "metadata": {
        "id": "c6AE8ng7xL1T"
      }
    },
    {
      "cell_type": "code",
      "source": [
        "# リストを利用した繰り返し\n",
        "Kisetsu = [\"Haru\", \"Natsu\", \"Aki\", \"Fuyu\"]\n",
        "\n",
        "for ima in Kisetsu:\n",
        "    print(ima)"
      ],
      "metadata": {
        "id": "vBppToIimvrW"
      },
      "execution_count": null,
      "outputs": []
    },
    {
      "cell_type": "markdown",
      "source": [
        "次のプログラムでは、 for は繰り返しの部分となるブロックを探しているが、見つからないためエラーになる。（動作しない。）"
      ],
      "metadata": {
        "id": "q7SzwoN4YueA"
      }
    },
    {
      "cell_type": "markdown",
      "source": [
        "【プログラム4104】"
      ],
      "metadata": {
        "id": "c-D7WlgFxM_U"
      }
    },
    {
      "cell_type": "code",
      "metadata": {
        "id": "tw3ZGwo5S0ZN"
      },
      "source": [
        "for city in (\"Tokyo\", \"Chiba\", \"Yokohama\", \"Mito\", \"Oomiya\", \"Utsunomiya\", \"Maebashi\"):\n",
        "print(city, len(city))"
      ],
      "execution_count": null,
      "outputs": []
    },
    {
      "cell_type": "markdown",
      "source": [
        "## ネスト（for に for を入れる）"
      ],
      "metadata": {
        "id": "XvAErlF7YP-Z"
      }
    },
    {
      "cell_type": "markdown",
      "source": [
        "次のプログラムは、トランプのカードの数字（ランクという）をすべて、横向きに表示する。"
      ],
      "metadata": {
        "id": "hO3HTlkabLWP"
      }
    },
    {
      "cell_type": "markdown",
      "source": [
        "【プログラム4105】"
      ],
      "metadata": {
        "id": "BSFb1AzCxN_B"
      }
    },
    {
      "cell_type": "code",
      "source": [
        "for rank in (\"A\", \"2\", \"3\", \"4\", \"5\", \"6\", \"7\", \"8\", \"9\", \"10\", \"J\", \"Q\", \"K\"):\n",
        "    print(rank + \" \", end=\"\")\n",
        "print(\"\") # 改行させるだけのために入れている"
      ],
      "metadata": {
        "id": "4PPGYOHpYjk0"
      },
      "execution_count": null,
      "outputs": []
    },
    {
      "cell_type": "markdown",
      "source": [
        "そこで、このプログラムを、トランプのカードの種類（スート）ごとに繰り返させることを考える。"
      ],
      "metadata": {
        "id": "3TOvdAF-kYf-"
      }
    },
    {
      "cell_type": "markdown",
      "source": [
        "たとえば、次のプログラムを考えることができる。"
      ],
      "metadata": {
        "id": "cLlbtvAyZdpc"
      }
    },
    {
      "cell_type": "markdown",
      "source": [
        "【プログラム4106】"
      ],
      "metadata": {
        "id": "maEWK-7sxPeX"
      }
    },
    {
      "cell_type": "code",
      "source": [
        "# まずはスペードでランクを列挙\n",
        "for rank in (\"A\", \"2\", \"3\", \"4\", \"5\", \"6\", \"7\", \"8\", \"9\", \"10\", \"J\", \"Q\", \"K\"):\n",
        "    print(\"スペード\" + rank + \" \", end=\"\")\n",
        "print(\"\") # 改行させるだけのために入れている\n",
        "\n",
        "# 次にハートでランクを列挙\n",
        "for rank in (\"A\", \"2\", \"3\", \"4\", \"5\", \"6\", \"7\", \"8\", \"9\", \"10\", \"J\", \"Q\", \"K\"):\n",
        "    print(\"ハート\" + rank + \" \", end=\"\")\n",
        "print(\"\") # 改行させるだけのために入れている\n",
        "\n",
        "# そしてダイヤでランクを列挙\n",
        "for rank in (\"A\", \"2\", \"3\", \"4\", \"5\", \"6\", \"7\", \"8\", \"9\", \"10\", \"J\", \"Q\", \"K\"):\n",
        "    print(\"ダイヤ\" + rank + \" \", end=\"\")\n",
        "print(\"\") # 改行させるだけのために入れている\n",
        "\n",
        "# 最後はクラブでランクを列挙\n",
        "for rank in (\"A\", \"2\", \"3\", \"4\", \"5\", \"6\", \"7\", \"8\", \"9\", \"10\", \"J\", \"Q\", \"K\"):\n",
        "    print(\"クラブ\" + rank + \" \", end=\"\")\n",
        "print(\"\") # 改行させるだけのために入れている"
      ],
      "metadata": {
        "id": "p8Oe4T2dZeB3"
      },
      "execution_count": null,
      "outputs": []
    },
    {
      "cell_type": "markdown",
      "source": [
        "しかし、この種類（スート）も繰り返しになっているので、for にまとめることができる。\n",
        "\n",
        "繰り返したい部分の「スペード」「ハート」「ダイヤ」「クラブ」の部分を変数名にして、さらに、繰り返し部分を4文字字下げして、for の繰り返しの中に for を入れることができる。"
      ],
      "metadata": {
        "id": "MxT_gZLVaDS8"
      }
    },
    {
      "cell_type": "markdown",
      "source": [
        "【プログラム4107】"
      ],
      "metadata": {
        "id": "ALic-O5sxRgm"
      }
    },
    {
      "cell_type": "code",
      "source": [
        "for suit in (\"スペード\", \"ハート\", \"ダイヤ\", \"クラブ\"):\n",
        "    for rank in (\"A\", \"2\", \"3\", \"4\", \"5\", \"6\", \"7\", \"8\", \"9\", \"10\", \"J\", \"Q\", \"K\"):\n",
        "        print(suit + rank + \" \", end=\"\")\n",
        "    print(\"\") # 改行させるだけのために入れている"
      ],
      "metadata": {
        "id": "L5_3kIs7dkm7"
      },
      "execution_count": null,
      "outputs": []
    },
    {
      "cell_type": "markdown",
      "source": [
        "このように、for の繰り返しの中に for を入れることを「for のネスト（入れ子）」という。"
      ],
      "metadata": {
        "id": "G41BfWMeZaZT"
      }
    },
    {
      "cell_type": "markdown",
      "source": [
        "なお、タプルの部分が長いので、最初に定義しておくとスッキリして見易くなる。"
      ],
      "metadata": {
        "id": "a4In0rZkdwON"
      }
    },
    {
      "cell_type": "markdown",
      "source": [
        "【プログラム4108】"
      ],
      "metadata": {
        "id": "-9K4FWE8xTFr"
      }
    },
    {
      "cell_type": "code",
      "source": [
        "suits_list = (\"スペード\", \"ハート\", \"ダイヤ\", \"クラブ\")\n",
        "ranks_list = (\"A\", \"2\", \"3\", \"4\", \"5\", \"6\", \"7\", \"8\", \"9\", \"10\", \"J\", \"Q\", \"K\")\n",
        "\n",
        "for suit in suits_list:\n",
        "    for rank in ranks_list:\n",
        "        print(suit + rank + \" \", end=\"\")\n",
        "    print(\"\") # 改行させるだけのために入れている"
      ],
      "metadata": {
        "id": "oGwIva-ddmPY"
      },
      "execution_count": null,
      "outputs": []
    },
    {
      "cell_type": "markdown",
      "source": [
        "### 確認問題　（確認問題の正答はありません。授業中に提示します）"
      ],
      "metadata": {
        "id": "hbswEJK3Gv9m"
      }
    },
    {
      "cell_type": "markdown",
      "source": [
        "次のプログラム（上のプログラムの4行目と5行目が異なっている）は、どのように表示をするか。実行する前に、よく考えて、その後、実行してから確認せよ。"
      ],
      "metadata": {
        "id": "IJxEqwbGmCN2"
      }
    },
    {
      "cell_type": "markdown",
      "source": [
        "【プログラム4109】"
      ],
      "metadata": {
        "id": "2YIzPwNQxVFP"
      }
    },
    {
      "cell_type": "code",
      "source": [
        "suits_list = (\"スペード\", \"ハート\", \"ダイヤ\", \"クラブ\")\n",
        "ranks_list = (\"A\", \"2\", \"3\", \"4\", \"5\", \"6\", \"7\", \"8\", \"9\", \"10\", \"J\", \"Q\", \"K\")\n",
        "\n",
        "for rank in ranks_list:\n",
        "    for suit in suits_list:\n",
        "        print(suit + rank, \"\", end=\"\")\n",
        "    print(\"\") # 改行させるだけのために入れている"
      ],
      "metadata": {
        "id": "5-t3ZYw_mBh_"
      },
      "execution_count": null,
      "outputs": []
    },
    {
      "cell_type": "markdown",
      "source": [
        "# 次の教材\n",
        "\n",
        "4.2 条件を利用した繰り返し for と range\n",
        "* https://colab.research.google.com/drive/1n4LYls32S-lNS8GOUv8hDGjWOdMmE4PO"
      ],
      "metadata": {
        "id": "mDmSkfxnQg_E"
      }
    }
  ]
}