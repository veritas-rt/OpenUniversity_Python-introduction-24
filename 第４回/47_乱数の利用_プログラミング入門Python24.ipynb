{
  "nbformat": 4,
  "nbformat_minor": 0,
  "metadata": {
    "colab": {
      "provenance": [],
      "collapsed_sections": [
        "WX4sRVO63me5",
        "FnSBdgK-Bwtz"
      ]
    },
    "kernelspec": {
      "name": "python3",
      "display_name": "Python 3"
    }
  },
  "cells": [
    {
      "cell_type": "markdown",
      "source": [
        "# 第4章 繰り返し、インデントスタイル、乱数"
      ],
      "metadata": {
        "id": "-fANuhIy_Omf"
      }
    },
    {
      "cell_type": "markdown",
      "source": [
        " * 左上の「ファイル」を開いて、「ドライブにコピーを保存」をしてください。\n",
        " * 自分のGoogleドライブに、そのファイルが保存されます。ファイル名は「のコピー」が、最後（右端）についています。それを利用して学習・演習を進めて下さい。"
      ],
      "metadata": {
        "id": "lm7oxHNx4rIf"
      }
    },
    {
      "cell_type": "markdown",
      "metadata": {
        "id": "j-h00uiMBOvd"
      },
      "source": [
        "# 4.7 乱数の利用"
      ]
    },
    {
      "cell_type": "markdown",
      "source": [
        "## 乱数とは"
      ],
      "metadata": {
        "id": "o6uJJwVWvp1g"
      }
    },
    {
      "cell_type": "markdown",
      "source": [
        "乱数とは、サイコロの目や、コインの表裏のように、「やってみないとわからない」値である。コンピュータの内部にある計算回路や、時計のデータなどを利用して求められる。\n",
        "\n",
        "乱数を使うと、ゲームができたり、後述するモンテカルロ法という計算方法を実現できる。"
      ],
      "metadata": {
        "id": "kd-0vN4q42AA"
      }
    },
    {
      "cell_type": "markdown",
      "source": [
        "### Python での乱数の利用、モジュールの利用"
      ],
      "metadata": {
        "id": "fS7OpV3-mY49"
      }
    },
    {
      "cell_type": "markdown",
      "source": [
        "Python では、乱数を利用するときは、乱数モジュール random の利用を宣言しておく必要がある。その後、random.random() で、0以上1未満の乱数を利用できる。以下では、 as rd でモジュールを導入しているので、 rd.random で呼び出す。"
      ],
      "metadata": {
        "id": "vh6gr1EambiU"
      }
    },
    {
      "cell_type": "markdown",
      "source": [
        "【プログラム4701】"
      ],
      "metadata": {
        "id": "EhHfZOMoy5Af"
      }
    },
    {
      "cell_type": "code",
      "source": [
        "import random as rd\n",
        "print(rd.random())"
      ],
      "metadata": {
        "id": "0gGAwxCwm4qu"
      },
      "execution_count": null,
      "outputs": []
    },
    {
      "cell_type": "markdown",
      "source": [
        "このあとに、次の表記で乱数を作ることができる。\n",
        "* rd.random()  → 0以上 1未満の数\n",
        "* rd.randint(a, b) → a以上 b以下の整数 **（b未満ではない）**"
      ],
      "metadata": {
        "id": "2SXhcl35nGmP"
      }
    },
    {
      "cell_type": "markdown",
      "source": [
        "【プログラム4702】"
      ],
      "metadata": {
        "id": "w11r8pXVy8HE"
      }
    },
    {
      "cell_type": "code",
      "source": [
        "import random as rd\n",
        "for _ in range(10):\n",
        "    print(rd.random())"
      ],
      "metadata": {
        "id": "b8DScNpDoKD8"
      },
      "execution_count": null,
      "outputs": []
    },
    {
      "cell_type": "markdown",
      "source": [
        "【プログラム4703】"
      ],
      "metadata": {
        "id": "_udhb_69y9NJ"
      }
    },
    {
      "cell_type": "code",
      "source": [
        "import random as rd\n",
        "for _ in range(10):\n",
        "    print(rd.randint(0, 6))"
      ],
      "metadata": {
        "id": "5lOqfcawnXp_"
      },
      "execution_count": null,
      "outputs": []
    },
    {
      "cell_type": "markdown",
      "source": [
        "### じゃんけんゲーム"
      ],
      "metadata": {
        "id": "Jk1Wfyo47WD8"
      }
    },
    {
      "cell_type": "markdown",
      "source": [
        "乱数を使ったじゃんけんゲームのプログラムを示す。\n",
        "\n",
        "* じゃんけんの手は3種類ある\n",
        "* te = (\"Gu\", \"Choki\", \"Pa\")　というタプルを定義しておくと、 te[0] が グー、te[1] がチョキ、te[2] がパーになる。\n",
        "* rd.randint(a, b)を利用する。a=0, b=2 とすべきだが、じゃんけんの手の種類が増えても大丈夫なように、2 ではなく、 len(te) - 1 にしておく。"
      ],
      "metadata": {
        "id": "WBKSyBNC7b5G"
      }
    },
    {
      "cell_type": "markdown",
      "source": [
        "【プログラム4704】"
      ],
      "metadata": {
        "id": "iuA-_LCsy-gu"
      }
    },
    {
      "cell_type": "code",
      "source": [
        "import random as rd # 乱数を発生させる関数ライブラリを取り込む\n",
        "\n",
        "te = (\"Gu\", \"Choki\", \"Pa\") # じゃんけんの手の定義\n",
        "x = rd.randint(0, len(te) - 1) # 0 以上 2 以下の整数\n",
        "print(te[x]) # 手を表示する"
      ],
      "metadata": {
        "id": "4V0TAlJ9899h"
      },
      "execution_count": null,
      "outputs": []
    },
    {
      "cell_type": "markdown",
      "source": [
        "### 確認問題\n",
        "\n",
        "じゃんけんの手を10回表示するプログラムを作れ。"
      ],
      "metadata": {
        "id": "M-P7wi5o-S6K"
      }
    },
    {
      "cell_type": "code",
      "source": [],
      "metadata": {
        "id": "LRuP-BzEJCp2"
      },
      "execution_count": null,
      "outputs": []
    },
    {
      "cell_type": "markdown",
      "source": [
        "### 研究問題"
      ],
      "metadata": {
        "id": "SRue41pnlsgi"
      }
    },
    {
      "cell_type": "markdown",
      "source": [
        "乱数と、matplotlib を用いて、偶然性のある点と直線による図形を描いてみよ。"
      ],
      "metadata": {
        "id": "9IsJZbyKlvWU"
      }
    },
    {
      "cell_type": "markdown",
      "source": [
        "## テスト用に乱数の列を作る"
      ],
      "metadata": {
        "id": "y9bxv4FVlFV_"
      }
    },
    {
      "cell_type": "markdown",
      "source": [
        "リストの作り方を前提にすると、乱数の列を作ることができる。"
      ],
      "metadata": {
        "id": "4933kU6Roz1y"
      }
    },
    {
      "cell_type": "markdown",
      "source": [
        "【プログラム4705】"
      ],
      "metadata": {
        "id": "HKQ-fdlHzAVp"
      }
    },
    {
      "cell_type": "code",
      "source": [
        "import random as rd #動作テスト用に乱数ライブラリを使うので、先に宣言しておく\n",
        "\n",
        "kosu = 12 # データの個数\n",
        "min_r, max_r = 0, 9999 # 乱数で出したい範囲の最大と最小\n",
        "\n",
        "narabi = [0] * kosu # まず、リストを用意する。最初は 0 が並んでいる。\n",
        "\n",
        "# 乱数 randint で定まった値をリストのそれぞれに入れる\n",
        "for _ in range(kosu):\n",
        "    narabi[_] = rd.randint(min_r, max_r)\n",
        "print(narabi)"
      ],
      "metadata": {
        "id": "2Iq-ZMhnoxie"
      },
      "execution_count": null,
      "outputs": []
    },
    {
      "cell_type": "markdown",
      "source": [
        "### リスト内包表記による乱数列の生成"
      ],
      "metadata": {
        "id": "fHVWXCbnEcFn"
      }
    },
    {
      "cell_type": "markdown",
      "source": [
        "リスト内包表記による乱数列の生成を行う。"
      ],
      "metadata": {
        "id": "U5zCivpwlKxF"
      }
    },
    {
      "cell_type": "markdown",
      "source": [
        "【プログラム4706】"
      ],
      "metadata": {
        "id": "bPO7A9bmzCk6"
      }
    },
    {
      "cell_type": "code",
      "source": [
        "import random as rd #動作テスト用に乱数ライブラリを使うので、先に宣言しておく\n",
        "\n",
        "# 0以上999以下の乱数を kosu 個生成してリストにする\n",
        "kosu = 12\n",
        "min_r, max_r = 0, 999\n",
        "\n",
        "# min_r 以上 max_r以下の乱数を kosu個 生成する\n",
        "narabi = [rd.randint(min_r, max_r) for _ in range(kosu)]"
      ],
      "metadata": {
        "id": "uDjJLVhLlOVG"
      },
      "execution_count": null,
      "outputs": []
    },
    {
      "cell_type": "markdown",
      "source": [
        "このようにして作成された乱数の列を用いて、様々な実験を行うことができる。"
      ],
      "metadata": {
        "id": "ZJtAt6D9lcJi"
      }
    }
  ]
}