{
  "nbformat": 4,
  "nbformat_minor": 0,
  "metadata": {
    "colab": {
      "provenance": [],
      "collapsed_sections": [
        "WX4sRVO63me5",
        "FnSBdgK-Bwtz"
      ]
    },
    "kernelspec": {
      "name": "python3",
      "display_name": "Python 3"
    }
  },
  "cells": [
    {
      "cell_type": "markdown",
      "source": [
        "# 第4章 繰り返し、インデントスタイル、乱数"
      ],
      "metadata": {
        "id": "-fANuhIy_Omf"
      }
    },
    {
      "cell_type": "markdown",
      "source": [
        " * 左上の「ファイル」を開いて、「ドライブにコピーを保存」をしてください。\n",
        " * 自分のGoogleドライブに、そのファイルが保存されます。ファイル名は「のコピー」が、最後（右端）についています。それを利用して学習・演習を進めて下さい。"
      ],
      "metadata": {
        "id": "lm7oxHNx4rIf"
      }
    },
    {
      "cell_type": "markdown",
      "source": [
        "# 4.6 リスト内包表記"
      ],
      "metadata": {
        "id": "TaAl4niOpATb"
      }
    },
    {
      "cell_type": "markdown",
      "source": [
        "リストを定義するときに、リストの中に for を入れる「リスト内包表記」という方法がある。\n",
        "\n",
        "> リスト名 = [式 for 変数 in range(5)]\n",
        "\n",
        "具体例で確認しておく。"
      ],
      "metadata": {
        "id": "jP6olWwHpFhh"
      }
    },
    {
      "cell_type": "markdown",
      "source": [
        "【プログラム4601】"
      ],
      "metadata": {
        "id": "CJ7ZFjsny0eO"
      }
    },
    {
      "cell_type": "code",
      "source": [
        "nijou = []\n",
        "for _ in range(10):\n",
        "    nijou.append(_ * _)\n",
        "\n",
        "print(nijou)"
      ],
      "metadata": {
        "id": "WQTlBA9Kp0kO"
      },
      "execution_count": null,
      "outputs": []
    },
    {
      "cell_type": "markdown",
      "source": [
        "このプログラムは、次のプログラムと同じ動きとなる。"
      ],
      "metadata": {
        "id": "K39vHF_jpw6m"
      }
    },
    {
      "cell_type": "markdown",
      "source": [
        "【プログラム4602】"
      ],
      "metadata": {
        "id": "3dd2hZVZy2KV"
      }
    },
    {
      "cell_type": "code",
      "source": [
        "nijou = [ _ * _ for _ in range(10)] # リスト内包表記による定義\n",
        "print(nijou)"
      ],
      "metadata": {
        "id": "D4rIODVIpX17"
      },
      "execution_count": null,
      "outputs": []
    },
    {
      "cell_type": "markdown",
      "source": [
        "## 練習問題（練習問題の正答は、別の[シート](https://colab.research.google.com/drive/1V_NHb7yjZylnHY8NcGZTi1uP4MZN2XQo)にあります。）"
      ],
      "metadata": {
        "id": "gmaMZ2pOhfJn"
      }
    },
    {
      "cell_type": "markdown",
      "source": [
        "【問題】我が国で発行されている硬貨の金額（単位は「円」）は、現在、500, 100, 50, 10, 5, 1 がある。金額を指定されたとき、その金額をすべて硬貨にすることを考える。このとき、なるべく硬貨の枚数を少なくしたい。\n",
        "\n",
        "与えられた金額に対して、500円硬貨を何枚用いることができるだろうか？その残りに対して、100円硬貨を何枚用いることができるだろうか？という計算を行っていく。\n",
        "\n",
        "* 例えば、1234円を示されたとする。\n",
        "* 1234円, 500円硬貨\n",
        " * 1234 // 500 = 2 であるから、500円硬貨は、最大で2枚使うことになる。\n",
        " * 1234 % 500 = 234 であるから、残り 234円を、100円以下の硬貨で構成することになる。\n",
        "* 234円, 100円硬貨\n",
        " * 234 // 100 = 2 であるから、100円硬貨は2枚。\n",
        " * 234 % 100 = 34 であるから、残りは34円。\n",
        "* 34円, 50円硬貨\n",
        " * 34 // 50 = 0 であるから、50円硬貨は0枚\n",
        " * 34 % 50 = 34 であるから、残りは34円。\n",
        "* 34円, 10円硬貨\n",
        " * 34 // 10 = 3 であるから、10円硬貨は3枚。\n",
        " * 34 % 10 = 4 であるから、残りは4円。\n",
        "* 4円, 5円硬貨\n",
        " * 4 // 5 = 0 であるから、5円硬貨は0枚。\n",
        " * 4 % 5 = 4  であるから、残りは4円。\n",
        "* 4円, 1円硬貨\n",
        " * 4 // 1 = 4  であるから、1円硬貨は4枚。\n",
        " * 4 % 1 = 0 であるから残りは0円。\n",
        "\n",
        "このように計算していくプログラムを作ってみよう。\n",
        "\n",
        "手順をよく見ると、次のようになっていることがわかる。\n",
        "\n",
        "* 現時点での残額と、次に使用する硬貨が決まると\n",
        " * 残額 // 硬貨額 が、硬貨の枚数\n",
        " * 残額 % 硬貨額 が、次の硬貨のための残額\n",
        "\n",
        "したがって、この2つの処理を、高い硬貨から順に繰り返していけばいい。"
      ],
      "metadata": {
        "id": "acGmJT8Nv33m"
      }
    },
    {
      "cell_type": "code",
      "source": [
        "# 硬貨の金額を定義する\n",
        "koukalist = (500, 100, 50, 10, 5, 1)\n",
        "\n",
        "# 金額を入力する\n",
        "p = int(input(\"how much?\"))\n",
        "\n",
        "# 以下各自"
      ],
      "metadata": {
        "id": "3_iLBZmh5pRw"
      },
      "execution_count": null,
      "outputs": []
    },
    {
      "cell_type": "markdown",
      "source": [
        "# 次の教材\n",
        "\n",
        "4.7 乱数の利用\n",
        "* https://colab.research.google.com/drive/1ZXTL6R76S54KbPxlQ5fDLMUa01evHG_y"
      ],
      "metadata": {
        "id": "_Do-zZkIM-Mw"
      }
    }
  ]
}