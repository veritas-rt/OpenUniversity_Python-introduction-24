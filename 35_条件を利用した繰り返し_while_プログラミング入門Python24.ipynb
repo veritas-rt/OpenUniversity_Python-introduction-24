{
  "nbformat": 4,
  "nbformat_minor": 0,
  "metadata": {
    "colab": {
      "provenance": [],
      "collapsed_sections": [
        "WX4sRVO63me5",
        "FnSBdgK-Bwtz"
      ],
      "include_colab_link": true
    },
    "kernelspec": {
      "name": "python3",
      "display_name": "Python 3"
    }
  },
  "cells": [
    {
      "cell_type": "markdown",
      "metadata": {
        "id": "view-in-github",
        "colab_type": "text"
      },
      "source": [
        "<a href=\"https://colab.research.google.com/github/veritas-rt/OpenUniversity_Python-introduction-24-/blob/main/35_%E6%9D%A1%E4%BB%B6%E3%82%92%E5%88%A9%E7%94%A8%E3%81%97%E3%81%9F%E7%B9%B0%E3%82%8A%E8%BF%94%E3%81%97_while_%E3%83%97%E3%83%AD%E3%82%B0%E3%83%A9%E3%83%9F%E3%83%B3%E3%82%B0%E5%85%A5%E9%96%80Python24.ipynb\" target=\"_parent\"><img src=\"https://colab.research.google.com/assets/colab-badge.svg\" alt=\"Open In Colab\"/></a>"
      ]
    },
    {
      "cell_type": "markdown",
      "source": [
        "# 第3章 プログラムによる問題解決、制御、数値表現、関数、繰り返し\n"
      ],
      "metadata": {
        "id": "ifz9erfF-UfD"
      }
    },
    {
      "cell_type": "markdown",
      "source": [
        " * 左上の「ファイル」を開いて、「ドライブにコピーを保存」をしてください。\n",
        " * 自分のGoogleドライブに、そのファイルが保存されます。ファイル名は「のコピー」が、最後（右端）についています。それを利用して学習・演習を進めて下さい。"
      ],
      "metadata": {
        "id": "lm7oxHNx4rIf"
      }
    },
    {
      "cell_type": "markdown",
      "source": [
        "# 3.5 条件を利用した繰り返し while"
      ],
      "metadata": {
        "id": "nwmjgsyg1UUT"
      }
    },
    {
      "cell_type": "markdown",
      "source": [
        "## while の利用"
      ],
      "metadata": {
        "id": "f31L54GmBIDy"
      }
    },
    {
      "cell_type": "markdown",
      "source": [
        "while は、ある条件が成り立っている間は、その下を繰り返す分岐点に書く。Python では、\n",
        "\n",
        "> while 条件:\n",
        "\n",
        "という書き方を用いて繰り返しを行うことができる。\n",
        "\n",
        "* whileの行の条件の右端には、: （コロン）　を書く。\n",
        "* 繰り返しをする部分（ループ部分）を ブロックで記述する。"
      ],
      "metadata": {
        "id": "ISTX3nCxnFjF"
      }
    },
    {
      "cell_type": "markdown",
      "source": [
        "次のプログラムでは、4行目から5行目までが、3行目のwhileが作るブロックとなる。"
      ],
      "metadata": {
        "id": "v6asY5v0nnOU"
      }
    },
    {
      "cell_type": "markdown",
      "source": [
        "【プログラム3501】"
      ],
      "metadata": {
        "id": "rOGL8Hb1xAe_"
      }
    },
    {
      "cell_type": "code",
      "source": [
        "n = 10\n",
        "i = 0\n",
        "while i < n: # 繰り返しに入るかどうかの分岐点\n",
        "    print(\"i =\", i)\n",
        "    i += 1 # i を 1 増やす\n",
        "\n",
        "print(\"owari\")"
      ],
      "metadata": {
        "id": "prSLXcpaBTtV"
      },
      "execution_count": null,
      "outputs": []
    },
    {
      "cell_type": "markdown",
      "source": [
        "i の値が、0 から 順に1ずつ増加し、やがて、 i < n を満たさなくなるので、while による繰り返しが終了する。"
      ],
      "metadata": {
        "id": "8DFVEQxvfpaL"
      }
    },
    {
      "cell_type": "markdown",
      "source": [
        "## 練習問題（練習問題の正答は、別の[シート](https://colab.research.google.com/drive/1izf1bq07L08AzuQyQ3TB0FrUL9x5pTBX)にあります。）"
      ],
      "metadata": {
        "id": "ULvmY8CKaPrM"
      }
    },
    {
      "cell_type": "markdown",
      "source": [
        "【問題】キーボードから、 100 以上の数が入力されるまで、止まらず入力を求め、100以上の数が入力されたら止まるプログラムを作れ。"
      ],
      "metadata": {
        "id": "NTKVAtoRbwc1"
      }
    },
    {
      "cell_type": "code",
      "source": [],
      "metadata": {
        "id": "xOb1GJGPbz6y"
      },
      "execution_count": null,
      "outputs": []
    },
    {
      "cell_type": "markdown",
      "source": [
        "## 練習問題（練習問題の正答は、別の[シート](https://colab.research.google.com/drive/1s6EXviFdtG-sD_R-CavngHL6TBYc3KZC)にあります。）"
      ],
      "metadata": {
        "id": "HbRKnWZrbvif"
      }
    },
    {
      "cell_type": "markdown",
      "source": [
        "【問題】キーボードから、 \"a\"　か \"b\" が入力されるまで、止まらずに入力を求め、\"a\" か \"b\" が入力されたら止まるプログラムを作れ。"
      ],
      "metadata": {
        "id": "O0fugAqpaLtL"
      }
    },
    {
      "cell_type": "code",
      "source": [],
      "metadata": {
        "id": "CA6nQLyCaLRQ"
      },
      "execution_count": null,
      "outputs": []
    }
  ]
}